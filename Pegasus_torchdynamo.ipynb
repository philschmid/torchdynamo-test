{
 "cells": [
  {
   "cell_type": "markdown",
   "metadata": {},
   "source": [
    "## Testing Torchdynamo for improving Pegasus"
   ]
  },
  {
   "cell_type": "code",
   "execution_count": 1,
   "metadata": {},
   "outputs": [
    {
     "name": "stdout",
     "output_type": "stream",
     "text": [
      "Thu Aug 11 12:46:10 2022       \r\n",
      "+-----------------------------------------------------------------------------+\r\n",
      "| NVIDIA-SMI 470.57.02    Driver Version: 470.57.02    CUDA Version: 11.4     |\r\n",
      "|-------------------------------+----------------------+----------------------+\r\n",
      "| GPU  Name        Persistence-M| Bus-Id        Disp.A | Volatile Uncorr. ECC |\r\n",
      "| Fan  Temp  Perf  Pwr:Usage/Cap|         Memory-Usage | GPU-Util  Compute M. |\r\n",
      "|                               |                      |               MIG M. |\r\n",
      "|===============================+======================+======================|\r\n",
      "|   0  Tesla T4            On   | 00000000:00:1E.0 Off |                    0 |\r\n",
      "| N/A   31C    P8     9W /  70W |      0MiB / 15109MiB |      0%      Default |\r\n",
      "|                               |                      |                  N/A |\r\n",
      "+-------------------------------+----------------------+----------------------+\r\n",
      "                                                                               \r\n",
      "+-----------------------------------------------------------------------------+\r\n",
      "| Processes:                                                                  |\r\n",
      "|  GPU   GI   CI        PID   Type   Process name                  GPU Memory |\r\n",
      "|        ID   ID                                                   Usage      |\r\n",
      "|=============================================================================|\r\n",
      "|  No running processes found                                                 |\r\n",
      "+-----------------------------------------------------------------------------+\r\n"
     ]
    }
   ],
   "source": [
    "!nvidia-smi"
   ]
  },
  {
   "cell_type": "markdown",
   "metadata": {},
   "source": [
    "## General utils"
   ]
  },
  {
   "cell_type": "code",
   "execution_count": 5,
   "metadata": {},
   "outputs": [],
   "source": [
    "from time import perf_counter\n",
    "import numpy as np\n",
    "\n",
    "def measure_latency(payload,model, tokenizer,num_beams=1):\n",
    "    latencies = []\n",
    "    # warm up\n",
    "    for _ in range(2):\n",
    "        _ = generate_from_model(payload,model, tokenizer,num_beams)\n",
    "    # Timed run\n",
    "    for _ in range(50):\n",
    "        start_time = perf_counter()\n",
    "        _ =  generate_from_model(payload,model, tokenizer,num_beams)\n",
    "        latency = perf_counter() - start_time\n",
    "        latencies.append(latency)\n",
    "    # Compute run statistics\n",
    "    time_avg_ms = 1000 * np.mean(latencies)\n",
    "    time_std_ms = 1000 * np.std(latencies)\n",
    "    time_p95_ms = 1000 * np.percentile(latencies,95)\n",
    "    return f\"P95 latency (ms) - {time_p95_ms}; Average latency (ms) - {time_avg_ms:.2f} +\\- {time_std_ms:.2f};\", time_p95_ms\n",
    "\n",
    "def generate_from_model(payload,model, tokenizer,num_beams=1):\n",
    "    encoded_input = tokenizer(payload, return_tensors='pt',pad_to_multiple_of=8)\n",
    "    output_sequences = model.generate(input_ids=encoded_input['input_ids'].to(device),\n",
    "                                      no_repeat_ngram_size=2,\n",
    "                                      early_stopping=True,\n",
    "                                      top_k=50,\n",
    "                                      top_p=0.95\n",
    "                                     )\n",
    "    return tokenizer.decode(output_sequences[0], skip_special_tokens=True)\n"
   ]
  },
  {
   "cell_type": "markdown",
   "metadata": {},
   "source": [
    "## Regular transformers"
   ]
  },
  {
   "cell_type": "code",
   "execution_count": 6,
   "metadata": {
    "id": "SOtcOWsOl2RY"
   },
   "outputs": [],
   "source": [
    "import torch\n",
    "from transformers import AutoTokenizer, AutoModelForSeq2SeqLM\n",
    "\n",
    "device = \"cuda:0\" if torch.cuda.is_available() else \"cpu\"\n",
    "\n",
    "tokenizer = AutoTokenizer.from_pretrained(\"RobertoFont/pegasus-large-samsum\")\n",
    "model = AutoModelForSeq2SeqLM.from_pretrained(\"RobertoFont/pegasus-large-samsum\").to(device)"
   ]
  },
  {
   "cell_type": "code",
   "execution_count": 7,
   "metadata": {
    "colab": {
     "base_uri": "https://localhost:8080/"
    },
    "id": "H8RJ1j4klzQe",
    "outputId": "e9751395-6e8c-490d-8fec-2b53d8653e85"
   },
   "outputs": [
    {
     "name": "stdout",
     "output_type": "stream",
     "text": [
      "Payload token length 1023\n"
     ]
    }
   ],
   "source": [
    "payload=\"Renee: Just saying Hi. Thought of you this morning.Layla misses you. She is having knee surgery. Hope you are doing well. Rachel: Renee! Hey! Whoa! So crazy that you wrote. I was literally thinking of you the other day as well. Rachel: I am doing really well, getting settled here and everything. Looking for a new job. Rachel: Layla is getting knew surgery?! What happened? Renee: Her arthritis got really bad. I saw her limping every time we went out for a walk, and so I took her to the vet and they decided she needs surgery. Rachel: Oh wow. That is really intense. I am sending her lots of love. Renee: Thanks Rachel. Renee: Here is a pic of Layla from this morning. Renee: <file_picture> Renee: She is all cute in her usual spot. Rachel: Ha! Yeah, I remember, she would always try to fit in there even though she's obviously too big Rachel: 😂 Renee: Yeah, she's always getting into some sort of silly situations. Renee: What kind of work are you looking for? Rachel: Just the usual, something with teaching. I am not too stressed yet, I have some savings. Renee: That's good, yeah, you don't want to have to feel pressured into taking a certain job. Renee: Just so you know, if you are ever back, you are more than welcome to come back and work for me. Renee: Layla is definitely missing you taking her on walks everyday. Rachel: Aw, yeah, I miss you guys too. Of course If I am ever back I am\" * 3\n",
    "\n",
    "print(f\"Payload token length {len(tokenizer(payload)['input_ids'])}\")"
   ]
  },
  {
   "cell_type": "code",
   "execution_count": 8,
   "metadata": {
    "colab": {
     "base_uri": "https://localhost:8080/",
     "height": 90
    },
    "id": "RNJV1j7SmDRP",
    "outputId": "f327f966-1f59-4a00-8317-cc89c13141b6"
   },
   "outputs": [
    {
     "data": {
      "text/plain": [
       "\"Renee's dog Layla is having knee surgery. Rachel is looking for a new job.\""
      ]
     },
     "execution_count": 8,
     "metadata": {},
     "output_type": "execute_result"
    }
   ],
   "source": [
    "input_ids = tokenizer(payload ,return_tensors=\"pt\")[\"input_ids\"].to(device)\n",
    "logits = model.generate(input_ids=input_ids)\n",
    "tokenizer.decode(logits[0],skip_special_tokens=True)\n"
   ]
  },
  {
   "cell_type": "code",
   "execution_count": 5,
   "metadata": {
    "colab": {
     "base_uri": "https://localhost:8080/",
     "height": 90
    },
    "id": "0xsOpUCTnp_O",
    "outputId": "52a7064f-e016-4997-ff1a-5e2152b2c508"
   },
   "outputs": [
    {
     "data": {
      "text/plain": [
       "'P95 latency (ms) - 849.1528070000868; Average latency (ms) - 834.87 +\\\\- 9.12;'"
      ]
     },
     "execution_count": 5,
     "metadata": {},
     "output_type": "execute_result"
    }
   ],
   "source": [
    "measure_latency(payload,model,tokenizer)[0]"
   ]
  },
  {
   "cell_type": "markdown",
   "metadata": {
    "id": "_kudo0edqhKw"
   },
   "source": [
    "**Beam Search (5)**\n",
    "\n",
    "```\n",
    "GPU: 'P95 latency (ms) - 681.1002442500694; Average latency (ms) - 674.37 +\\\\- 3.89;'\n",
    "TorchDynamo: \n",
    "```\n",
    "\n",
    "---\n",
    "\n",
    "**Generation args**\n",
    "\n",
    "```\n",
    "\"no_repeat_ngram_size\": 2,\n",
    "\"early_stopping\": True,\n",
    "\"top_k\": 50,\n",
    "\"top_p\": 0.95,\n",
    "```\n",
    "\n",
    "**Results**\n",
    "\n",
    "```\n",
    "GPU: 'P95 latency (ms) - 849.1528070000868; Average latency (ms) - 834.87 +\\\\- 9.12;'\n",
    "TorchDynamo: \n",
    "```\n",
    "\n",
    "\n"
   ]
  },
  {
   "cell_type": "markdown",
   "metadata": {
    "id": "1ez5XDcUq6J7"
   },
   "source": [
    "# Torchdynamo"
   ]
  },
  {
   "cell_type": "code",
   "execution_count": 2,
   "metadata": {
    "id": "uHNECpNPq9Z2"
   },
   "outputs": [
    {
     "data": {
      "text/plain": [
       "['ansor',\n",
       " 'aot_autograd',\n",
       " 'aot_cudagraphs',\n",
       " 'aot_nop',\n",
       " 'aot_nvfuser',\n",
       " 'aot_nvfuser_nodecomps',\n",
       " 'aot_print',\n",
       " 'aot_ts',\n",
       " 'autotune',\n",
       " 'cudagraphs',\n",
       " 'cudagraphs_ts',\n",
       " 'cudagraphs_ts_ofi',\n",
       " 'eager',\n",
       " 'fx2trt',\n",
       " 'inductor',\n",
       " 'ipex',\n",
       " 'nnc',\n",
       " 'nnc_ofi',\n",
       " 'nvfuser',\n",
       " 'nvfuser_ofi',\n",
       " 'ofi',\n",
       " 'onnx2tensorrt',\n",
       " 'onnx2tensorrt_alt',\n",
       " 'onnx2tf',\n",
       " 'onnxrt',\n",
       " 'onnxrt_cpu',\n",
       " 'onnxrt_cpu_numpy',\n",
       " 'onnxrt_cuda',\n",
       " 'prims_nvfuser',\n",
       " 'static_runtime',\n",
       " 'taso',\n",
       " 'tensorrt',\n",
       " 'torch2trt',\n",
       " 'ts',\n",
       " 'tvm',\n",
       " 'tvm_meta_schedule']"
      ]
     },
     "execution_count": 2,
     "metadata": {},
     "output_type": "execute_result"
    }
   ],
   "source": [
    "# list backends \n",
    "import torchdynamo\n",
    "\n",
    "torchdynamo.list_backends()"
   ]
  },
  {
   "cell_type": "markdown",
   "metadata": {},
   "source": [
    "get backend/optimizer"
   ]
  },
  {
   "cell_type": "code",
   "execution_count": 4,
   "metadata": {
    "id": "qbYm3-l6rUvP"
   },
   "outputs": [],
   "source": [
    "import torchdynamo\n",
    "from torchdynamo.optimizations import backends\n",
    "\n",
    "optimizer = torchdynamo.optimize(backends.fx2trt_compiler)"
   ]
  },
  {
   "cell_type": "markdown",
   "metadata": {},
   "source": [
    "optimize model"
   ]
  },
  {
   "cell_type": "code",
   "execution_count": null,
   "metadata": {},
   "outputs": [
    {
     "name": "stderr",
     "output_type": "stream",
     "text": [
      "ERROR FROM offset=44 filename /home/ubuntu/.local/lib/python3.8/site-packages/transformers/generation_utils.py 497 AssertionError\n"
     ]
    },
    {
     "name": "stdout",
     "output_type": "stream",
     "text": [
      "ERROR torchdynamo.optimizations.backends: FX2TRT conversion error\n",
      "Traceback (most recent call last):\n",
      "  File \"/home/ubuntu/torchdynamo-test/torchdynamo/torchdynamo/optimizations/backends.py\", line 333, in fx2trt\n",
      "    splitter_setting = TRTSplitterSetting()\n",
      "  File \"/home/ubuntu/.conda/envs/dyn/lib/python3.8/site-packages/torch_tensorrt/fx/tools/trt_splitter.py\", line 52, in __init__\n",
      "    self.exclude_support_node_name: set = set(self.op_lowering_disallow_list)\n",
      "AttributeError: 'TRTSplitterSetting' object has no attribute 'op_lowering_disallow_list'\n",
      "FX2TRT conversion failed on the subgraph. Return GraphModule forward instead\n",
      "ERROR torchdynamo.optimizations.backends: FX2TRT conversion error\n",
      "Traceback (most recent call last):\n",
      "  File \"/home/ubuntu/torchdynamo-test/torchdynamo/torchdynamo/optimizations/backends.py\", line 333, in fx2trt\n",
      "    splitter_setting = TRTSplitterSetting()\n",
      "  File \"/home/ubuntu/.conda/envs/dyn/lib/python3.8/site-packages/torch_tensorrt/fx/tools/trt_splitter.py\", line 52, in __init__\n",
      "    self.exclude_support_node_name: set = set(self.op_lowering_disallow_list)\n",
      "AttributeError: 'TRTSplitterSetting' object has no attribute 'op_lowering_disallow_list'\n"
     ]
    },
    {
     "name": "stderr",
     "output_type": "stream",
     "text": [
      "/home/ubuntu/.conda/envs/dyn/lib/python3.8/site-packages/torch_tensorrt/fx/tracer/acc_tracer/acc_tracer.py:546: UserWarning: acc_tracer does not support currently support models for training. Calling eval on model before tracing.\n",
      "  warnings.warn(\n",
      "/home/ubuntu/.conda/envs/dyn/lib/python3.8/site-packages/torch_tensorrt/fx/tracer/acc_tracer/acc_tracer.py:546: UserWarning: acc_tracer does not support currently support models for training. Calling eval on model before tracing.\n",
      "  warnings.warn(\n"
     ]
    },
    {
     "name": "stdout",
     "output_type": "stream",
     "text": [
      "FX2TRT conversion failed on the subgraph. Return GraphModule forward instead\n"
     ]
    },
    {
     "name": "stderr",
     "output_type": "stream",
     "text": [
      "/home/ubuntu/.conda/envs/dyn/lib/python3.8/site-packages/torch_tensorrt/fx/tracer/acc_tracer/acc_tracer.py:546: UserWarning: acc_tracer does not support currently support models for training. Calling eval on model before tracing.\n",
      "  warnings.warn(\n",
      "/home/ubuntu/.conda/envs/dyn/lib/python3.8/site-packages/torch/fx/operator_schemas.py:180: UserWarning: We were not able to successfully create type hint from the type (slice(<class 'NoneType'>, <class 'NoneType'>, <class 'NoneType'>), <class 'NoneType'>, <class 'NoneType'>, slice(<class 'NoneType'>, <class 'NoneType'>, <class 'NoneType'>))\n",
      "  warnings.warn(f\"We were not able to successfully create type hint from the type {x}\")\n"
     ]
    },
    {
     "name": "stdout",
     "output_type": "stream",
     "text": [
      "ERROR torchdynamo.optimizations.backends: FX2TRT conversion error\n",
      "Traceback (most recent call last):\n",
      "  File \"/home/ubuntu/torchdynamo-test/torchdynamo/torchdynamo/optimizations/backends.py\", line 333, in fx2trt\n",
      "    splitter_setting = TRTSplitterSetting()\n",
      "  File \"/home/ubuntu/.conda/envs/dyn/lib/python3.8/site-packages/torch_tensorrt/fx/tools/trt_splitter.py\", line 52, in __init__\n",
      "    self.exclude_support_node_name: set = set(self.op_lowering_disallow_list)\n",
      "AttributeError: 'TRTSplitterSetting' object has no attribute 'op_lowering_disallow_list'\n",
      "FX2TRT conversion failed on the subgraph. Return GraphModule forward instead\n",
      "ERROR torchdynamo.optimizations.backends: FX2TRT conversion error\n",
      "Traceback (most recent call last):\n",
      "  File \"/home/ubuntu/torchdynamo-test/torchdynamo/torchdynamo/optimizations/backends.py\", line 333, in fx2trt\n",
      "    splitter_setting = TRTSplitterSetting()\n",
      "  File \"/home/ubuntu/.conda/envs/dyn/lib/python3.8/site-packages/torch_tensorrt/fx/tools/trt_splitter.py\", line 52, in __init__\n",
      "    self.exclude_support_node_name: set = set(self.op_lowering_disallow_list)\n",
      "AttributeError: 'TRTSplitterSetting' object has no attribute 'op_lowering_disallow_list'\n",
      "FX2TRT conversion failed on the subgraph. Return GraphModule forward instead\n"
     ]
    },
    {
     "name": "stderr",
     "output_type": "stream",
     "text": [
      "/home/ubuntu/.conda/envs/dyn/lib/python3.8/site-packages/torch_tensorrt/fx/tracer/acc_tracer/acc_tracer.py:546: UserWarning: acc_tracer does not support currently support models for training. Calling eval on model before tracing.\n",
      "  warnings.warn(\n"
     ]
    },
    {
     "name": "stdout",
     "output_type": "stream",
     "text": [
      "ERROR torchdynamo.optimizations.backends: FX2TRT conversion error\n",
      "Traceback (most recent call last):\n",
      "  File \"/home/ubuntu/torchdynamo-test/torchdynamo/torchdynamo/optimizations/backends.py\", line 333, in fx2trt\n",
      "    splitter_setting = TRTSplitterSetting()\n",
      "  File \"/home/ubuntu/.conda/envs/dyn/lib/python3.8/site-packages/torch_tensorrt/fx/tools/trt_splitter.py\", line 52, in __init__\n",
      "    self.exclude_support_node_name: set = set(self.op_lowering_disallow_list)\n",
      "AttributeError: 'TRTSplitterSetting' object has no attribute 'op_lowering_disallow_list'\n",
      "FX2TRT conversion failed on the subgraph. Return GraphModule forward instead\n",
      "ERROR torchdynamo.optimizations.backends: FX2TRT conversion error\n",
      "Traceback (most recent call last):\n",
      "  File \"/home/ubuntu/torchdynamo-test/torchdynamo/torchdynamo/optimizations/backends.py\", line 333, in fx2trt\n",
      "    splitter_setting = TRTSplitterSetting()\n",
      "  File \"/home/ubuntu/.conda/envs/dyn/lib/python3.8/site-packages/torch_tensorrt/fx/tools/trt_splitter.py\", line 52, in __init__\n",
      "    self.exclude_support_node_name: set = set(self.op_lowering_disallow_list)\n",
      "AttributeError: 'TRTSplitterSetting' object has no attribute 'op_lowering_disallow_list'\n",
      "FX2TRT conversion failed on the subgraph. Return GraphModule forward instead\n",
      "ERROR torchdynamo.optimizations.backends: FX2TRT conversion error\n",
      "Traceback (most recent call last):\n",
      "  File \"/home/ubuntu/torchdynamo-test/torchdynamo/torchdynamo/optimizations/backends.py\", line 331, in fx2trt\n",
      "    acc_model = acc_tracer.trace(model, inputs)\n",
      "  File \"/home/ubuntu/.conda/envs/dyn/lib/python3.8/site-packages/torch_tensorrt/fx/tracer/acc_tracer/acc_tracer.py\", line 555, in trace\n",
      "    traced = rewriter_base_trace(mod, ast_rewriter_allow_list, leaf_module_list)\n",
      "  File \"/home/ubuntu/.conda/envs/dyn/lib/python3.8/site-packages/torch_tensorrt/fx/tracer/acc_tracer/acc_tracer.py\", line 481, in rewriter_base_trace\n",
      "    rewritten_graph, rewritten_mod = AccRewritingTracer().trace(\n",
      "  File \"/home/ubuntu/.conda/envs/dyn/lib/python3.8/site-packages/torch_tensorrt/fx/tracer/acc_tracer/acc_tracer.py\", line 285, in trace\n",
      "    return super().trace(rewritten, concrete_args), rewritten\n",
      "  File \"/home/ubuntu/torchdynamo-test/torchdynamo/torchdynamo/eval_frame.py\", line 94, in _fn\n",
      "    return fn(*args, **kwargs)\n",
      "  File \"/home/ubuntu/.conda/envs/dyn/lib/python3.8/site-packages/torch/fx/_symbolic_trace.py\", line 716, in trace\n",
      "    (self.create_arg(fn(*args)),),\n",
      "  File \"<eval_with_key>.67\", line 7, in forward\n",
      "    cat = torch.cat([getitem, -1000000000.0], 1);  getitem = None\n",
      "TypeError: expected Tensor as element 1 in argument 0, but got float\n",
      "FX2TRT conversion failed on the subgraph. Return GraphModule forward instead\n",
      "ERROR torchdynamo.optimizations.backends: FX2TRT conversion error\n",
      "Traceback (most recent call last):\n",
      "  File \"/home/ubuntu/torchdynamo-test/torchdynamo/torchdynamo/optimizations/backends.py\", line 333, in fx2trt\n",
      "    splitter_setting = TRTSplitterSetting()\n",
      "  File \"/home/ubuntu/.conda/envs/dyn/lib/python3.8/site-packages/torch_tensorrt/fx/tools/trt_splitter.py\", line 52, in __init__\n",
      "    self.exclude_support_node_name: set = set(self.op_lowering_disallow_list)\n",
      "AttributeError: 'TRTSplitterSetting' object has no attribute 'op_lowering_disallow_list'\n"
     ]
    },
    {
     "name": "stderr",
     "output_type": "stream",
     "text": [
      "/home/ubuntu/.conda/envs/dyn/lib/python3.8/site-packages/torch_tensorrt/fx/tracer/acc_tracer/acc_tracer.py:546: UserWarning: acc_tracer does not support currently support models for training. Calling eval on model before tracing.\n",
      "  warnings.warn(\n",
      "/home/ubuntu/.conda/envs/dyn/lib/python3.8/site-packages/torch_tensorrt/fx/tracer/acc_tracer/acc_tracer.py:546: UserWarning: acc_tracer does not support currently support models for training. Calling eval on model before tracing.\n",
      "  warnings.warn(\n",
      "/home/ubuntu/.conda/envs/dyn/lib/python3.8/site-packages/torch_tensorrt/fx/tracer/acc_tracer/acc_tracer.py:546: UserWarning: acc_tracer does not support currently support models for training. Calling eval on model before tracing.\n",
      "  warnings.warn(\n",
      "/home/ubuntu/.conda/envs/dyn/lib/python3.8/site-packages/torch_tensorrt/fx/tracer/acc_tracer/acc_tracer.py:546: UserWarning: acc_tracer does not support currently support models for training. Calling eval on model before tracing.\n",
      "  warnings.warn(\n",
      "/home/ubuntu/.conda/envs/dyn/lib/python3.8/site-packages/torch/fx/operator_schemas.py:180: UserWarning: We were not able to successfully create type hint from the type (slice(<class 'NoneType'>, <class 'NoneType'>, <class 'NoneType'>), <class 'NoneType'>, <class 'NoneType'>, slice(<class 'NoneType'>, <class 'NoneType'>, <class 'NoneType'>))\n",
      "  warnings.warn(f\"We were not able to successfully create type hint from the type {x}\")\n"
     ]
    },
    {
     "name": "stdout",
     "output_type": "stream",
     "text": [
      "FX2TRT conversion failed on the subgraph. Return GraphModule forward instead\n",
      "ERROR torchdynamo.optimizations.backends: FX2TRT conversion error\n",
      "Traceback (most recent call last):\n",
      "  File \"/home/ubuntu/torchdynamo-test/torchdynamo/torchdynamo/optimizations/backends.py\", line 333, in fx2trt\n",
      "    splitter_setting = TRTSplitterSetting()\n",
      "  File \"/home/ubuntu/.conda/envs/dyn/lib/python3.8/site-packages/torch_tensorrt/fx/tools/trt_splitter.py\", line 52, in __init__\n",
      "    self.exclude_support_node_name: set = set(self.op_lowering_disallow_list)\n",
      "AttributeError: 'TRTSplitterSetting' object has no attribute 'op_lowering_disallow_list'\n",
      "FX2TRT conversion failed on the subgraph. Return GraphModule forward instead\n"
     ]
    },
    {
     "name": "stderr",
     "output_type": "stream",
     "text": [
      "/home/ubuntu/.conda/envs/dyn/lib/python3.8/site-packages/torch_tensorrt/fx/tracer/acc_tracer/acc_tracer.py:546: UserWarning: acc_tracer does not support currently support models for training. Calling eval on model before tracing.\n",
      "  warnings.warn(\n",
      "/home/ubuntu/.conda/envs/dyn/lib/python3.8/site-packages/torch_tensorrt/fx/tracer/acc_tracer/acc_tracer.py:546: UserWarning: acc_tracer does not support currently support models for training. Calling eval on model before tracing.\n",
      "  warnings.warn(\n"
     ]
    },
    {
     "name": "stdout",
     "output_type": "stream",
     "text": [
      "ERROR torchdynamo.optimizations.backends: FX2TRT conversion error\n",
      "Traceback (most recent call last):\n",
      "  File \"/home/ubuntu/torchdynamo-test/torchdynamo/torchdynamo/optimizations/backends.py\", line 333, in fx2trt\n",
      "    splitter_setting = TRTSplitterSetting()\n",
      "  File \"/home/ubuntu/.conda/envs/dyn/lib/python3.8/site-packages/torch_tensorrt/fx/tools/trt_splitter.py\", line 52, in __init__\n",
      "    self.exclude_support_node_name: set = set(self.op_lowering_disallow_list)\n",
      "AttributeError: 'TRTSplitterSetting' object has no attribute 'op_lowering_disallow_list'\n",
      "FX2TRT conversion failed on the subgraph. Return GraphModule forward instead\n",
      "ERROR torchdynamo.optimizations.backends: FX2TRT conversion error\n",
      "Traceback (most recent call last):\n",
      "  File \"/home/ubuntu/torchdynamo-test/torchdynamo/torchdynamo/optimizations/backends.py\", line 333, in fx2trt\n",
      "    splitter_setting = TRTSplitterSetting()\n",
      "  File \"/home/ubuntu/.conda/envs/dyn/lib/python3.8/site-packages/torch_tensorrt/fx/tools/trt_splitter.py\", line 52, in __init__\n",
      "    self.exclude_support_node_name: set = set(self.op_lowering_disallow_list)\n",
      "AttributeError: 'TRTSplitterSetting' object has no attribute 'op_lowering_disallow_list'\n",
      "FX2TRT conversion failed on the subgraph. Return GraphModule forward instead\n",
      "ERROR torchdynamo.optimizations.backends: FX2TRT conversion error\n",
      "Traceback (most recent call last):\n",
      "  File \"/home/ubuntu/torchdynamo-test/torchdynamo/torchdynamo/optimizations/backends.py\", line 333, in fx2trt\n",
      "    splitter_setting = TRTSplitterSetting()\n",
      "  File \"/home/ubuntu/.conda/envs/dyn/lib/python3.8/site-packages/torch_tensorrt/fx/tools/trt_splitter.py\", line 52, in __init__\n",
      "    self.exclude_support_node_name: set = set(self.op_lowering_disallow_list)\n",
      "AttributeError: 'TRTSplitterSetting' object has no attribute 'op_lowering_disallow_list'\n",
      "FX2TRT conversion failed on the subgraph. Return GraphModule forward instead\n",
      "ERROR torchdynamo.optimizations.backends: FX2TRT conversion error\n",
      "Traceback (most recent call last):\n",
      "  File \"/home/ubuntu/torchdynamo-test/torchdynamo/torchdynamo/optimizations/backends.py\", line 333, in fx2trt\n",
      "    splitter_setting = TRTSplitterSetting()\n",
      "  File \"/home/ubuntu/.conda/envs/dyn/lib/python3.8/site-packages/torch_tensorrt/fx/tools/trt_splitter.py\", line 52, in __init__\n",
      "    self.exclude_support_node_name: set = set(self.op_lowering_disallow_list)\n",
      "AttributeError: 'TRTSplitterSetting' object has no attribute 'op_lowering_disallow_list'\n",
      "FX2TRT conversion failed on the subgraph. Return GraphModule forward instead\n"
     ]
    },
    {
     "name": "stderr",
     "output_type": "stream",
     "text": [
      "/home/ubuntu/.conda/envs/dyn/lib/python3.8/site-packages/torch_tensorrt/fx/tracer/acc_tracer/acc_tracer.py:546: UserWarning: acc_tracer does not support currently support models for training. Calling eval on model before tracing.\n",
      "  warnings.warn(\n",
      "/home/ubuntu/.conda/envs/dyn/lib/python3.8/site-packages/torch_tensorrt/fx/tracer/acc_tracer/acc_tracer.py:546: UserWarning: acc_tracer does not support currently support models for training. Calling eval on model before tracing.\n",
      "  warnings.warn(\n",
      "/home/ubuntu/.conda/envs/dyn/lib/python3.8/site-packages/torch_tensorrt/fx/tracer/acc_tracer/acc_tracer.py:546: UserWarning: acc_tracer does not support currently support models for training. Calling eval on model before tracing.\n",
      "  warnings.warn(\n",
      "/home/ubuntu/.conda/envs/dyn/lib/python3.8/site-packages/torch_tensorrt/fx/tracer/acc_tracer/acc_tracer.py:546: UserWarning: acc_tracer does not support currently support models for training. Calling eval on model before tracing.\n",
      "  warnings.warn(\n",
      "/home/ubuntu/.conda/envs/dyn/lib/python3.8/site-packages/torch/fx/operator_schemas.py:204: UserWarning: Does not support nested parametric types, got typing.List[~t]. Please file a bug.\n",
      "  warnings.warn(\n"
     ]
    },
    {
     "name": "stdout",
     "output_type": "stream",
     "text": [
      "ERROR torchdynamo.optimizations.backends: FX2TRT conversion error\n",
      "Traceback (most recent call last):\n",
      "  File \"/home/ubuntu/torchdynamo-test/torchdynamo/torchdynamo/optimizations/backends.py\", line 333, in fx2trt\n",
      "    splitter_setting = TRTSplitterSetting()\n",
      "  File \"/home/ubuntu/.conda/envs/dyn/lib/python3.8/site-packages/torch_tensorrt/fx/tools/trt_splitter.py\", line 52, in __init__\n",
      "    self.exclude_support_node_name: set = set(self.op_lowering_disallow_list)\n",
      "AttributeError: 'TRTSplitterSetting' object has no attribute 'op_lowering_disallow_list'\n",
      "FX2TRT conversion failed on the subgraph. Return GraphModule forward instead\n",
      "ERROR torchdynamo.optimizations.backends: FX2TRT conversion error\n",
      "Traceback (most recent call last):\n",
      "  File \"/home/ubuntu/torchdynamo-test/torchdynamo/torchdynamo/optimizations/backends.py\", line 333, in fx2trt\n",
      "    splitter_setting = TRTSplitterSetting()\n",
      "  File \"/home/ubuntu/.conda/envs/dyn/lib/python3.8/site-packages/torch_tensorrt/fx/tools/trt_splitter.py\", line 52, in __init__\n",
      "    self.exclude_support_node_name: set = set(self.op_lowering_disallow_list)\n",
      "AttributeError: 'TRTSplitterSetting' object has no attribute 'op_lowering_disallow_list'\n",
      "FX2TRT conversion failed on the subgraph. Return GraphModule forward instead\n",
      "ERROR torchdynamo.optimizations.backends: FX2TRT conversion error\n",
      "Traceback (most recent call last):\n",
      "  File \"/home/ubuntu/torchdynamo-test/torchdynamo/torchdynamo/optimizations/backends.py\", line 333, in fx2trt\n",
      "    splitter_setting = TRTSplitterSetting()\n",
      "  File \"/home/ubuntu/.conda/envs/dyn/lib/python3.8/site-packages/torch_tensorrt/fx/tools/trt_splitter.py\", line 52, in __init__\n",
      "    self.exclude_support_node_name: set = set(self.op_lowering_disallow_list)\n",
      "AttributeError: 'TRTSplitterSetting' object has no attribute 'op_lowering_disallow_list'\n",
      "FX2TRT conversion failed on the subgraph. Return GraphModule forward instead\n",
      "ERROR torchdynamo.optimizations.backends: FX2TRT conversion error\n",
      "Traceback (most recent call last):\n",
      "  File \"/home/ubuntu/torchdynamo-test/torchdynamo/torchdynamo/optimizations/backends.py\", line 333, in fx2trt\n",
      "    splitter_setting = TRTSplitterSetting()\n",
      "  File \"/home/ubuntu/.conda/envs/dyn/lib/python3.8/site-packages/torch_tensorrt/fx/tools/trt_splitter.py\", line 52, in __init__\n",
      "    self.exclude_support_node_name: set = set(self.op_lowering_disallow_list)\n",
      "AttributeError: 'TRTSplitterSetting' object has no attribute 'op_lowering_disallow_list'\n",
      "FX2TRT conversion failed on the subgraph. Return GraphModule forward instead\n",
      "ERROR torchdynamo.optimizations.backends: FX2TRT conversion error\n",
      "Traceback (most recent call last):\n",
      "  File \"/home/ubuntu/torchdynamo-test/torchdynamo/torchdynamo/optimizations/backends.py\", line 333, in fx2trt\n",
      "    splitter_setting = TRTSplitterSetting()\n",
      "  File \"/home/ubuntu/.conda/envs/dyn/lib/python3.8/site-packages/torch_tensorrt/fx/tools/trt_splitter.py\", line 52, in __init__\n",
      "    self.exclude_support_node_name: set = set(self.op_lowering_disallow_list)\n",
      "AttributeError: 'TRTSplitterSetting' object has no attribute 'op_lowering_disallow_list'\n"
     ]
    },
    {
     "name": "stderr",
     "output_type": "stream",
     "text": [
      "/home/ubuntu/.conda/envs/dyn/lib/python3.8/site-packages/torch_tensorrt/fx/tracer/acc_tracer/acc_tracer.py:546: UserWarning: acc_tracer does not support currently support models for training. Calling eval on model before tracing.\n",
      "  warnings.warn(\n",
      "/home/ubuntu/.conda/envs/dyn/lib/python3.8/site-packages/torch/fx/operator_schemas.py:204: UserWarning: Does not support nested parametric types, got typing.List[~t]. Please file a bug.\n",
      "  warnings.warn(\n",
      "/home/ubuntu/.conda/envs/dyn/lib/python3.8/site-packages/torch_tensorrt/fx/tracer/acc_tracer/acc_tracer.py:546: UserWarning: acc_tracer does not support currently support models for training. Calling eval on model before tracing.\n",
      "  warnings.warn(\n",
      "/home/ubuntu/.conda/envs/dyn/lib/python3.8/site-packages/torch/fx/operator_schemas.py:204: UserWarning: Does not support nested parametric types, got typing.List[~t]. Please file a bug.\n",
      "  warnings.warn(\n",
      "/home/ubuntu/.conda/envs/dyn/lib/python3.8/site-packages/torch_tensorrt/fx/tracer/acc_tracer/acc_tracer.py:546: UserWarning: acc_tracer does not support currently support models for training. Calling eval on model before tracing.\n",
      "  warnings.warn(\n",
      "/home/ubuntu/.conda/envs/dyn/lib/python3.8/site-packages/torch/fx/operator_schemas.py:204: UserWarning: Does not support nested parametric types, got typing.List[~t]. Please file a bug.\n",
      "  warnings.warn(\n",
      "/home/ubuntu/.conda/envs/dyn/lib/python3.8/site-packages/torch_tensorrt/fx/tracer/acc_tracer/acc_tracer.py:546: UserWarning: acc_tracer does not support currently support models for training. Calling eval on model before tracing.\n",
      "  warnings.warn(\n",
      "/home/ubuntu/.conda/envs/dyn/lib/python3.8/site-packages/torch/fx/operator_schemas.py:204: UserWarning: Does not support nested parametric types, got typing.List[~t]. Please file a bug.\n",
      "  warnings.warn(\n"
     ]
    },
    {
     "name": "stdout",
     "output_type": "stream",
     "text": [
      "FX2TRT conversion failed on the subgraph. Return GraphModule forward instead\n",
      "ERROR torchdynamo.optimizations.backends: FX2TRT conversion error\n",
      "Traceback (most recent call last):\n",
      "  File \"/home/ubuntu/torchdynamo-test/torchdynamo/torchdynamo/optimizations/backends.py\", line 333, in fx2trt\n",
      "    splitter_setting = TRTSplitterSetting()\n",
      "  File \"/home/ubuntu/.conda/envs/dyn/lib/python3.8/site-packages/torch_tensorrt/fx/tools/trt_splitter.py\", line 52, in __init__\n",
      "    self.exclude_support_node_name: set = set(self.op_lowering_disallow_list)\n",
      "AttributeError: 'TRTSplitterSetting' object has no attribute 'op_lowering_disallow_list'\n",
      "FX2TRT conversion failed on the subgraph. Return GraphModule forward instead\n",
      "ERROR torchdynamo.optimizations.backends: FX2TRT conversion error\n",
      "Traceback (most recent call last):\n",
      "  File \"/home/ubuntu/torchdynamo-test/torchdynamo/torchdynamo/optimizations/backends.py\", line 333, in fx2trt\n",
      "    splitter_setting = TRTSplitterSetting()\n",
      "  File \"/home/ubuntu/.conda/envs/dyn/lib/python3.8/site-packages/torch_tensorrt/fx/tools/trt_splitter.py\", line 52, in __init__\n",
      "    self.exclude_support_node_name: set = set(self.op_lowering_disallow_list)\n",
      "AttributeError: 'TRTSplitterSetting' object has no attribute 'op_lowering_disallow_list'\n",
      "FX2TRT conversion failed on the subgraph. Return GraphModule forward instead\n",
      "ERROR torchdynamo.optimizations.backends: FX2TRT conversion error\n",
      "Traceback (most recent call last):\n",
      "  File \"/home/ubuntu/torchdynamo-test/torchdynamo/torchdynamo/optimizations/backends.py\", line 333, in fx2trt\n",
      "    splitter_setting = TRTSplitterSetting()\n",
      "  File \"/home/ubuntu/.conda/envs/dyn/lib/python3.8/site-packages/torch_tensorrt/fx/tools/trt_splitter.py\", line 52, in __init__\n",
      "    self.exclude_support_node_name: set = set(self.op_lowering_disallow_list)\n",
      "AttributeError: 'TRTSplitterSetting' object has no attribute 'op_lowering_disallow_list'\n",
      "FX2TRT conversion failed on the subgraph. Return GraphModule forward instead\n",
      "ERROR torchdynamo.optimizations.backends: FX2TRT conversion error\n",
      "Traceback (most recent call last):\n",
      "  File \"/home/ubuntu/torchdynamo-test/torchdynamo/torchdynamo/optimizations/backends.py\", line 333, in fx2trt\n",
      "    splitter_setting = TRTSplitterSetting()\n",
      "  File \"/home/ubuntu/.conda/envs/dyn/lib/python3.8/site-packages/torch_tensorrt/fx/tools/trt_splitter.py\", line 52, in __init__\n",
      "    self.exclude_support_node_name: set = set(self.op_lowering_disallow_list)\n",
      "AttributeError: 'TRTSplitterSetting' object has no attribute 'op_lowering_disallow_list'\n",
      "FX2TRT conversion failed on the subgraph. Return GraphModule forward instead\n",
      "ERROR torchdynamo.optimizations.backends: FX2TRT conversion error\n",
      "Traceback (most recent call last):\n",
      "  File \"/home/ubuntu/torchdynamo-test/torchdynamo/torchdynamo/optimizations/backends.py\", line 333, in fx2trt\n",
      "    splitter_setting = TRTSplitterSetting()\n",
      "  File \"/home/ubuntu/.conda/envs/dyn/lib/python3.8/site-packages/torch_tensorrt/fx/tools/trt_splitter.py\", line 52, in __init__\n",
      "    self.exclude_support_node_name: set = set(self.op_lowering_disallow_list)\n",
      "AttributeError: 'TRTSplitterSetting' object has no attribute 'op_lowering_disallow_list'\n"
     ]
    },
    {
     "name": "stderr",
     "output_type": "stream",
     "text": [
      "/home/ubuntu/.conda/envs/dyn/lib/python3.8/site-packages/torch_tensorrt/fx/tracer/acc_tracer/acc_tracer.py:546: UserWarning: acc_tracer does not support currently support models for training. Calling eval on model before tracing.\n",
      "  warnings.warn(\n",
      "/home/ubuntu/.conda/envs/dyn/lib/python3.8/site-packages/torch/fx/operator_schemas.py:204: UserWarning: Does not support nested parametric types, got typing.List[~t]. Please file a bug.\n",
      "  warnings.warn(\n",
      "/home/ubuntu/.conda/envs/dyn/lib/python3.8/site-packages/torch_tensorrt/fx/tracer/acc_tracer/acc_tracer.py:546: UserWarning: acc_tracer does not support currently support models for training. Calling eval on model before tracing.\n",
      "  warnings.warn(\n",
      "/home/ubuntu/.conda/envs/dyn/lib/python3.8/site-packages/torch/fx/operator_schemas.py:204: UserWarning: Does not support nested parametric types, got typing.List[~t]. Please file a bug.\n",
      "  warnings.warn(\n",
      "/home/ubuntu/.conda/envs/dyn/lib/python3.8/site-packages/torch_tensorrt/fx/tracer/acc_tracer/acc_tracer.py:546: UserWarning: acc_tracer does not support currently support models for training. Calling eval on model before tracing.\n",
      "  warnings.warn(\n",
      "/home/ubuntu/.conda/envs/dyn/lib/python3.8/site-packages/torch/fx/operator_schemas.py:204: UserWarning: Does not support nested parametric types, got typing.List[~t]. Please file a bug.\n",
      "  warnings.warn(\n",
      "/home/ubuntu/.conda/envs/dyn/lib/python3.8/site-packages/torch_tensorrt/fx/tracer/acc_tracer/acc_tracer.py:546: UserWarning: acc_tracer does not support currently support models for training. Calling eval on model before tracing.\n",
      "  warnings.warn(\n",
      "/home/ubuntu/.conda/envs/dyn/lib/python3.8/site-packages/torch_tensorrt/fx/tracer/acc_tracer/acc_tracer.py:546: UserWarning: acc_tracer does not support currently support models for training. Calling eval on model before tracing.\n",
      "  warnings.warn(\n"
     ]
    },
    {
     "name": "stdout",
     "output_type": "stream",
     "text": [
      "FX2TRT conversion failed on the subgraph. Return GraphModule forward instead\n",
      "ERROR torchdynamo.optimizations.backends: FX2TRT conversion error\n",
      "Traceback (most recent call last):\n",
      "  File \"/home/ubuntu/torchdynamo-test/torchdynamo/torchdynamo/optimizations/backends.py\", line 331, in fx2trt\n",
      "    acc_model = acc_tracer.trace(model, inputs)\n",
      "  File \"/home/ubuntu/.conda/envs/dyn/lib/python3.8/site-packages/torch_tensorrt/fx/tracer/acc_tracer/acc_tracer.py\", line 555, in trace\n",
      "    traced = rewriter_base_trace(mod, ast_rewriter_allow_list, leaf_module_list)\n",
      "  File \"/home/ubuntu/.conda/envs/dyn/lib/python3.8/site-packages/torch_tensorrt/fx/tracer/acc_tracer/acc_tracer.py\", line 481, in rewriter_base_trace\n",
      "    rewritten_graph, rewritten_mod = AccRewritingTracer().trace(\n",
      "  File \"/home/ubuntu/.conda/envs/dyn/lib/python3.8/site-packages/torch_tensorrt/fx/tracer/acc_tracer/acc_tracer.py\", line 285, in trace\n",
      "    return super().trace(rewritten, concrete_args), rewritten\n",
      "  File \"/home/ubuntu/torchdynamo-test/torchdynamo/torchdynamo/eval_frame.py\", line 94, in _fn\n",
      "    return fn(*args, **kwargs)\n",
      "  File \"/home/ubuntu/.conda/envs/dyn/lib/python3.8/site-packages/torch/fx/_symbolic_trace.py\", line 716, in trace\n",
      "    (self.create_arg(fn(*args)),),\n",
      "  File \"<eval_with_key>.233\", line 7, in forward\n",
      "    cat = torch.cat([getitem, False, getitem_1], 0);  getitem = getitem_1 = None\n",
      "TypeError: expected Tensor as element 1 in argument 0, but got bool\n",
      "FX2TRT conversion failed on the subgraph. Return GraphModule forward instead\n"
     ]
    },
    {
     "name": "stderr",
     "output_type": "stream",
     "text": [
      "/home/ubuntu/.conda/envs/dyn/lib/python3.8/site-packages/torch_tensorrt/fx/tracer/acc_tracer/acc_tracer.py:546: UserWarning: acc_tracer does not support currently support models for training. Calling eval on model before tracing.\n",
      "  warnings.warn(\n"
     ]
    },
    {
     "name": "stdout",
     "output_type": "stream",
     "text": [
      "ERROR torchdynamo.optimizations.backends: FX2TRT conversion error\n",
      "Traceback (most recent call last):\n",
      "  File \"/home/ubuntu/torchdynamo-test/torchdynamo/torchdynamo/optimizations/backends.py\", line 333, in fx2trt\n",
      "    splitter_setting = TRTSplitterSetting()\n",
      "  File \"/home/ubuntu/.conda/envs/dyn/lib/python3.8/site-packages/torch_tensorrt/fx/tools/trt_splitter.py\", line 52, in __init__\n",
      "    self.exclude_support_node_name: set = set(self.op_lowering_disallow_list)\n",
      "AttributeError: 'TRTSplitterSetting' object has no attribute 'op_lowering_disallow_list'\n",
      "FX2TRT conversion failed on the subgraph. Return GraphModule forward instead\n",
      "ERROR torchdynamo.optimizations.backends: FX2TRT conversion error\n",
      "Traceback (most recent call last):\n",
      "  File \"/home/ubuntu/torchdynamo-test/torchdynamo/torchdynamo/optimizations/backends.py\", line 333, in fx2trt\n",
      "    splitter_setting = TRTSplitterSetting()\n",
      "  File \"/home/ubuntu/.conda/envs/dyn/lib/python3.8/site-packages/torch_tensorrt/fx/tools/trt_splitter.py\", line 52, in __init__\n",
      "    self.exclude_support_node_name: set = set(self.op_lowering_disallow_list)\n",
      "AttributeError: 'TRTSplitterSetting' object has no attribute 'op_lowering_disallow_list'\n",
      "FX2TRT conversion failed on the subgraph. Return GraphModule forward instead\n",
      "ERROR torchdynamo.optimizations.backends: FX2TRT conversion error\n",
      "Traceback (most recent call last):\n",
      "  File \"/home/ubuntu/torchdynamo-test/torchdynamo/torchdynamo/optimizations/backends.py\", line 333, in fx2trt\n",
      "    splitter_setting = TRTSplitterSetting()\n",
      "  File \"/home/ubuntu/.conda/envs/dyn/lib/python3.8/site-packages/torch_tensorrt/fx/tools/trt_splitter.py\", line 52, in __init__\n",
      "    self.exclude_support_node_name: set = set(self.op_lowering_disallow_list)\n",
      "AttributeError: 'TRTSplitterSetting' object has no attribute 'op_lowering_disallow_list'\n"
     ]
    },
    {
     "name": "stderr",
     "output_type": "stream",
     "text": [
      "/home/ubuntu/.conda/envs/dyn/lib/python3.8/site-packages/torch_tensorrt/fx/tracer/acc_tracer/acc_tracer.py:546: UserWarning: acc_tracer does not support currently support models for training. Calling eval on model before tracing.\n",
      "  warnings.warn(\n",
      "========== TorchDynamo Stack Trace ==========\n",
      "Traceback (most recent call last):\n",
      "  File \"/home/ubuntu/torchdynamo-test/torchdynamo/torchdynamo/convert_frame.py\", line 305, in _convert_frame_assert\n",
      "    check_fn = CheckFunctionManager(\n",
      "  File \"/home/ubuntu/torchdynamo-test/torchdynamo/torchdynamo/guards.py\", line 509, in __init__\n",
      "    self.check_fn = self.compile_check_fn(local_builder, global_builder)\n",
      "  File \"/home/ubuntu/torchdynamo-test/torchdynamo/torchdynamo/guards.py\", line 570, in compile_check_fn\n",
      "    exec(py_code, global_builder.scope, out)\n",
      "  File \"<string>\", line 3\n",
      "    return lambda past,beam_idx,None,**___kwargs_ignored: ___guarded_code.valid and ___check_type_id(past, 94017365562432) and len(past) == 16 and ___check_type_id(past[0], 94017365562432) and len(past[0]) == 4 and ___check_type_id(past[1], 94017365562432) and len(past[1]) == 4 and ___check_type_id(past[2], 94017365562432) and len(past[2]) == 4 and ___check_type_id(past[3], 94017365562432) and len(past[3]) == 4 and ___check_type_id(past[4], 94017365562432) and len(past[4]) == 4 and ___check_type_id(past[5], 94017365562432) and len(past[5]) == 4 and ___check_type_id(past[6], 94017365562432) and len(past[6]) == 4 and ___check_type_id(past[7], 94017365562432) and len(past[7]) == 4 and ___check_type_id(past[8], 94017365562432) and len(past[8]) == 4 and ___check_type_id(past[9], 94017365562432) and len(past[9]) == 4 and ___check_type_id(past[10], 94017365562432) and len(past[10]) == 4 and ___check_type_id(past[11], 94017365562432) and len(past[11]) == 4 and ___check_type_id(past[12], 94017365562432) and len(past[12]) == 4 and ___check_type_id(past[13], 94017365562432) and len(past[13]) == 4 and ___check_type_id(past[14], 94017365562432) and len(past[14]) == 4 and ___check_type_id(past[15], 94017365562432) and len(past[15]) == 4 and ___check_type_id(past[0][slice(None, 2, None)], 94017365562432) and len(past[0][slice(None, 2, None)]) == 2 and ___check_type_id(past[1][slice(None, 2, None)], 94017365562432) and len(past[1][slice(None, 2, None)]) == 2 and ___check_type_id(past[2][slice(None, 2, None)], 94017365562432) and len(past[2][slice(None, 2, None)]) == 2 and ___check_type_id(past[3][slice(None, 2, None)], 94017365562432) and len(past[3][slice(None, 2, None)]) == 2 and ___check_type_id(past[4][slice(None, 2, None)], 94017365562432) and len(past[4][slice(None, 2, None)]) == 2 and ___check_type_id(past[5][slice(None, 2, None)], 94017365562432) and len(past[5][slice(None, 2, None)]) == 2 and ___check_type_id(past[6][slice(None, 2, None)], 94017365562432) and len(past[6][slice(None, 2, None)]) == 2 and ___check_type_id(past[7][slice(None, 2, None)], 94017365562432) and len(past[7][slice(None, 2, None)]) == 2 and ___check_type_id(past[8][slice(None, 2, None)], 94017365562432) and len(past[8][slice(None, 2, None)]) == 2 and ___check_type_id(past[9][slice(None, 2, None)], 94017365562432) and len(past[9][slice(None, 2, None)]) == 2 and ___check_type_id(past[10][slice(None, 2, None)], 94017365562432) and len(past[10][slice(None, 2, None)]) == 2 and ___check_type_id(past[11][slice(None, 2, None)], 94017365562432) and len(past[11][slice(None, 2, None)]) == 2 and ___check_type_id(past[12][slice(None, 2, None)], 94017365562432) and len(past[12][slice(None, 2, None)]) == 2 and ___check_type_id(past[13][slice(None, 2, None)], 94017365562432) and len(past[13][slice(None, 2, None)]) == 2 and ___check_type_id(past[14][slice(None, 2, None)], 94017365562432) and len(past[14][slice(None, 2, None)]) == 2 and ___check_type_id(past[15][slice(None, 2, None)], 94017365562432) and len(past[15][slice(None, 2, None)]) == 2 and ___check_tensors(beam_idx, past[0][0], past[0][1], past[0][2], past[0][3], past[1][0], past[1][1], past[1][2], past[1][3], past[2][0], past[2][1], past[2][2], past[2][3], past[3][0], past[3][1], past[3][2], past[3][3], past[4][0], past[4][1], past[4][2], past[4][3], past[5][0], past[5][1], past[5][2], past[5][3], past[6][0], past[6][1], past[6][2], past[6][3], past[7][0], past[7][1], past[7][2], past[7][3], past[8][0], past[8][1], past[8][2], past[8][3], past[9][0], past[9][1], past[9][2], past[9][3], past[10][0], past[10][1], past[10][2], past[10][3], past[11][0], past[11][1], past[11][2], past[11][3], past[12][0], past[12][1], past[12][2], past[12][3], past[13][0], past[13][1], past[13][2], past[13][3], past[14][0], past[14][1], past[14][2], past[14][3], past[15][0], past[15][1], past[15][2], past[15][3])\n",
      "                                ^\n",
      "SyntaxError: invalid syntax\n",
      "========== Exception (above) while processing ==========\n",
      "  File \"/home/ubuntu/.conda/envs/dyn/lib/python3.8/runpy.py\", line 194, in _run_module_as_main\n",
      "    return _run_code(code, main_globals, None,\n",
      "  File \"/home/ubuntu/.conda/envs/dyn/lib/python3.8/runpy.py\", line 87, in _run_code\n",
      "    exec(code, run_globals)\n",
      "  File \"/home/ubuntu/.local/lib/python3.8/site-packages/ipykernel_launcher.py\", line 17, in <module>\n",
      "    app.launch_new_instance()\n",
      "  File \"/home/ubuntu/.conda/envs/dyn/lib/python3.8/site-packages/traitlets/config/application.py\", line 976, in launch_instance\n",
      "    app.start()\n",
      "  File \"/home/ubuntu/.local/lib/python3.8/site-packages/ipykernel/kernelapp.py\", line 712, in start\n",
      "    self.io_loop.start()\n",
      "  File \"/home/ubuntu/.local/lib/python3.8/site-packages/tornado/platform/asyncio.py\", line 215, in start\n",
      "    self.asyncio_loop.run_forever()\n",
      "  File \"/home/ubuntu/.conda/envs/dyn/lib/python3.8/asyncio/base_events.py\", line 570, in run_forever\n",
      "    self._run_once()\n",
      "  File \"/home/ubuntu/.conda/envs/dyn/lib/python3.8/asyncio/base_events.py\", line 1859, in _run_once\n",
      "    handle._run()\n",
      "  File \"/home/ubuntu/.conda/envs/dyn/lib/python3.8/asyncio/events.py\", line 81, in _run\n",
      "    self._context.run(self._callback, *self._args)\n",
      "  File \"/home/ubuntu/.local/lib/python3.8/site-packages/ipykernel/kernelbase.py\", line 510, in dispatch_queue\n",
      "    await self.process_one()\n",
      "  File \"/home/ubuntu/.local/lib/python3.8/site-packages/ipykernel/kernelbase.py\", line 499, in process_one\n",
      "    await dispatch(*args)\n",
      "  File \"/home/ubuntu/.local/lib/python3.8/site-packages/ipykernel/kernelbase.py\", line 406, in dispatch_shell\n",
      "    await result\n",
      "  File \"/home/ubuntu/.local/lib/python3.8/site-packages/ipykernel/kernelbase.py\", line 730, in execute_request\n",
      "    reply_content = await reply_content\n",
      "  File \"/home/ubuntu/.local/lib/python3.8/site-packages/ipykernel/ipkernel.py\", line 383, in do_execute\n",
      "    res = shell.run_cell(\n",
      "  File \"/home/ubuntu/.local/lib/python3.8/site-packages/ipykernel/zmqshell.py\", line 528, in run_cell\n",
      "    return super().run_cell(*args, **kwargs)\n",
      "  File \"/home/ubuntu/.conda/envs/dyn/lib/python3.8/site-packages/IPython/core/interactiveshell.py\", line 2881, in run_cell\n",
      "    result = self._run_cell(\n",
      "  File \"/home/ubuntu/.conda/envs/dyn/lib/python3.8/site-packages/IPython/core/interactiveshell.py\", line 2936, in _run_cell\n",
      "    return runner(coro)\n",
      "  File \"/home/ubuntu/.conda/envs/dyn/lib/python3.8/site-packages/IPython/core/async_helpers.py\", line 129, in _pseudo_sync_runner\n",
      "    coro.send(None)\n",
      "  File \"/home/ubuntu/.conda/envs/dyn/lib/python3.8/site-packages/IPython/core/interactiveshell.py\", line 3135, in run_cell_async\n",
      "    has_raised = await self.run_ast_nodes(code_ast.body, cell_name,\n",
      "  File \"/home/ubuntu/.conda/envs/dyn/lib/python3.8/site-packages/IPython/core/interactiveshell.py\", line 3338, in run_ast_nodes\n",
      "    if await self.run_code(code, result, async_=asy):\n",
      "  File \"/home/ubuntu/.conda/envs/dyn/lib/python3.8/site-packages/IPython/core/interactiveshell.py\", line 3398, in run_code\n",
      "    exec(code_obj, self.user_global_ns, self.user_ns)\n",
      "  File \"/tmp/ipykernel_25262/897587019.py\", line 2, in <cell line: 1>\n",
      "    logits = model.generate(input_ids=input_ids)\n",
      "  File \"/home/ubuntu/.conda/envs/dyn/lib/python3.8/site-packages/torch/autograd/grad_mode.py\", line 27, in decorate_context\n",
      "    return func(*args, **kwargs)\n",
      "  File \"/home/ubuntu/.local/lib/python3.8/site-packages/transformers/generation_utils.py\", line 844, in generate\n",
      "    @torch.no_grad()\n",
      "  File \"/home/ubuntu/.local/lib/python3.8/site-packages/transformers/generation_utils.py\", line 1354, in generate\n",
      "    return self.beam_search(\n",
      "  File \"/home/ubuntu/.local/lib/python3.8/site-packages/transformers/generation_utils.py\", line 2022, in beam_search\n",
      "    def beam_search(\n",
      "  File \"/home/ubuntu/.local/lib/python3.8/site-packages/transformers/generation_utils.py\", line 2277, in beam_search\n",
      "    model_kwargs[\"past\"] = self._reorder_cache(model_kwargs[\"past\"], beam_idx)\n",
      "  File \"/home/ubuntu/.local/lib/python3.8/site-packages/transformers/models/pegasus/modeling_pegasus.py\", line 1470, in _reorder_cache\n",
      "    @staticmethod\n",
      "========== End debug info ==========\n",
      "/home/ubuntu/.conda/envs/dyn/lib/python3.8/site-packages/torch_tensorrt/fx/tracer/acc_tracer/acc_tracer.py:546: UserWarning: acc_tracer does not support currently support models for training. Calling eval on model before tracing.\n",
      "  warnings.warn(\n",
      "/home/ubuntu/.conda/envs/dyn/lib/python3.8/site-packages/torch_tensorrt/fx/tracer/acc_tracer/acc_tracer.py:546: UserWarning: acc_tracer does not support currently support models for training. Calling eval on model before tracing.\n",
      "  warnings.warn(\n",
      "/home/ubuntu/.conda/envs/dyn/lib/python3.8/site-packages/torch/fx/operator_schemas.py:180: UserWarning: We were not able to successfully create type hint from the type (slice(<class 'NoneType'>, <class 'NoneType'>, <class 'NoneType'>), slice(<class 'int'>, <class 'NoneType'>, <class 'NoneType'>))\n",
      "  warnings.warn(f\"We were not able to successfully create type hint from the type {x}\")\n"
     ]
    },
    {
     "name": "stdout",
     "output_type": "stream",
     "text": [
      "FX2TRT conversion failed on the subgraph. Return GraphModule forward instead\n",
      "ERROR torchdynamo.optimizations.backends: FX2TRT conversion error\n",
      "Traceback (most recent call last):\n",
      "  File \"/home/ubuntu/torchdynamo-test/torchdynamo/torchdynamo/optimizations/backends.py\", line 333, in fx2trt\n",
      "    splitter_setting = TRTSplitterSetting()\n",
      "  File \"/home/ubuntu/.conda/envs/dyn/lib/python3.8/site-packages/torch_tensorrt/fx/tools/trt_splitter.py\", line 52, in __init__\n",
      "    self.exclude_support_node_name: set = set(self.op_lowering_disallow_list)\n",
      "AttributeError: 'TRTSplitterSetting' object has no attribute 'op_lowering_disallow_list'\n",
      "FX2TRT conversion failed on the subgraph. Return GraphModule forward instead\n",
      "ERROR torchdynamo.optimizations.backends: FX2TRT conversion error\n",
      "Traceback (most recent call last):\n",
      "  File \"/home/ubuntu/torchdynamo-test/torchdynamo/torchdynamo/optimizations/backends.py\", line 333, in fx2trt\n",
      "    splitter_setting = TRTSplitterSetting()\n",
      "  File \"/home/ubuntu/.conda/envs/dyn/lib/python3.8/site-packages/torch_tensorrt/fx/tools/trt_splitter.py\", line 52, in __init__\n",
      "    self.exclude_support_node_name: set = set(self.op_lowering_disallow_list)\n",
      "AttributeError: 'TRTSplitterSetting' object has no attribute 'op_lowering_disallow_list'\n"
     ]
    },
    {
     "name": "stderr",
     "output_type": "stream",
     "text": [
      "/home/ubuntu/.conda/envs/dyn/lib/python3.8/site-packages/torch_tensorrt/fx/tracer/acc_tracer/acc_tracer.py:546: UserWarning: acc_tracer does not support currently support models for training. Calling eval on model before tracing.\n",
      "  warnings.warn(\n",
      "/home/ubuntu/.conda/envs/dyn/lib/python3.8/site-packages/torch/fx/operator_schemas.py:180: UserWarning: We were not able to successfully create type hint from the type (slice(<class 'NoneType'>, <class 'NoneType'>, <class 'NoneType'>), <class 'NoneType'>, <class 'NoneType'>, slice(<class 'NoneType'>, <class 'NoneType'>, <class 'NoneType'>))\n",
      "  warnings.warn(f\"We were not able to successfully create type hint from the type {x}\")\n",
      "/home/ubuntu/.conda/envs/dyn/lib/python3.8/site-packages/torch_tensorrt/fx/tracer/acc_tracer/acc_tracer.py:546: UserWarning: acc_tracer does not support currently support models for training. Calling eval on model before tracing.\n",
      "  warnings.warn(\n"
     ]
    },
    {
     "name": "stdout",
     "output_type": "stream",
     "text": [
      "FX2TRT conversion failed on the subgraph. Return GraphModule forward instead\n"
     ]
    },
    {
     "name": "stderr",
     "output_type": "stream",
     "text": [
      "/home/ubuntu/.conda/envs/dyn/lib/python3.8/site-packages/torch_tensorrt/fx/tracer/acc_tracer/acc_tracer.py:546: UserWarning: acc_tracer does not support currently support models for training. Calling eval on model before tracing.\n",
      "  warnings.warn(\n"
     ]
    },
    {
     "name": "stdout",
     "output_type": "stream",
     "text": [
      "ERROR torchdynamo.optimizations.backends: FX2TRT conversion error\n",
      "Traceback (most recent call last):\n",
      "  File \"/home/ubuntu/torchdynamo-test/torchdynamo/torchdynamo/optimizations/backends.py\", line 333, in fx2trt\n",
      "    splitter_setting = TRTSplitterSetting()\n",
      "  File \"/home/ubuntu/.conda/envs/dyn/lib/python3.8/site-packages/torch_tensorrt/fx/tools/trt_splitter.py\", line 52, in __init__\n",
      "    self.exclude_support_node_name: set = set(self.op_lowering_disallow_list)\n",
      "AttributeError: 'TRTSplitterSetting' object has no attribute 'op_lowering_disallow_list'\n",
      "FX2TRT conversion failed on the subgraph. Return GraphModule forward instead\n",
      "ERROR torchdynamo.optimizations.backends: FX2TRT conversion error\n",
      "Traceback (most recent call last):\n",
      "  File \"/home/ubuntu/torchdynamo-test/torchdynamo/torchdynamo/optimizations/backends.py\", line 333, in fx2trt\n",
      "    splitter_setting = TRTSplitterSetting()\n",
      "  File \"/home/ubuntu/.conda/envs/dyn/lib/python3.8/site-packages/torch_tensorrt/fx/tools/trt_splitter.py\", line 52, in __init__\n",
      "    self.exclude_support_node_name: set = set(self.op_lowering_disallow_list)\n",
      "AttributeError: 'TRTSplitterSetting' object has no attribute 'op_lowering_disallow_list'\n",
      "FX2TRT conversion failed on the subgraph. Return GraphModule forward instead\n",
      "ERROR torchdynamo.optimizations.backends: FX2TRT conversion error\n",
      "Traceback (most recent call last):\n",
      "  File \"/home/ubuntu/torchdynamo-test/torchdynamo/torchdynamo/optimizations/backends.py\", line 333, in fx2trt\n",
      "    splitter_setting = TRTSplitterSetting()\n",
      "  File \"/home/ubuntu/.conda/envs/dyn/lib/python3.8/site-packages/torch_tensorrt/fx/tools/trt_splitter.py\", line 52, in __init__\n",
      "    self.exclude_support_node_name: set = set(self.op_lowering_disallow_list)\n",
      "AttributeError: 'TRTSplitterSetting' object has no attribute 'op_lowering_disallow_list'\n",
      "FX2TRT conversion failed on the subgraph. Return GraphModule forward instead\n",
      "ERROR torchdynamo.optimizations.backends: FX2TRT conversion error\n",
      "Traceback (most recent call last):\n",
      "  File \"/home/ubuntu/torchdynamo-test/torchdynamo/torchdynamo/optimizations/backends.py\", line 333, in fx2trt\n",
      "    splitter_setting = TRTSplitterSetting()\n",
      "  File \"/home/ubuntu/.conda/envs/dyn/lib/python3.8/site-packages/torch_tensorrt/fx/tools/trt_splitter.py\", line 52, in __init__\n",
      "    self.exclude_support_node_name: set = set(self.op_lowering_disallow_list)\n",
      "AttributeError: 'TRTSplitterSetting' object has no attribute 'op_lowering_disallow_list'\n"
     ]
    },
    {
     "name": "stderr",
     "output_type": "stream",
     "text": [
      "/home/ubuntu/.conda/envs/dyn/lib/python3.8/site-packages/torch_tensorrt/fx/tracer/acc_tracer/acc_tracer.py:546: UserWarning: acc_tracer does not support currently support models for training. Calling eval on model before tracing.\n",
      "  warnings.warn(\n",
      "/home/ubuntu/.conda/envs/dyn/lib/python3.8/site-packages/torch_tensorrt/fx/tracer/acc_tracer/acc_tracer.py:546: UserWarning: acc_tracer does not support currently support models for training. Calling eval on model before tracing.\n",
      "  warnings.warn(\n",
      "/home/ubuntu/.conda/envs/dyn/lib/python3.8/site-packages/torch_tensorrt/fx/tracer/acc_tracer/acc_tracer.py:546: UserWarning: acc_tracer does not support currently support models for training. Calling eval on model before tracing.\n",
      "  warnings.warn(\n",
      "/home/ubuntu/.conda/envs/dyn/lib/python3.8/site-packages/torch/fx/operator_schemas.py:204: UserWarning: Does not support nested parametric types, got typing.List[~t]. Please file a bug.\n",
      "  warnings.warn(\n",
      "/home/ubuntu/.conda/envs/dyn/lib/python3.8/site-packages/torch_tensorrt/fx/tracer/acc_tracer/acc_tracer.py:546: UserWarning: acc_tracer does not support currently support models for training. Calling eval on model before tracing.\n",
      "  warnings.warn(\n"
     ]
    },
    {
     "name": "stdout",
     "output_type": "stream",
     "text": [
      "FX2TRT conversion failed on the subgraph. Return GraphModule forward instead\n",
      "ERROR torchdynamo.optimizations.backends: FX2TRT conversion error\n",
      "Traceback (most recent call last):\n",
      "  File \"/home/ubuntu/torchdynamo-test/torchdynamo/torchdynamo/optimizations/backends.py\", line 333, in fx2trt\n",
      "    splitter_setting = TRTSplitterSetting()\n",
      "  File \"/home/ubuntu/.conda/envs/dyn/lib/python3.8/site-packages/torch_tensorrt/fx/tools/trt_splitter.py\", line 52, in __init__\n",
      "    self.exclude_support_node_name: set = set(self.op_lowering_disallow_list)\n",
      "AttributeError: 'TRTSplitterSetting' object has no attribute 'op_lowering_disallow_list'\n",
      "FX2TRT conversion failed on the subgraph. Return GraphModule forward instead\n"
     ]
    },
    {
     "name": "stderr",
     "output_type": "stream",
     "text": [
      "/home/ubuntu/.conda/envs/dyn/lib/python3.8/site-packages/torch/fx/operator_schemas.py:204: UserWarning: Does not support nested parametric types, got typing.List[~t]. Please file a bug.\n",
      "  warnings.warn(\n"
     ]
    },
    {
     "name": "stdout",
     "output_type": "stream",
     "text": [
      "ERROR torchdynamo.optimizations.backends: FX2TRT conversion error\n",
      "Traceback (most recent call last):\n",
      "  File \"/home/ubuntu/torchdynamo-test/torchdynamo/torchdynamo/optimizations/backends.py\", line 333, in fx2trt\n",
      "    splitter_setting = TRTSplitterSetting()\n",
      "  File \"/home/ubuntu/.conda/envs/dyn/lib/python3.8/site-packages/torch_tensorrt/fx/tools/trt_splitter.py\", line 52, in __init__\n",
      "    self.exclude_support_node_name: set = set(self.op_lowering_disallow_list)\n",
      "AttributeError: 'TRTSplitterSetting' object has no attribute 'op_lowering_disallow_list'\n",
      "FX2TRT conversion failed on the subgraph. Return GraphModule forward instead\n",
      "ERROR torchdynamo.optimizations.backends: FX2TRT conversion error\n",
      "Traceback (most recent call last):\n",
      "  File \"/home/ubuntu/torchdynamo-test/torchdynamo/torchdynamo/optimizations/backends.py\", line 333, in fx2trt\n",
      "    splitter_setting = TRTSplitterSetting()\n",
      "  File \"/home/ubuntu/.conda/envs/dyn/lib/python3.8/site-packages/torch_tensorrt/fx/tools/trt_splitter.py\", line 52, in __init__\n",
      "    self.exclude_support_node_name: set = set(self.op_lowering_disallow_list)\n",
      "AttributeError: 'TRTSplitterSetting' object has no attribute 'op_lowering_disallow_list'\n",
      "FX2TRT conversion failed on the subgraph. Return GraphModule forward instead\n",
      "ERROR torchdynamo.optimizations.backends: FX2TRT conversion error\n",
      "Traceback (most recent call last):\n",
      "  File \"/home/ubuntu/torchdynamo-test/torchdynamo/torchdynamo/optimizations/backends.py\", line 333, in fx2trt\n",
      "    splitter_setting = TRTSplitterSetting()\n",
      "  File \"/home/ubuntu/.conda/envs/dyn/lib/python3.8/site-packages/torch_tensorrt/fx/tools/trt_splitter.py\", line 52, in __init__\n",
      "    self.exclude_support_node_name: set = set(self.op_lowering_disallow_list)\n",
      "AttributeError: 'TRTSplitterSetting' object has no attribute 'op_lowering_disallow_list'\n",
      "FX2TRT conversion failed on the subgraph. Return GraphModule forward instead\n",
      "ERROR torchdynamo.optimizations.backends: FX2TRT conversion error\n",
      "Traceback (most recent call last):\n",
      "  File \"/home/ubuntu/torchdynamo-test/torchdynamo/torchdynamo/optimizations/backends.py\", line 333, in fx2trt\n",
      "    splitter_setting = TRTSplitterSetting()\n",
      "  File \"/home/ubuntu/.conda/envs/dyn/lib/python3.8/site-packages/torch_tensorrt/fx/tools/trt_splitter.py\", line 52, in __init__\n",
      "    self.exclude_support_node_name: set = set(self.op_lowering_disallow_list)\n",
      "AttributeError: 'TRTSplitterSetting' object has no attribute 'op_lowering_disallow_list'\n"
     ]
    },
    {
     "name": "stderr",
     "output_type": "stream",
     "text": [
      "/home/ubuntu/.conda/envs/dyn/lib/python3.8/site-packages/torch_tensorrt/fx/tracer/acc_tracer/acc_tracer.py:546: UserWarning: acc_tracer does not support currently support models for training. Calling eval on model before tracing.\n",
      "  warnings.warn(\n",
      "/home/ubuntu/.conda/envs/dyn/lib/python3.8/site-packages/torch/fx/operator_schemas.py:204: UserWarning: Does not support nested parametric types, got typing.List[~t]. Please file a bug.\n",
      "  warnings.warn(\n",
      "/home/ubuntu/.conda/envs/dyn/lib/python3.8/site-packages/torch_tensorrt/fx/tracer/acc_tracer/acc_tracer.py:546: UserWarning: acc_tracer does not support currently support models for training. Calling eval on model before tracing.\n",
      "  warnings.warn(\n",
      "/home/ubuntu/.conda/envs/dyn/lib/python3.8/site-packages/torch/fx/operator_schemas.py:204: UserWarning: Does not support nested parametric types, got typing.List[~t]. Please file a bug.\n",
      "  warnings.warn(\n",
      "/home/ubuntu/.conda/envs/dyn/lib/python3.8/site-packages/torch_tensorrt/fx/tracer/acc_tracer/acc_tracer.py:546: UserWarning: acc_tracer does not support currently support models for training. Calling eval on model before tracing.\n",
      "  warnings.warn(\n",
      "/home/ubuntu/.conda/envs/dyn/lib/python3.8/site-packages/torch/fx/operator_schemas.py:204: UserWarning: Does not support nested parametric types, got typing.List[~t]. Please file a bug.\n",
      "  warnings.warn(\n",
      "/home/ubuntu/.conda/envs/dyn/lib/python3.8/site-packages/torch_tensorrt/fx/tracer/acc_tracer/acc_tracer.py:546: UserWarning: acc_tracer does not support currently support models for training. Calling eval on model before tracing.\n",
      "  warnings.warn(\n",
      "/home/ubuntu/.conda/envs/dyn/lib/python3.8/site-packages/torch/fx/operator_schemas.py:204: UserWarning: Does not support nested parametric types, got typing.List[~t]. Please file a bug.\n",
      "  warnings.warn(\n",
      "/home/ubuntu/.conda/envs/dyn/lib/python3.8/site-packages/torch_tensorrt/fx/tracer/acc_tracer/acc_tracer.py:546: UserWarning: acc_tracer does not support currently support models for training. Calling eval on model before tracing.\n",
      "  warnings.warn(\n"
     ]
    },
    {
     "name": "stdout",
     "output_type": "stream",
     "text": [
      "FX2TRT conversion failed on the subgraph. Return GraphModule forward instead\n",
      "ERROR torchdynamo.optimizations.backends: FX2TRT conversion error\n",
      "Traceback (most recent call last):\n",
      "  File \"/home/ubuntu/torchdynamo-test/torchdynamo/torchdynamo/optimizations/backends.py\", line 333, in fx2trt\n",
      "    splitter_setting = TRTSplitterSetting()\n",
      "  File \"/home/ubuntu/.conda/envs/dyn/lib/python3.8/site-packages/torch_tensorrt/fx/tools/trt_splitter.py\", line 52, in __init__\n",
      "    self.exclude_support_node_name: set = set(self.op_lowering_disallow_list)\n",
      "AttributeError: 'TRTSplitterSetting' object has no attribute 'op_lowering_disallow_list'\n",
      "FX2TRT conversion failed on the subgraph. Return GraphModule forward instead\n",
      "ERROR torchdynamo.optimizations.backends: FX2TRT conversion error\n",
      "Traceback (most recent call last):\n",
      "  File \"/home/ubuntu/torchdynamo-test/torchdynamo/torchdynamo/optimizations/backends.py\", line 333, in fx2trt\n",
      "    splitter_setting = TRTSplitterSetting()\n",
      "  File \"/home/ubuntu/.conda/envs/dyn/lib/python3.8/site-packages/torch_tensorrt/fx/tools/trt_splitter.py\", line 52, in __init__\n",
      "    self.exclude_support_node_name: set = set(self.op_lowering_disallow_list)\n",
      "AttributeError: 'TRTSplitterSetting' object has no attribute 'op_lowering_disallow_list'\n",
      "FX2TRT conversion failed on the subgraph. Return GraphModule forward instead\n",
      "ERROR torchdynamo.optimizations.backends: FX2TRT conversion error\n",
      "Traceback (most recent call last):\n",
      "  File \"/home/ubuntu/torchdynamo-test/torchdynamo/torchdynamo/optimizations/backends.py\", line 333, in fx2trt\n",
      "    splitter_setting = TRTSplitterSetting()\n",
      "  File \"/home/ubuntu/.conda/envs/dyn/lib/python3.8/site-packages/torch_tensorrt/fx/tools/trt_splitter.py\", line 52, in __init__\n",
      "    self.exclude_support_node_name: set = set(self.op_lowering_disallow_list)\n",
      "AttributeError: 'TRTSplitterSetting' object has no attribute 'op_lowering_disallow_list'\n",
      "FX2TRT conversion failed on the subgraph. Return GraphModule forward instead\n",
      "ERROR torchdynamo.optimizations.backends: FX2TRT conversion error\n",
      "Traceback (most recent call last):\n",
      "  File \"/home/ubuntu/torchdynamo-test/torchdynamo/torchdynamo/optimizations/backends.py\", line 333, in fx2trt\n",
      "    splitter_setting = TRTSplitterSetting()\n",
      "  File \"/home/ubuntu/.conda/envs/dyn/lib/python3.8/site-packages/torch_tensorrt/fx/tools/trt_splitter.py\", line 52, in __init__\n",
      "    self.exclude_support_node_name: set = set(self.op_lowering_disallow_list)\n",
      "AttributeError: 'TRTSplitterSetting' object has no attribute 'op_lowering_disallow_list'\n",
      "FX2TRT conversion failed on the subgraph. Return GraphModule forward instead\n",
      "ERROR torchdynamo.optimizations.backends: FX2TRT conversion error\n",
      "Traceback (most recent call last):\n",
      "  File \"/home/ubuntu/torchdynamo-test/torchdynamo/torchdynamo/optimizations/backends.py\", line 331, in fx2trt\n",
      "    acc_model = acc_tracer.trace(model, inputs)\n",
      "  File \"/home/ubuntu/.conda/envs/dyn/lib/python3.8/site-packages/torch_tensorrt/fx/tracer/acc_tracer/acc_tracer.py\", line 555, in trace\n",
      "    traced = rewriter_base_trace(mod, ast_rewriter_allow_list, leaf_module_list)\n",
      "  File \"/home/ubuntu/.conda/envs/dyn/lib/python3.8/site-packages/torch_tensorrt/fx/tracer/acc_tracer/acc_tracer.py\", line 481, in rewriter_base_trace\n",
      "    rewritten_graph, rewritten_mod = AccRewritingTracer().trace(\n",
      "  File \"/home/ubuntu/.conda/envs/dyn/lib/python3.8/site-packages/torch_tensorrt/fx/tracer/acc_tracer/acc_tracer.py\", line 285, in trace\n",
      "    return super().trace(rewritten, concrete_args), rewritten\n",
      "  File \"/home/ubuntu/torchdynamo-test/torchdynamo/torchdynamo/eval_frame.py\", line 94, in _fn\n",
      "    return fn(*args, **kwargs)\n",
      "  File \"/home/ubuntu/.conda/envs/dyn/lib/python3.8/site-packages/torch/fx/_symbolic_trace.py\", line 716, in trace\n",
      "    (self.create_arg(fn(*args)),),\n",
      "  File \"<eval_with_key>.419\", line 7, in forward\n",
      "    cat = torch.cat([getitem, False, getitem_1], 0);  getitem = getitem_1 = None\n",
      "TypeError: expected Tensor as element 1 in argument 0, but got bool\n",
      "FX2TRT conversion failed on the subgraph. Return GraphModule forward instead\n",
      "ERROR torchdynamo.optimizations.backends: FX2TRT conversion error\n",
      "Traceback (most recent call last):\n",
      "  File \"/home/ubuntu/torchdynamo-test/torchdynamo/torchdynamo/optimizations/backends.py\", line 333, in fx2trt\n",
      "    splitter_setting = TRTSplitterSetting()\n",
      "  File \"/home/ubuntu/.conda/envs/dyn/lib/python3.8/site-packages/torch_tensorrt/fx/tools/trt_splitter.py\", line 52, in __init__\n",
      "    self.exclude_support_node_name: set = set(self.op_lowering_disallow_list)\n",
      "AttributeError: 'TRTSplitterSetting' object has no attribute 'op_lowering_disallow_list'\n"
     ]
    },
    {
     "name": "stderr",
     "output_type": "stream",
     "text": [
      "/home/ubuntu/.conda/envs/dyn/lib/python3.8/site-packages/torch/fx/operator_schemas.py:204: UserWarning: Does not support nested parametric types, got typing.List[~t]. Please file a bug.\n",
      "  warnings.warn(\n",
      "/home/ubuntu/.conda/envs/dyn/lib/python3.8/site-packages/torch_tensorrt/fx/tracer/acc_tracer/acc_tracer.py:546: UserWarning: acc_tracer does not support currently support models for training. Calling eval on model before tracing.\n",
      "  warnings.warn(\n",
      "/home/ubuntu/.conda/envs/dyn/lib/python3.8/site-packages/torch/fx/operator_schemas.py:204: UserWarning: Does not support nested parametric types, got typing.List[~t]. Please file a bug.\n",
      "  warnings.warn(\n",
      "/home/ubuntu/.conda/envs/dyn/lib/python3.8/site-packages/torch_tensorrt/fx/tracer/acc_tracer/acc_tracer.py:546: UserWarning: acc_tracer does not support currently support models for training. Calling eval on model before tracing.\n",
      "  warnings.warn(\n",
      "/home/ubuntu/.conda/envs/dyn/lib/python3.8/site-packages/torch_tensorrt/fx/tracer/acc_tracer/acc_tracer.py:546: UserWarning: acc_tracer does not support currently support models for training. Calling eval on model before tracing.\n",
      "  warnings.warn(\n",
      "/home/ubuntu/.conda/envs/dyn/lib/python3.8/site-packages/torch_tensorrt/fx/tracer/acc_tracer/acc_tracer.py:546: UserWarning: acc_tracer does not support currently support models for training. Calling eval on model before tracing.\n",
      "  warnings.warn(\n",
      "/home/ubuntu/.conda/envs/dyn/lib/python3.8/site-packages/torch_tensorrt/fx/tracer/acc_tracer/acc_tracer.py:546: UserWarning: acc_tracer does not support currently support models for training. Calling eval on model before tracing.\n",
      "  warnings.warn(\n",
      "/home/ubuntu/.conda/envs/dyn/lib/python3.8/site-packages/torch/fx/operator_schemas.py:180: UserWarning: We were not able to successfully create type hint from the type (slice(<class 'NoneType'>, <class 'NoneType'>, <class 'NoneType'>), slice(<class 'int'>, <class 'NoneType'>, <class 'NoneType'>))\n",
      "  warnings.warn(f\"We were not able to successfully create type hint from the type {x}\")\n"
     ]
    },
    {
     "name": "stdout",
     "output_type": "stream",
     "text": [
      "FX2TRT conversion failed on the subgraph. Return GraphModule forward instead\n",
      "ERROR torchdynamo.optimizations.backends: FX2TRT conversion error\n",
      "Traceback (most recent call last):\n",
      "  File \"/home/ubuntu/torchdynamo-test/torchdynamo/torchdynamo/optimizations/backends.py\", line 333, in fx2trt\n",
      "    splitter_setting = TRTSplitterSetting()\n",
      "  File \"/home/ubuntu/.conda/envs/dyn/lib/python3.8/site-packages/torch_tensorrt/fx/tools/trt_splitter.py\", line 52, in __init__\n",
      "    self.exclude_support_node_name: set = set(self.op_lowering_disallow_list)\n",
      "AttributeError: 'TRTSplitterSetting' object has no attribute 'op_lowering_disallow_list'\n",
      "FX2TRT conversion failed on the subgraph. Return GraphModule forward instead\n",
      "ERROR torchdynamo.optimizations.backends: FX2TRT conversion error\n",
      "Traceback (most recent call last):\n",
      "  File \"/home/ubuntu/torchdynamo-test/torchdynamo/torchdynamo/optimizations/backends.py\", line 333, in fx2trt\n",
      "    splitter_setting = TRTSplitterSetting()\n",
      "  File \"/home/ubuntu/.conda/envs/dyn/lib/python3.8/site-packages/torch_tensorrt/fx/tools/trt_splitter.py\", line 52, in __init__\n",
      "    self.exclude_support_node_name: set = set(self.op_lowering_disallow_list)\n",
      "AttributeError: 'TRTSplitterSetting' object has no attribute 'op_lowering_disallow_list'\n"
     ]
    },
    {
     "name": "stderr",
     "output_type": "stream",
     "text": [
      "/home/ubuntu/.conda/envs/dyn/lib/python3.8/site-packages/torch_tensorrt/fx/tracer/acc_tracer/acc_tracer.py:546: UserWarning: acc_tracer does not support currently support models for training. Calling eval on model before tracing.\n",
      "  warnings.warn(\n",
      "/home/ubuntu/.conda/envs/dyn/lib/python3.8/site-packages/torch/fx/operator_schemas.py:180: UserWarning: We were not able to successfully create type hint from the type (slice(<class 'NoneType'>, <class 'NoneType'>, <class 'NoneType'>), <class 'NoneType'>, <class 'NoneType'>, slice(<class 'NoneType'>, <class 'NoneType'>, <class 'NoneType'>))\n",
      "  warnings.warn(f\"We were not able to successfully create type hint from the type {x}\")\n",
      "/home/ubuntu/.conda/envs/dyn/lib/python3.8/site-packages/torch_tensorrt/fx/tracer/acc_tracer/acc_tracer.py:546: UserWarning: acc_tracer does not support currently support models for training. Calling eval on model before tracing.\n",
      "  warnings.warn(\n"
     ]
    },
    {
     "name": "stdout",
     "output_type": "stream",
     "text": [
      "FX2TRT conversion failed on the subgraph. Return GraphModule forward instead\n"
     ]
    },
    {
     "name": "stderr",
     "output_type": "stream",
     "text": [
      "/home/ubuntu/.conda/envs/dyn/lib/python3.8/site-packages/torch_tensorrt/fx/tracer/acc_tracer/acc_tracer.py:546: UserWarning: acc_tracer does not support currently support models for training. Calling eval on model before tracing.\n",
      "  warnings.warn(\n"
     ]
    },
    {
     "name": "stdout",
     "output_type": "stream",
     "text": [
      "ERROR torchdynamo.optimizations.backends: FX2TRT conversion error\n",
      "Traceback (most recent call last):\n",
      "  File \"/home/ubuntu/torchdynamo-test/torchdynamo/torchdynamo/optimizations/backends.py\", line 333, in fx2trt\n",
      "    splitter_setting = TRTSplitterSetting()\n",
      "  File \"/home/ubuntu/.conda/envs/dyn/lib/python3.8/site-packages/torch_tensorrt/fx/tools/trt_splitter.py\", line 52, in __init__\n",
      "    self.exclude_support_node_name: set = set(self.op_lowering_disallow_list)\n",
      "AttributeError: 'TRTSplitterSetting' object has no attribute 'op_lowering_disallow_list'\n",
      "FX2TRT conversion failed on the subgraph. Return GraphModule forward instead\n",
      "ERROR torchdynamo.optimizations.backends: FX2TRT conversion error\n",
      "Traceback (most recent call last):\n",
      "  File \"/home/ubuntu/torchdynamo-test/torchdynamo/torchdynamo/optimizations/backends.py\", line 333, in fx2trt\n",
      "    splitter_setting = TRTSplitterSetting()\n",
      "  File \"/home/ubuntu/.conda/envs/dyn/lib/python3.8/site-packages/torch_tensorrt/fx/tools/trt_splitter.py\", line 52, in __init__\n",
      "    self.exclude_support_node_name: set = set(self.op_lowering_disallow_list)\n",
      "AttributeError: 'TRTSplitterSetting' object has no attribute 'op_lowering_disallow_list'\n",
      "FX2TRT conversion failed on the subgraph. Return GraphModule forward instead\n",
      "ERROR torchdynamo.optimizations.backends: FX2TRT conversion error\n",
      "Traceback (most recent call last):\n",
      "  File \"/home/ubuntu/torchdynamo-test/torchdynamo/torchdynamo/optimizations/backends.py\", line 333, in fx2trt\n",
      "    splitter_setting = TRTSplitterSetting()\n",
      "  File \"/home/ubuntu/.conda/envs/dyn/lib/python3.8/site-packages/torch_tensorrt/fx/tools/trt_splitter.py\", line 52, in __init__\n",
      "    self.exclude_support_node_name: set = set(self.op_lowering_disallow_list)\n",
      "AttributeError: 'TRTSplitterSetting' object has no attribute 'op_lowering_disallow_list'\n",
      "FX2TRT conversion failed on the subgraph. Return GraphModule forward instead\n",
      "ERROR torchdynamo.optimizations.backends: FX2TRT conversion error\n",
      "Traceback (most recent call last):\n",
      "  File \"/home/ubuntu/torchdynamo-test/torchdynamo/torchdynamo/optimizations/backends.py\", line 333, in fx2trt\n",
      "    splitter_setting = TRTSplitterSetting()\n",
      "  File \"/home/ubuntu/.conda/envs/dyn/lib/python3.8/site-packages/torch_tensorrt/fx/tools/trt_splitter.py\", line 52, in __init__\n",
      "    self.exclude_support_node_name: set = set(self.op_lowering_disallow_list)\n",
      "AttributeError: 'TRTSplitterSetting' object has no attribute 'op_lowering_disallow_list'\n"
     ]
    },
    {
     "name": "stderr",
     "output_type": "stream",
     "text": [
      "/home/ubuntu/.conda/envs/dyn/lib/python3.8/site-packages/torch_tensorrt/fx/tracer/acc_tracer/acc_tracer.py:546: UserWarning: acc_tracer does not support currently support models for training. Calling eval on model before tracing.\n",
      "  warnings.warn(\n",
      "/home/ubuntu/.conda/envs/dyn/lib/python3.8/site-packages/torch_tensorrt/fx/tracer/acc_tracer/acc_tracer.py:546: UserWarning: acc_tracer does not support currently support models for training. Calling eval on model before tracing.\n",
      "  warnings.warn(\n",
      "/home/ubuntu/.conda/envs/dyn/lib/python3.8/site-packages/torch_tensorrt/fx/tracer/acc_tracer/acc_tracer.py:546: UserWarning: acc_tracer does not support currently support models for training. Calling eval on model before tracing.\n",
      "  warnings.warn(\n",
      "/home/ubuntu/.conda/envs/dyn/lib/python3.8/site-packages/torch/fx/operator_schemas.py:204: UserWarning: Does not support nested parametric types, got typing.List[~t]. Please file a bug.\n",
      "  warnings.warn(\n",
      "/home/ubuntu/.conda/envs/dyn/lib/python3.8/site-packages/torch_tensorrt/fx/tracer/acc_tracer/acc_tracer.py:546: UserWarning: acc_tracer does not support currently support models for training. Calling eval on model before tracing.\n",
      "  warnings.warn(\n"
     ]
    },
    {
     "name": "stdout",
     "output_type": "stream",
     "text": [
      "FX2TRT conversion failed on the subgraph. Return GraphModule forward instead\n",
      "ERROR torchdynamo.optimizations.backends: FX2TRT conversion error\n",
      "Traceback (most recent call last):\n",
      "  File \"/home/ubuntu/torchdynamo-test/torchdynamo/torchdynamo/optimizations/backends.py\", line 333, in fx2trt\n",
      "    splitter_setting = TRTSplitterSetting()\n",
      "  File \"/home/ubuntu/.conda/envs/dyn/lib/python3.8/site-packages/torch_tensorrt/fx/tools/trt_splitter.py\", line 52, in __init__\n",
      "    self.exclude_support_node_name: set = set(self.op_lowering_disallow_list)\n",
      "AttributeError: 'TRTSplitterSetting' object has no attribute 'op_lowering_disallow_list'\n",
      "FX2TRT conversion failed on the subgraph. Return GraphModule forward instead\n",
      "ERROR torchdynamo.optimizations.backends: FX2TRT conversion error\n",
      "Traceback (most recent call last):\n",
      "  File \"/home/ubuntu/torchdynamo-test/torchdynamo/torchdynamo/optimizations/backends.py\", line 333, in fx2trt\n",
      "    splitter_setting = TRTSplitterSetting()\n",
      "  File \"/home/ubuntu/.conda/envs/dyn/lib/python3.8/site-packages/torch_tensorrt/fx/tools/trt_splitter.py\", line 52, in __init__\n",
      "    self.exclude_support_node_name: set = set(self.op_lowering_disallow_list)\n",
      "AttributeError: 'TRTSplitterSetting' object has no attribute 'op_lowering_disallow_list'\n",
      "FX2TRT conversion failed on the subgraph. Return GraphModule forward instead\n",
      "ERROR torchdynamo.optimizations.backends: FX2TRT conversion error\n",
      "Traceback (most recent call last):\n",
      "  File \"/home/ubuntu/torchdynamo-test/torchdynamo/torchdynamo/optimizations/backends.py\", line 333, in fx2trt\n",
      "    splitter_setting = TRTSplitterSetting()\n",
      "  File \"/home/ubuntu/.conda/envs/dyn/lib/python3.8/site-packages/torch_tensorrt/fx/tools/trt_splitter.py\", line 52, in __init__\n",
      "    self.exclude_support_node_name: set = set(self.op_lowering_disallow_list)\n",
      "AttributeError: 'TRTSplitterSetting' object has no attribute 'op_lowering_disallow_list'\n",
      "FX2TRT conversion failed on the subgraph. Return GraphModule forward instead\n",
      "ERROR torchdynamo.optimizations.backends: FX2TRT conversion error\n",
      "Traceback (most recent call last):\n",
      "  File \"/home/ubuntu/torchdynamo-test/torchdynamo/torchdynamo/optimizations/backends.py\", line 333, in fx2trt\n",
      "    splitter_setting = TRTSplitterSetting()\n",
      "  File \"/home/ubuntu/.conda/envs/dyn/lib/python3.8/site-packages/torch_tensorrt/fx/tools/trt_splitter.py\", line 52, in __init__\n",
      "    self.exclude_support_node_name: set = set(self.op_lowering_disallow_list)\n",
      "AttributeError: 'TRTSplitterSetting' object has no attribute 'op_lowering_disallow_list'\n"
     ]
    },
    {
     "name": "stderr",
     "output_type": "stream",
     "text": [
      "/home/ubuntu/.conda/envs/dyn/lib/python3.8/site-packages/torch/fx/operator_schemas.py:204: UserWarning: Does not support nested parametric types, got typing.List[~t]. Please file a bug.\n",
      "  warnings.warn(\n",
      "/home/ubuntu/.conda/envs/dyn/lib/python3.8/site-packages/torch_tensorrt/fx/tracer/acc_tracer/acc_tracer.py:546: UserWarning: acc_tracer does not support currently support models for training. Calling eval on model before tracing.\n",
      "  warnings.warn(\n",
      "/home/ubuntu/.conda/envs/dyn/lib/python3.8/site-packages/torch/fx/operator_schemas.py:204: UserWarning: Does not support nested parametric types, got typing.List[~t]. Please file a bug.\n",
      "  warnings.warn(\n",
      "/home/ubuntu/.conda/envs/dyn/lib/python3.8/site-packages/torch_tensorrt/fx/tracer/acc_tracer/acc_tracer.py:546: UserWarning: acc_tracer does not support currently support models for training. Calling eval on model before tracing.\n",
      "  warnings.warn(\n",
      "/home/ubuntu/.conda/envs/dyn/lib/python3.8/site-packages/torch/fx/operator_schemas.py:204: UserWarning: Does not support nested parametric types, got typing.List[~t]. Please file a bug.\n",
      "  warnings.warn(\n",
      "/home/ubuntu/.conda/envs/dyn/lib/python3.8/site-packages/torch_tensorrt/fx/tracer/acc_tracer/acc_tracer.py:546: UserWarning: acc_tracer does not support currently support models for training. Calling eval on model before tracing.\n",
      "  warnings.warn(\n",
      "/home/ubuntu/.conda/envs/dyn/lib/python3.8/site-packages/torch/fx/operator_schemas.py:204: UserWarning: Does not support nested parametric types, got typing.List[~t]. Please file a bug.\n",
      "  warnings.warn(\n"
     ]
    },
    {
     "name": "stdout",
     "output_type": "stream",
     "text": [
      "FX2TRT conversion failed on the subgraph. Return GraphModule forward instead\n",
      "ERROR torchdynamo.optimizations.backends: FX2TRT conversion error\n",
      "Traceback (most recent call last):\n",
      "  File \"/home/ubuntu/torchdynamo-test/torchdynamo/torchdynamo/optimizations/backends.py\", line 333, in fx2trt\n",
      "    splitter_setting = TRTSplitterSetting()\n",
      "  File \"/home/ubuntu/.conda/envs/dyn/lib/python3.8/site-packages/torch_tensorrt/fx/tools/trt_splitter.py\", line 52, in __init__\n",
      "    self.exclude_support_node_name: set = set(self.op_lowering_disallow_list)\n",
      "AttributeError: 'TRTSplitterSetting' object has no attribute 'op_lowering_disallow_list'\n",
      "FX2TRT conversion failed on the subgraph. Return GraphModule forward instead\n",
      "ERROR torchdynamo.optimizations.backends: FX2TRT conversion error\n",
      "Traceback (most recent call last):\n",
      "  File \"/home/ubuntu/torchdynamo-test/torchdynamo/torchdynamo/optimizations/backends.py\", line 333, in fx2trt\n",
      "    splitter_setting = TRTSplitterSetting()\n",
      "  File \"/home/ubuntu/.conda/envs/dyn/lib/python3.8/site-packages/torch_tensorrt/fx/tools/trt_splitter.py\", line 52, in __init__\n",
      "    self.exclude_support_node_name: set = set(self.op_lowering_disallow_list)\n",
      "AttributeError: 'TRTSplitterSetting' object has no attribute 'op_lowering_disallow_list'\n",
      "FX2TRT conversion failed on the subgraph. Return GraphModule forward instead\n",
      "ERROR torchdynamo.optimizations.backends: FX2TRT conversion error\n",
      "Traceback (most recent call last):\n",
      "  File \"/home/ubuntu/torchdynamo-test/torchdynamo/torchdynamo/optimizations/backends.py\", line 333, in fx2trt\n",
      "    splitter_setting = TRTSplitterSetting()\n",
      "  File \"/home/ubuntu/.conda/envs/dyn/lib/python3.8/site-packages/torch_tensorrt/fx/tools/trt_splitter.py\", line 52, in __init__\n",
      "    self.exclude_support_node_name: set = set(self.op_lowering_disallow_list)\n",
      "AttributeError: 'TRTSplitterSetting' object has no attribute 'op_lowering_disallow_list'\n",
      "FX2TRT conversion failed on the subgraph. Return GraphModule forward instead\n",
      "ERROR torchdynamo.optimizations.backends: FX2TRT conversion error\n",
      "Traceback (most recent call last):\n",
      "  File \"/home/ubuntu/torchdynamo-test/torchdynamo/torchdynamo/optimizations/backends.py\", line 333, in fx2trt\n",
      "    splitter_setting = TRTSplitterSetting()\n",
      "  File \"/home/ubuntu/.conda/envs/dyn/lib/python3.8/site-packages/torch_tensorrt/fx/tools/trt_splitter.py\", line 52, in __init__\n",
      "    self.exclude_support_node_name: set = set(self.op_lowering_disallow_list)\n",
      "AttributeError: 'TRTSplitterSetting' object has no attribute 'op_lowering_disallow_list'\n",
      "FX2TRT conversion failed on the subgraph. Return GraphModule forward instead\n",
      "ERROR torchdynamo.optimizations.backends: FX2TRT conversion error\n",
      "Traceback (most recent call last):\n",
      "  File \"/home/ubuntu/torchdynamo-test/torchdynamo/torchdynamo/optimizations/backends.py\", line 333, in fx2trt\n",
      "    splitter_setting = TRTSplitterSetting()\n",
      "  File \"/home/ubuntu/.conda/envs/dyn/lib/python3.8/site-packages/torch_tensorrt/fx/tools/trt_splitter.py\", line 52, in __init__\n",
      "    self.exclude_support_node_name: set = set(self.op_lowering_disallow_list)\n",
      "AttributeError: 'TRTSplitterSetting' object has no attribute 'op_lowering_disallow_list'\n"
     ]
    },
    {
     "name": "stderr",
     "output_type": "stream",
     "text": [
      "/home/ubuntu/.conda/envs/dyn/lib/python3.8/site-packages/torch_tensorrt/fx/tracer/acc_tracer/acc_tracer.py:546: UserWarning: acc_tracer does not support currently support models for training. Calling eval on model before tracing.\n",
      "  warnings.warn(\n",
      "/home/ubuntu/.conda/envs/dyn/lib/python3.8/site-packages/torch/fx/operator_schemas.py:204: UserWarning: Does not support nested parametric types, got typing.List[~t]. Please file a bug.\n",
      "  warnings.warn(\n",
      "/home/ubuntu/.conda/envs/dyn/lib/python3.8/site-packages/torch_tensorrt/fx/tracer/acc_tracer/acc_tracer.py:546: UserWarning: acc_tracer does not support currently support models for training. Calling eval on model before tracing.\n",
      "  warnings.warn(\n",
      "/home/ubuntu/.conda/envs/dyn/lib/python3.8/site-packages/torch/fx/operator_schemas.py:204: UserWarning: Does not support nested parametric types, got typing.List[~t]. Please file a bug.\n",
      "  warnings.warn(\n",
      "/home/ubuntu/.conda/envs/dyn/lib/python3.8/site-packages/torch_tensorrt/fx/tracer/acc_tracer/acc_tracer.py:546: UserWarning: acc_tracer does not support currently support models for training. Calling eval on model before tracing.\n",
      "  warnings.warn(\n",
      "/home/ubuntu/.conda/envs/dyn/lib/python3.8/site-packages/torch/fx/operator_schemas.py:204: UserWarning: Does not support nested parametric types, got typing.List[~t]. Please file a bug.\n",
      "  warnings.warn(\n",
      "/home/ubuntu/.conda/envs/dyn/lib/python3.8/site-packages/torch_tensorrt/fx/tracer/acc_tracer/acc_tracer.py:546: UserWarning: acc_tracer does not support currently support models for training. Calling eval on model before tracing.\n",
      "  warnings.warn(\n",
      "/home/ubuntu/.conda/envs/dyn/lib/python3.8/site-packages/torch_tensorrt/fx/tracer/acc_tracer/acc_tracer.py:546: UserWarning: acc_tracer does not support currently support models for training. Calling eval on model before tracing.\n",
      "  warnings.warn(\n",
      "/home/ubuntu/.conda/envs/dyn/lib/python3.8/site-packages/torch_tensorrt/fx/tracer/acc_tracer/acc_tracer.py:546: UserWarning: acc_tracer does not support currently support models for training. Calling eval on model before tracing.\n",
      "  warnings.warn(\n"
     ]
    },
    {
     "name": "stdout",
     "output_type": "stream",
     "text": [
      "FX2TRT conversion failed on the subgraph. Return GraphModule forward instead\n",
      "ERROR torchdynamo.optimizations.backends: FX2TRT conversion error\n",
      "Traceback (most recent call last):\n",
      "  File \"/home/ubuntu/torchdynamo-test/torchdynamo/torchdynamo/optimizations/backends.py\", line 331, in fx2trt\n",
      "    acc_model = acc_tracer.trace(model, inputs)\n",
      "  File \"/home/ubuntu/.conda/envs/dyn/lib/python3.8/site-packages/torch_tensorrt/fx/tracer/acc_tracer/acc_tracer.py\", line 555, in trace\n",
      "    traced = rewriter_base_trace(mod, ast_rewriter_allow_list, leaf_module_list)\n",
      "  File \"/home/ubuntu/.conda/envs/dyn/lib/python3.8/site-packages/torch_tensorrt/fx/tracer/acc_tracer/acc_tracer.py\", line 481, in rewriter_base_trace\n",
      "    rewritten_graph, rewritten_mod = AccRewritingTracer().trace(\n",
      "  File \"/home/ubuntu/.conda/envs/dyn/lib/python3.8/site-packages/torch_tensorrt/fx/tracer/acc_tracer/acc_tracer.py\", line 285, in trace\n",
      "    return super().trace(rewritten, concrete_args), rewritten\n",
      "  File \"/home/ubuntu/torchdynamo-test/torchdynamo/torchdynamo/eval_frame.py\", line 94, in _fn\n",
      "    return fn(*args, **kwargs)\n",
      "  File \"/home/ubuntu/.conda/envs/dyn/lib/python3.8/site-packages/torch/fx/_symbolic_trace.py\", line 716, in trace\n",
      "    (self.create_arg(fn(*args)),),\n",
      "  File \"<eval_with_key>.585\", line 7, in forward\n",
      "    cat = torch.cat([getitem, False, getitem_1], 0);  getitem = getitem_1 = None\n",
      "TypeError: expected Tensor as element 1 in argument 0, but got bool\n",
      "FX2TRT conversion failed on the subgraph. Return GraphModule forward instead\n",
      "ERROR torchdynamo.optimizations.backends: FX2TRT conversion error\n",
      "Traceback (most recent call last):\n",
      "  File \"/home/ubuntu/torchdynamo-test/torchdynamo/torchdynamo/optimizations/backends.py\", line 333, in fx2trt\n",
      "    splitter_setting = TRTSplitterSetting()\n",
      "  File \"/home/ubuntu/.conda/envs/dyn/lib/python3.8/site-packages/torch_tensorrt/fx/tools/trt_splitter.py\", line 52, in __init__\n",
      "    self.exclude_support_node_name: set = set(self.op_lowering_disallow_list)\n",
      "AttributeError: 'TRTSplitterSetting' object has no attribute 'op_lowering_disallow_list'\n",
      "FX2TRT conversion failed on the subgraph. Return GraphModule forward instead\n"
     ]
    },
    {
     "name": "stderr",
     "output_type": "stream",
     "text": [
      "/home/ubuntu/.conda/envs/dyn/lib/python3.8/site-packages/torch_tensorrt/fx/tracer/acc_tracer/acc_tracer.py:546: UserWarning: acc_tracer does not support currently support models for training. Calling eval on model before tracing.\n",
      "  warnings.warn(\n",
      "/home/ubuntu/.conda/envs/dyn/lib/python3.8/site-packages/torch/fx/operator_schemas.py:180: UserWarning: We were not able to successfully create type hint from the type (slice(<class 'NoneType'>, <class 'NoneType'>, <class 'NoneType'>), slice(<class 'int'>, <class 'NoneType'>, <class 'NoneType'>))\n",
      "  warnings.warn(f\"We were not able to successfully create type hint from the type {x}\")\n"
     ]
    },
    {
     "name": "stdout",
     "output_type": "stream",
     "text": [
      "ERROR torchdynamo.optimizations.backends: FX2TRT conversion error\n",
      "Traceback (most recent call last):\n",
      "  File \"/home/ubuntu/torchdynamo-test/torchdynamo/torchdynamo/optimizations/backends.py\", line 333, in fx2trt\n",
      "    splitter_setting = TRTSplitterSetting()\n",
      "  File \"/home/ubuntu/.conda/envs/dyn/lib/python3.8/site-packages/torch_tensorrt/fx/tools/trt_splitter.py\", line 52, in __init__\n",
      "    self.exclude_support_node_name: set = set(self.op_lowering_disallow_list)\n",
      "AttributeError: 'TRTSplitterSetting' object has no attribute 'op_lowering_disallow_list'\n",
      "FX2TRT conversion failed on the subgraph. Return GraphModule forward instead\n",
      "ERROR torchdynamo.optimizations.backends: FX2TRT conversion error\n",
      "Traceback (most recent call last):\n",
      "  File \"/home/ubuntu/torchdynamo-test/torchdynamo/torchdynamo/optimizations/backends.py\", line 333, in fx2trt\n",
      "    splitter_setting = TRTSplitterSetting()\n",
      "  File \"/home/ubuntu/.conda/envs/dyn/lib/python3.8/site-packages/torch_tensorrt/fx/tools/trt_splitter.py\", line 52, in __init__\n",
      "    self.exclude_support_node_name: set = set(self.op_lowering_disallow_list)\n",
      "AttributeError: 'TRTSplitterSetting' object has no attribute 'op_lowering_disallow_list'\n"
     ]
    },
    {
     "name": "stderr",
     "output_type": "stream",
     "text": [
      "/home/ubuntu/.conda/envs/dyn/lib/python3.8/site-packages/torch_tensorrt/fx/tracer/acc_tracer/acc_tracer.py:546: UserWarning: acc_tracer does not support currently support models for training. Calling eval on model before tracing.\n",
      "  warnings.warn(\n",
      "/home/ubuntu/.conda/envs/dyn/lib/python3.8/site-packages/torch/fx/operator_schemas.py:180: UserWarning: We were not able to successfully create type hint from the type (slice(<class 'NoneType'>, <class 'NoneType'>, <class 'NoneType'>), <class 'NoneType'>, <class 'NoneType'>, slice(<class 'NoneType'>, <class 'NoneType'>, <class 'NoneType'>))\n",
      "  warnings.warn(f\"We were not able to successfully create type hint from the type {x}\")\n",
      "/home/ubuntu/.conda/envs/dyn/lib/python3.8/site-packages/torch_tensorrt/fx/tracer/acc_tracer/acc_tracer.py:546: UserWarning: acc_tracer does not support currently support models for training. Calling eval on model before tracing.\n",
      "  warnings.warn(\n"
     ]
    },
    {
     "name": "stdout",
     "output_type": "stream",
     "text": [
      "FX2TRT conversion failed on the subgraph. Return GraphModule forward instead\n"
     ]
    },
    {
     "name": "stderr",
     "output_type": "stream",
     "text": [
      "/home/ubuntu/.conda/envs/dyn/lib/python3.8/site-packages/torch_tensorrt/fx/tracer/acc_tracer/acc_tracer.py:546: UserWarning: acc_tracer does not support currently support models for training. Calling eval on model before tracing.\n",
      "  warnings.warn(\n"
     ]
    },
    {
     "name": "stdout",
     "output_type": "stream",
     "text": [
      "ERROR torchdynamo.optimizations.backends: FX2TRT conversion error\n",
      "Traceback (most recent call last):\n",
      "  File \"/home/ubuntu/torchdynamo-test/torchdynamo/torchdynamo/optimizations/backends.py\", line 333, in fx2trt\n",
      "    splitter_setting = TRTSplitterSetting()\n",
      "  File \"/home/ubuntu/.conda/envs/dyn/lib/python3.8/site-packages/torch_tensorrt/fx/tools/trt_splitter.py\", line 52, in __init__\n",
      "    self.exclude_support_node_name: set = set(self.op_lowering_disallow_list)\n",
      "AttributeError: 'TRTSplitterSetting' object has no attribute 'op_lowering_disallow_list'\n",
      "FX2TRT conversion failed on the subgraph. Return GraphModule forward instead\n",
      "ERROR torchdynamo.optimizations.backends: FX2TRT conversion error\n",
      "Traceback (most recent call last):\n",
      "  File \"/home/ubuntu/torchdynamo-test/torchdynamo/torchdynamo/optimizations/backends.py\", line 333, in fx2trt\n",
      "    splitter_setting = TRTSplitterSetting()\n",
      "  File \"/home/ubuntu/.conda/envs/dyn/lib/python3.8/site-packages/torch_tensorrt/fx/tools/trt_splitter.py\", line 52, in __init__\n",
      "    self.exclude_support_node_name: set = set(self.op_lowering_disallow_list)\n",
      "AttributeError: 'TRTSplitterSetting' object has no attribute 'op_lowering_disallow_list'\n",
      "FX2TRT conversion failed on the subgraph. Return GraphModule forward instead\n",
      "ERROR torchdynamo.optimizations.backends: FX2TRT conversion error\n",
      "Traceback (most recent call last):\n",
      "  File \"/home/ubuntu/torchdynamo-test/torchdynamo/torchdynamo/optimizations/backends.py\", line 333, in fx2trt\n",
      "    splitter_setting = TRTSplitterSetting()\n",
      "  File \"/home/ubuntu/.conda/envs/dyn/lib/python3.8/site-packages/torch_tensorrt/fx/tools/trt_splitter.py\", line 52, in __init__\n",
      "    self.exclude_support_node_name: set = set(self.op_lowering_disallow_list)\n",
      "AttributeError: 'TRTSplitterSetting' object has no attribute 'op_lowering_disallow_list'\n",
      "FX2TRT conversion failed on the subgraph. Return GraphModule forward instead\n"
     ]
    },
    {
     "name": "stderr",
     "output_type": "stream",
     "text": [
      "/home/ubuntu/.conda/envs/dyn/lib/python3.8/site-packages/torch_tensorrt/fx/tracer/acc_tracer/acc_tracer.py:546: UserWarning: acc_tracer does not support currently support models for training. Calling eval on model before tracing.\n",
      "  warnings.warn(\n",
      "/home/ubuntu/.conda/envs/dyn/lib/python3.8/site-packages/torch_tensorrt/fx/tracer/acc_tracer/acc_tracer.py:546: UserWarning: acc_tracer does not support currently support models for training. Calling eval on model before tracing.\n",
      "  warnings.warn(\n"
     ]
    },
    {
     "name": "stdout",
     "output_type": "stream",
     "text": [
      "ERROR torchdynamo.optimizations.backends: FX2TRT conversion error\n",
      "Traceback (most recent call last):\n",
      "  File \"/home/ubuntu/torchdynamo-test/torchdynamo/torchdynamo/optimizations/backends.py\", line 333, in fx2trt\n",
      "    splitter_setting = TRTSplitterSetting()\n",
      "  File \"/home/ubuntu/.conda/envs/dyn/lib/python3.8/site-packages/torch_tensorrt/fx/tools/trt_splitter.py\", line 52, in __init__\n",
      "    self.exclude_support_node_name: set = set(self.op_lowering_disallow_list)\n",
      "AttributeError: 'TRTSplitterSetting' object has no attribute 'op_lowering_disallow_list'\n",
      "FX2TRT conversion failed on the subgraph. Return GraphModule forward instead\n",
      "ERROR torchdynamo.optimizations.backends: FX2TRT conversion error\n",
      "Traceback (most recent call last):\n",
      "  File \"/home/ubuntu/torchdynamo-test/torchdynamo/torchdynamo/optimizations/backends.py\", line 333, in fx2trt\n",
      "    splitter_setting = TRTSplitterSetting()\n",
      "  File \"/home/ubuntu/.conda/envs/dyn/lib/python3.8/site-packages/torch_tensorrt/fx/tools/trt_splitter.py\", line 52, in __init__\n",
      "    self.exclude_support_node_name: set = set(self.op_lowering_disallow_list)\n",
      "AttributeError: 'TRTSplitterSetting' object has no attribute 'op_lowering_disallow_list'\n",
      "FX2TRT conversion failed on the subgraph. Return GraphModule forward instead\n",
      "ERROR torchdynamo.optimizations.backends: FX2TRT conversion error\n",
      "Traceback (most recent call last):\n",
      "  File \"/home/ubuntu/torchdynamo-test/torchdynamo/torchdynamo/optimizations/backends.py\", line 333, in fx2trt\n",
      "    splitter_setting = TRTSplitterSetting()\n",
      "  File \"/home/ubuntu/.conda/envs/dyn/lib/python3.8/site-packages/torch_tensorrt/fx/tools/trt_splitter.py\", line 52, in __init__\n",
      "    self.exclude_support_node_name: set = set(self.op_lowering_disallow_list)\n",
      "AttributeError: 'TRTSplitterSetting' object has no attribute 'op_lowering_disallow_list'\n",
      "FX2TRT conversion failed on the subgraph. Return GraphModule forward instead\n",
      "ERROR torchdynamo.optimizations.backends: FX2TRT conversion error\n",
      "Traceback (most recent call last):\n",
      "  File \"/home/ubuntu/torchdynamo-test/torchdynamo/torchdynamo/optimizations/backends.py\", line 333, in fx2trt\n",
      "    splitter_setting = TRTSplitterSetting()\n",
      "  File \"/home/ubuntu/.conda/envs/dyn/lib/python3.8/site-packages/torch_tensorrt/fx/tools/trt_splitter.py\", line 52, in __init__\n",
      "    self.exclude_support_node_name: set = set(self.op_lowering_disallow_list)\n",
      "AttributeError: 'TRTSplitterSetting' object has no attribute 'op_lowering_disallow_list'\n"
     ]
    },
    {
     "name": "stderr",
     "output_type": "stream",
     "text": [
      "/home/ubuntu/.conda/envs/dyn/lib/python3.8/site-packages/torch_tensorrt/fx/tracer/acc_tracer/acc_tracer.py:546: UserWarning: acc_tracer does not support currently support models for training. Calling eval on model before tracing.\n",
      "  warnings.warn(\n",
      "/home/ubuntu/.conda/envs/dyn/lib/python3.8/site-packages/torch/fx/operator_schemas.py:204: UserWarning: Does not support nested parametric types, got typing.List[~t]. Please file a bug.\n",
      "  warnings.warn(\n",
      "/home/ubuntu/.conda/envs/dyn/lib/python3.8/site-packages/torch_tensorrt/fx/tracer/acc_tracer/acc_tracer.py:546: UserWarning: acc_tracer does not support currently support models for training. Calling eval on model before tracing.\n",
      "  warnings.warn(\n",
      "/home/ubuntu/.conda/envs/dyn/lib/python3.8/site-packages/torch/fx/operator_schemas.py:204: UserWarning: Does not support nested parametric types, got typing.List[~t]. Please file a bug.\n",
      "  warnings.warn(\n",
      "/home/ubuntu/.conda/envs/dyn/lib/python3.8/site-packages/torch_tensorrt/fx/tracer/acc_tracer/acc_tracer.py:546: UserWarning: acc_tracer does not support currently support models for training. Calling eval on model before tracing.\n",
      "  warnings.warn(\n",
      "/home/ubuntu/.conda/envs/dyn/lib/python3.8/site-packages/torch/fx/operator_schemas.py:204: UserWarning: Does not support nested parametric types, got typing.List[~t]. Please file a bug.\n",
      "  warnings.warn(\n",
      "/home/ubuntu/.conda/envs/dyn/lib/python3.8/site-packages/torch_tensorrt/fx/tracer/acc_tracer/acc_tracer.py:546: UserWarning: acc_tracer does not support currently support models for training. Calling eval on model before tracing.\n",
      "  warnings.warn(\n",
      "/home/ubuntu/.conda/envs/dyn/lib/python3.8/site-packages/torch/fx/operator_schemas.py:204: UserWarning: Does not support nested parametric types, got typing.List[~t]. Please file a bug.\n",
      "  warnings.warn(\n"
     ]
    },
    {
     "name": "stdout",
     "output_type": "stream",
     "text": [
      "FX2TRT conversion failed on the subgraph. Return GraphModule forward instead\n",
      "ERROR torchdynamo.optimizations.backends: FX2TRT conversion error\n",
      "Traceback (most recent call last):\n",
      "  File \"/home/ubuntu/torchdynamo-test/torchdynamo/torchdynamo/optimizations/backends.py\", line 333, in fx2trt\n",
      "    splitter_setting = TRTSplitterSetting()\n",
      "  File \"/home/ubuntu/.conda/envs/dyn/lib/python3.8/site-packages/torch_tensorrt/fx/tools/trt_splitter.py\", line 52, in __init__\n",
      "    self.exclude_support_node_name: set = set(self.op_lowering_disallow_list)\n",
      "AttributeError: 'TRTSplitterSetting' object has no attribute 'op_lowering_disallow_list'\n",
      "FX2TRT conversion failed on the subgraph. Return GraphModule forward instead\n",
      "ERROR torchdynamo.optimizations.backends: FX2TRT conversion error\n",
      "Traceback (most recent call last):\n",
      "  File \"/home/ubuntu/torchdynamo-test/torchdynamo/torchdynamo/optimizations/backends.py\", line 333, in fx2trt\n",
      "    splitter_setting = TRTSplitterSetting()\n",
      "  File \"/home/ubuntu/.conda/envs/dyn/lib/python3.8/site-packages/torch_tensorrt/fx/tools/trt_splitter.py\", line 52, in __init__\n",
      "    self.exclude_support_node_name: set = set(self.op_lowering_disallow_list)\n",
      "AttributeError: 'TRTSplitterSetting' object has no attribute 'op_lowering_disallow_list'\n",
      "FX2TRT conversion failed on the subgraph. Return GraphModule forward instead\n",
      "ERROR torchdynamo.optimizations.backends: FX2TRT conversion error\n",
      "Traceback (most recent call last):\n",
      "  File \"/home/ubuntu/torchdynamo-test/torchdynamo/torchdynamo/optimizations/backends.py\", line 333, in fx2trt\n",
      "    splitter_setting = TRTSplitterSetting()\n",
      "  File \"/home/ubuntu/.conda/envs/dyn/lib/python3.8/site-packages/torch_tensorrt/fx/tools/trt_splitter.py\", line 52, in __init__\n",
      "    self.exclude_support_node_name: set = set(self.op_lowering_disallow_list)\n",
      "AttributeError: 'TRTSplitterSetting' object has no attribute 'op_lowering_disallow_list'\n",
      "FX2TRT conversion failed on the subgraph. Return GraphModule forward instead\n",
      "ERROR torchdynamo.optimizations.backends: FX2TRT conversion error\n",
      "Traceback (most recent call last):\n",
      "  File \"/home/ubuntu/torchdynamo-test/torchdynamo/torchdynamo/optimizations/backends.py\", line 333, in fx2trt\n",
      "    splitter_setting = TRTSplitterSetting()\n",
      "  File \"/home/ubuntu/.conda/envs/dyn/lib/python3.8/site-packages/torch_tensorrt/fx/tools/trt_splitter.py\", line 52, in __init__\n",
      "    self.exclude_support_node_name: set = set(self.op_lowering_disallow_list)\n",
      "AttributeError: 'TRTSplitterSetting' object has no attribute 'op_lowering_disallow_list'\n"
     ]
    },
    {
     "name": "stderr",
     "output_type": "stream",
     "text": [
      "/home/ubuntu/.conda/envs/dyn/lib/python3.8/site-packages/torch_tensorrt/fx/tracer/acc_tracer/acc_tracer.py:546: UserWarning: acc_tracer does not support currently support models for training. Calling eval on model before tracing.\n",
      "  warnings.warn(\n",
      "/home/ubuntu/.conda/envs/dyn/lib/python3.8/site-packages/torch/fx/operator_schemas.py:204: UserWarning: Does not support nested parametric types, got typing.List[~t]. Please file a bug.\n",
      "  warnings.warn(\n",
      "/home/ubuntu/.conda/envs/dyn/lib/python3.8/site-packages/torch_tensorrt/fx/tracer/acc_tracer/acc_tracer.py:546: UserWarning: acc_tracer does not support currently support models for training. Calling eval on model before tracing.\n",
      "  warnings.warn(\n",
      "/home/ubuntu/.conda/envs/dyn/lib/python3.8/site-packages/torch/fx/operator_schemas.py:204: UserWarning: Does not support nested parametric types, got typing.List[~t]. Please file a bug.\n",
      "  warnings.warn(\n",
      "/home/ubuntu/.conda/envs/dyn/lib/python3.8/site-packages/torch_tensorrt/fx/tracer/acc_tracer/acc_tracer.py:546: UserWarning: acc_tracer does not support currently support models for training. Calling eval on model before tracing.\n",
      "  warnings.warn(\n",
      "/home/ubuntu/.conda/envs/dyn/lib/python3.8/site-packages/torch/fx/operator_schemas.py:204: UserWarning: Does not support nested parametric types, got typing.List[~t]. Please file a bug.\n",
      "  warnings.warn(\n",
      "/home/ubuntu/.conda/envs/dyn/lib/python3.8/site-packages/torch_tensorrt/fx/tracer/acc_tracer/acc_tracer.py:546: UserWarning: acc_tracer does not support currently support models for training. Calling eval on model before tracing.\n",
      "  warnings.warn(\n",
      "/home/ubuntu/.conda/envs/dyn/lib/python3.8/site-packages/torch/fx/operator_schemas.py:204: UserWarning: Does not support nested parametric types, got typing.List[~t]. Please file a bug.\n",
      "  warnings.warn(\n",
      "/home/ubuntu/.conda/envs/dyn/lib/python3.8/site-packages/torch_tensorrt/fx/tracer/acc_tracer/acc_tracer.py:546: UserWarning: acc_tracer does not support currently support models for training. Calling eval on model before tracing.\n",
      "  warnings.warn(\n"
     ]
    },
    {
     "name": "stdout",
     "output_type": "stream",
     "text": [
      "FX2TRT conversion failed on the subgraph. Return GraphModule forward instead\n",
      "ERROR torchdynamo.optimizations.backends: FX2TRT conversion error\n",
      "Traceback (most recent call last):\n",
      "  File \"/home/ubuntu/torchdynamo-test/torchdynamo/torchdynamo/optimizations/backends.py\", line 333, in fx2trt\n",
      "    splitter_setting = TRTSplitterSetting()\n",
      "  File \"/home/ubuntu/.conda/envs/dyn/lib/python3.8/site-packages/torch_tensorrt/fx/tools/trt_splitter.py\", line 52, in __init__\n",
      "    self.exclude_support_node_name: set = set(self.op_lowering_disallow_list)\n",
      "AttributeError: 'TRTSplitterSetting' object has no attribute 'op_lowering_disallow_list'\n",
      "FX2TRT conversion failed on the subgraph. Return GraphModule forward instead\n",
      "ERROR torchdynamo.optimizations.backends: FX2TRT conversion error\n",
      "Traceback (most recent call last):\n",
      "  File \"/home/ubuntu/torchdynamo-test/torchdynamo/torchdynamo/optimizations/backends.py\", line 333, in fx2trt\n",
      "    splitter_setting = TRTSplitterSetting()\n",
      "  File \"/home/ubuntu/.conda/envs/dyn/lib/python3.8/site-packages/torch_tensorrt/fx/tools/trt_splitter.py\", line 52, in __init__\n",
      "    self.exclude_support_node_name: set = set(self.op_lowering_disallow_list)\n",
      "AttributeError: 'TRTSplitterSetting' object has no attribute 'op_lowering_disallow_list'\n",
      "FX2TRT conversion failed on the subgraph. Return GraphModule forward instead\n",
      "ERROR torchdynamo.optimizations.backends: FX2TRT conversion error\n",
      "Traceback (most recent call last):\n",
      "  File \"/home/ubuntu/torchdynamo-test/torchdynamo/torchdynamo/optimizations/backends.py\", line 331, in fx2trt\n",
      "    acc_model = acc_tracer.trace(model, inputs)\n",
      "  File \"/home/ubuntu/.conda/envs/dyn/lib/python3.8/site-packages/torch_tensorrt/fx/tracer/acc_tracer/acc_tracer.py\", line 555, in trace\n",
      "    traced = rewriter_base_trace(mod, ast_rewriter_allow_list, leaf_module_list)\n",
      "  File \"/home/ubuntu/.conda/envs/dyn/lib/python3.8/site-packages/torch_tensorrt/fx/tracer/acc_tracer/acc_tracer.py\", line 481, in rewriter_base_trace\n",
      "    rewritten_graph, rewritten_mod = AccRewritingTracer().trace(\n",
      "  File \"/home/ubuntu/.conda/envs/dyn/lib/python3.8/site-packages/torch_tensorrt/fx/tracer/acc_tracer/acc_tracer.py\", line 285, in trace\n",
      "    return super().trace(rewritten, concrete_args), rewritten\n",
      "  File \"/home/ubuntu/torchdynamo-test/torchdynamo/torchdynamo/eval_frame.py\", line 94, in _fn\n",
      "    return fn(*args, **kwargs)\n",
      "  File \"/home/ubuntu/.conda/envs/dyn/lib/python3.8/site-packages/torch/fx/_symbolic_trace.py\", line 716, in trace\n",
      "    (self.create_arg(fn(*args)),),\n",
      "  File \"<eval_with_key>.751\", line 7, in forward\n",
      "    cat = torch.cat([getitem, False, getitem_1], 0);  getitem = getitem_1 = None\n",
      "TypeError: expected Tensor as element 1 in argument 0, but got bool\n",
      "FX2TRT conversion failed on the subgraph. Return GraphModule forward instead\n",
      "ERROR torchdynamo.optimizations.backends: FX2TRT conversion error\n",
      "Traceback (most recent call last):\n",
      "  File \"/home/ubuntu/torchdynamo-test/torchdynamo/torchdynamo/optimizations/backends.py\", line 333, in fx2trt\n",
      "    splitter_setting = TRTSplitterSetting()\n",
      "  File \"/home/ubuntu/.conda/envs/dyn/lib/python3.8/site-packages/torch_tensorrt/fx/tools/trt_splitter.py\", line 52, in __init__\n",
      "    self.exclude_support_node_name: set = set(self.op_lowering_disallow_list)\n",
      "AttributeError: 'TRTSplitterSetting' object has no attribute 'op_lowering_disallow_list'\n",
      "FX2TRT conversion failed on the subgraph. Return GraphModule forward instead\n"
     ]
    },
    {
     "name": "stderr",
     "output_type": "stream",
     "text": [
      "/home/ubuntu/.conda/envs/dyn/lib/python3.8/site-packages/torch_tensorrt/fx/tracer/acc_tracer/acc_tracer.py:546: UserWarning: acc_tracer does not support currently support models for training. Calling eval on model before tracing.\n",
      "  warnings.warn(\n",
      "/home/ubuntu/.conda/envs/dyn/lib/python3.8/site-packages/torch_tensorrt/fx/tracer/acc_tracer/acc_tracer.py:546: UserWarning: acc_tracer does not support currently support models for training. Calling eval on model before tracing.\n",
      "  warnings.warn(\n",
      "/home/ubuntu/.conda/envs/dyn/lib/python3.8/site-packages/torch_tensorrt/fx/tracer/acc_tracer/acc_tracer.py:546: UserWarning: acc_tracer does not support currently support models for training. Calling eval on model before tracing.\n",
      "  warnings.warn(\n",
      "/home/ubuntu/.conda/envs/dyn/lib/python3.8/site-packages/torch/fx/operator_schemas.py:180: UserWarning: We were not able to successfully create type hint from the type (slice(<class 'NoneType'>, <class 'NoneType'>, <class 'NoneType'>), slice(<class 'int'>, <class 'NoneType'>, <class 'NoneType'>))\n",
      "  warnings.warn(f\"We were not able to successfully create type hint from the type {x}\")\n"
     ]
    },
    {
     "name": "stdout",
     "output_type": "stream",
     "text": [
      "ERROR torchdynamo.optimizations.backends: FX2TRT conversion error\n",
      "Traceback (most recent call last):\n",
      "  File \"/home/ubuntu/torchdynamo-test/torchdynamo/torchdynamo/optimizations/backends.py\", line 333, in fx2trt\n",
      "    splitter_setting = TRTSplitterSetting()\n",
      "  File \"/home/ubuntu/.conda/envs/dyn/lib/python3.8/site-packages/torch_tensorrt/fx/tools/trt_splitter.py\", line 52, in __init__\n",
      "    self.exclude_support_node_name: set = set(self.op_lowering_disallow_list)\n",
      "AttributeError: 'TRTSplitterSetting' object has no attribute 'op_lowering_disallow_list'\n",
      "FX2TRT conversion failed on the subgraph. Return GraphModule forward instead\n",
      "ERROR torchdynamo.optimizations.backends: FX2TRT conversion error\n",
      "Traceback (most recent call last):\n",
      "  File \"/home/ubuntu/torchdynamo-test/torchdynamo/torchdynamo/optimizations/backends.py\", line 333, in fx2trt\n",
      "    splitter_setting = TRTSplitterSetting()\n",
      "  File \"/home/ubuntu/.conda/envs/dyn/lib/python3.8/site-packages/torch_tensorrt/fx/tools/trt_splitter.py\", line 52, in __init__\n",
      "    self.exclude_support_node_name: set = set(self.op_lowering_disallow_list)\n",
      "AttributeError: 'TRTSplitterSetting' object has no attribute 'op_lowering_disallow_list'\n"
     ]
    },
    {
     "name": "stderr",
     "output_type": "stream",
     "text": [
      "/home/ubuntu/.conda/envs/dyn/lib/python3.8/site-packages/torch_tensorrt/fx/tracer/acc_tracer/acc_tracer.py:546: UserWarning: acc_tracer does not support currently support models for training. Calling eval on model before tracing.\n",
      "  warnings.warn(\n",
      "/home/ubuntu/.conda/envs/dyn/lib/python3.8/site-packages/torch/fx/operator_schemas.py:180: UserWarning: We were not able to successfully create type hint from the type (slice(<class 'NoneType'>, <class 'NoneType'>, <class 'NoneType'>), <class 'NoneType'>, <class 'NoneType'>, slice(<class 'NoneType'>, <class 'NoneType'>, <class 'NoneType'>))\n",
      "  warnings.warn(f\"We were not able to successfully create type hint from the type {x}\")\n",
      "/home/ubuntu/.conda/envs/dyn/lib/python3.8/site-packages/torch_tensorrt/fx/tracer/acc_tracer/acc_tracer.py:546: UserWarning: acc_tracer does not support currently support models for training. Calling eval on model before tracing.\n",
      "  warnings.warn(\n"
     ]
    },
    {
     "name": "stdout",
     "output_type": "stream",
     "text": [
      "FX2TRT conversion failed on the subgraph. Return GraphModule forward instead\n"
     ]
    },
    {
     "name": "stderr",
     "output_type": "stream",
     "text": [
      "/home/ubuntu/.conda/envs/dyn/lib/python3.8/site-packages/torch_tensorrt/fx/tracer/acc_tracer/acc_tracer.py:546: UserWarning: acc_tracer does not support currently support models for training. Calling eval on model before tracing.\n",
      "  warnings.warn(\n"
     ]
    },
    {
     "name": "stdout",
     "output_type": "stream",
     "text": [
      "ERROR torchdynamo.optimizations.backends: FX2TRT conversion error\n",
      "Traceback (most recent call last):\n",
      "  File \"/home/ubuntu/torchdynamo-test/torchdynamo/torchdynamo/optimizations/backends.py\", line 333, in fx2trt\n",
      "    splitter_setting = TRTSplitterSetting()\n",
      "  File \"/home/ubuntu/.conda/envs/dyn/lib/python3.8/site-packages/torch_tensorrt/fx/tools/trt_splitter.py\", line 52, in __init__\n",
      "    self.exclude_support_node_name: set = set(self.op_lowering_disallow_list)\n",
      "AttributeError: 'TRTSplitterSetting' object has no attribute 'op_lowering_disallow_list'\n",
      "FX2TRT conversion failed on the subgraph. Return GraphModule forward instead\n",
      "ERROR torchdynamo.optimizations.backends: FX2TRT conversion error\n",
      "Traceback (most recent call last):\n",
      "  File \"/home/ubuntu/torchdynamo-test/torchdynamo/torchdynamo/optimizations/backends.py\", line 333, in fx2trt\n",
      "    splitter_setting = TRTSplitterSetting()\n",
      "  File \"/home/ubuntu/.conda/envs/dyn/lib/python3.8/site-packages/torch_tensorrt/fx/tools/trt_splitter.py\", line 52, in __init__\n",
      "    self.exclude_support_node_name: set = set(self.op_lowering_disallow_list)\n",
      "AttributeError: 'TRTSplitterSetting' object has no attribute 'op_lowering_disallow_list'\n",
      "FX2TRT conversion failed on the subgraph. Return GraphModule forward instead\n",
      "ERROR torchdynamo.optimizations.backends: FX2TRT conversion error\n",
      "Traceback (most recent call last):\n",
      "  File \"/home/ubuntu/torchdynamo-test/torchdynamo/torchdynamo/optimizations/backends.py\", line 333, in fx2trt\n",
      "    splitter_setting = TRTSplitterSetting()\n",
      "  File \"/home/ubuntu/.conda/envs/dyn/lib/python3.8/site-packages/torch_tensorrt/fx/tools/trt_splitter.py\", line 52, in __init__\n",
      "    self.exclude_support_node_name: set = set(self.op_lowering_disallow_list)\n",
      "AttributeError: 'TRTSplitterSetting' object has no attribute 'op_lowering_disallow_list'\n",
      "FX2TRT conversion failed on the subgraph. Return GraphModule forward instead\n",
      "ERROR torchdynamo.optimizations.backends: FX2TRT conversion error\n",
      "Traceback (most recent call last):\n",
      "  File \"/home/ubuntu/torchdynamo-test/torchdynamo/torchdynamo/optimizations/backends.py\", line 333, in fx2trt\n",
      "    splitter_setting = TRTSplitterSetting()\n",
      "  File \"/home/ubuntu/.conda/envs/dyn/lib/python3.8/site-packages/torch_tensorrt/fx/tools/trt_splitter.py\", line 52, in __init__\n",
      "    self.exclude_support_node_name: set = set(self.op_lowering_disallow_list)\n",
      "AttributeError: 'TRTSplitterSetting' object has no attribute 'op_lowering_disallow_list'\n"
     ]
    },
    {
     "name": "stderr",
     "output_type": "stream",
     "text": [
      "/home/ubuntu/.conda/envs/dyn/lib/python3.8/site-packages/torch_tensorrt/fx/tracer/acc_tracer/acc_tracer.py:546: UserWarning: acc_tracer does not support currently support models for training. Calling eval on model before tracing.\n",
      "  warnings.warn(\n",
      "/home/ubuntu/.conda/envs/dyn/lib/python3.8/site-packages/torch_tensorrt/fx/tracer/acc_tracer/acc_tracer.py:546: UserWarning: acc_tracer does not support currently support models for training. Calling eval on model before tracing.\n",
      "  warnings.warn(\n",
      "/home/ubuntu/.conda/envs/dyn/lib/python3.8/site-packages/torch_tensorrt/fx/tracer/acc_tracer/acc_tracer.py:546: UserWarning: acc_tracer does not support currently support models for training. Calling eval on model before tracing.\n",
      "  warnings.warn(\n",
      "/home/ubuntu/.conda/envs/dyn/lib/python3.8/site-packages/torch/fx/operator_schemas.py:204: UserWarning: Does not support nested parametric types, got typing.List[~t]. Please file a bug.\n",
      "  warnings.warn(\n",
      "/home/ubuntu/.conda/envs/dyn/lib/python3.8/site-packages/torch_tensorrt/fx/tracer/acc_tracer/acc_tracer.py:546: UserWarning: acc_tracer does not support currently support models for training. Calling eval on model before tracing.\n",
      "  warnings.warn(\n"
     ]
    },
    {
     "name": "stdout",
     "output_type": "stream",
     "text": [
      "FX2TRT conversion failed on the subgraph. Return GraphModule forward instead\n",
      "ERROR torchdynamo.optimizations.backends: FX2TRT conversion error\n",
      "Traceback (most recent call last):\n",
      "  File \"/home/ubuntu/torchdynamo-test/torchdynamo/torchdynamo/optimizations/backends.py\", line 333, in fx2trt\n",
      "    splitter_setting = TRTSplitterSetting()\n",
      "  File \"/home/ubuntu/.conda/envs/dyn/lib/python3.8/site-packages/torch_tensorrt/fx/tools/trt_splitter.py\", line 52, in __init__\n",
      "    self.exclude_support_node_name: set = set(self.op_lowering_disallow_list)\n",
      "AttributeError: 'TRTSplitterSetting' object has no attribute 'op_lowering_disallow_list'\n",
      "FX2TRT conversion failed on the subgraph. Return GraphModule forward instead\n",
      "ERROR torchdynamo.optimizations.backends: FX2TRT conversion error\n",
      "Traceback (most recent call last):\n",
      "  File \"/home/ubuntu/torchdynamo-test/torchdynamo/torchdynamo/optimizations/backends.py\", line 333, in fx2trt\n",
      "    splitter_setting = TRTSplitterSetting()\n",
      "  File \"/home/ubuntu/.conda/envs/dyn/lib/python3.8/site-packages/torch_tensorrt/fx/tools/trt_splitter.py\", line 52, in __init__\n",
      "    self.exclude_support_node_name: set = set(self.op_lowering_disallow_list)\n",
      "AttributeError: 'TRTSplitterSetting' object has no attribute 'op_lowering_disallow_list'\n",
      "FX2TRT conversion failed on the subgraph. Return GraphModule forward instead\n",
      "ERROR torchdynamo.optimizations.backends: FX2TRT conversion error\n",
      "Traceback (most recent call last):\n",
      "  File \"/home/ubuntu/torchdynamo-test/torchdynamo/torchdynamo/optimizations/backends.py\", line 333, in fx2trt\n",
      "    splitter_setting = TRTSplitterSetting()\n",
      "  File \"/home/ubuntu/.conda/envs/dyn/lib/python3.8/site-packages/torch_tensorrt/fx/tools/trt_splitter.py\", line 52, in __init__\n",
      "    self.exclude_support_node_name: set = set(self.op_lowering_disallow_list)\n",
      "AttributeError: 'TRTSplitterSetting' object has no attribute 'op_lowering_disallow_list'\n",
      "FX2TRT conversion failed on the subgraph. Return GraphModule forward instead\n",
      "ERROR torchdynamo.optimizations.backends: FX2TRT conversion error\n",
      "Traceback (most recent call last):\n",
      "  File \"/home/ubuntu/torchdynamo-test/torchdynamo/torchdynamo/optimizations/backends.py\", line 333, in fx2trt\n",
      "    splitter_setting = TRTSplitterSetting()\n",
      "  File \"/home/ubuntu/.conda/envs/dyn/lib/python3.8/site-packages/torch_tensorrt/fx/tools/trt_splitter.py\", line 52, in __init__\n",
      "    self.exclude_support_node_name: set = set(self.op_lowering_disallow_list)\n",
      "AttributeError: 'TRTSplitterSetting' object has no attribute 'op_lowering_disallow_list'\n"
     ]
    },
    {
     "name": "stderr",
     "output_type": "stream",
     "text": [
      "/home/ubuntu/.conda/envs/dyn/lib/python3.8/site-packages/torch/fx/operator_schemas.py:204: UserWarning: Does not support nested parametric types, got typing.List[~t]. Please file a bug.\n",
      "  warnings.warn(\n",
      "/home/ubuntu/.conda/envs/dyn/lib/python3.8/site-packages/torch_tensorrt/fx/tracer/acc_tracer/acc_tracer.py:546: UserWarning: acc_tracer does not support currently support models for training. Calling eval on model before tracing.\n",
      "  warnings.warn(\n",
      "/home/ubuntu/.conda/envs/dyn/lib/python3.8/site-packages/torch/fx/operator_schemas.py:204: UserWarning: Does not support nested parametric types, got typing.List[~t]. Please file a bug.\n",
      "  warnings.warn(\n",
      "/home/ubuntu/.conda/envs/dyn/lib/python3.8/site-packages/torch_tensorrt/fx/tracer/acc_tracer/acc_tracer.py:546: UserWarning: acc_tracer does not support currently support models for training. Calling eval on model before tracing.\n",
      "  warnings.warn(\n",
      "/home/ubuntu/.conda/envs/dyn/lib/python3.8/site-packages/torch/fx/operator_schemas.py:204: UserWarning: Does not support nested parametric types, got typing.List[~t]. Please file a bug.\n",
      "  warnings.warn(\n",
      "/home/ubuntu/.conda/envs/dyn/lib/python3.8/site-packages/torch_tensorrt/fx/tracer/acc_tracer/acc_tracer.py:546: UserWarning: acc_tracer does not support currently support models for training. Calling eval on model before tracing.\n",
      "  warnings.warn(\n",
      "/home/ubuntu/.conda/envs/dyn/lib/python3.8/site-packages/torch/fx/operator_schemas.py:204: UserWarning: Does not support nested parametric types, got typing.List[~t]. Please file a bug.\n",
      "  warnings.warn(\n"
     ]
    },
    {
     "name": "stdout",
     "output_type": "stream",
     "text": [
      "FX2TRT conversion failed on the subgraph. Return GraphModule forward instead\n",
      "ERROR torchdynamo.optimizations.backends: FX2TRT conversion error\n",
      "Traceback (most recent call last):\n",
      "  File \"/home/ubuntu/torchdynamo-test/torchdynamo/torchdynamo/optimizations/backends.py\", line 333, in fx2trt\n",
      "    splitter_setting = TRTSplitterSetting()\n",
      "  File \"/home/ubuntu/.conda/envs/dyn/lib/python3.8/site-packages/torch_tensorrt/fx/tools/trt_splitter.py\", line 52, in __init__\n",
      "    self.exclude_support_node_name: set = set(self.op_lowering_disallow_list)\n",
      "AttributeError: 'TRTSplitterSetting' object has no attribute 'op_lowering_disallow_list'\n",
      "FX2TRT conversion failed on the subgraph. Return GraphModule forward instead\n",
      "ERROR torchdynamo.optimizations.backends: FX2TRT conversion error\n",
      "Traceback (most recent call last):\n",
      "  File \"/home/ubuntu/torchdynamo-test/torchdynamo/torchdynamo/optimizations/backends.py\", line 333, in fx2trt\n",
      "    splitter_setting = TRTSplitterSetting()\n",
      "  File \"/home/ubuntu/.conda/envs/dyn/lib/python3.8/site-packages/torch_tensorrt/fx/tools/trt_splitter.py\", line 52, in __init__\n",
      "    self.exclude_support_node_name: set = set(self.op_lowering_disallow_list)\n",
      "AttributeError: 'TRTSplitterSetting' object has no attribute 'op_lowering_disallow_list'\n",
      "FX2TRT conversion failed on the subgraph. Return GraphModule forward instead\n",
      "ERROR torchdynamo.optimizations.backends: FX2TRT conversion error\n",
      "Traceback (most recent call last):\n",
      "  File \"/home/ubuntu/torchdynamo-test/torchdynamo/torchdynamo/optimizations/backends.py\", line 333, in fx2trt\n",
      "    splitter_setting = TRTSplitterSetting()\n",
      "  File \"/home/ubuntu/.conda/envs/dyn/lib/python3.8/site-packages/torch_tensorrt/fx/tools/trt_splitter.py\", line 52, in __init__\n",
      "    self.exclude_support_node_name: set = set(self.op_lowering_disallow_list)\n",
      "AttributeError: 'TRTSplitterSetting' object has no attribute 'op_lowering_disallow_list'\n",
      "FX2TRT conversion failed on the subgraph. Return GraphModule forward instead\n",
      "ERROR torchdynamo.optimizations.backends: FX2TRT conversion error\n",
      "Traceback (most recent call last):\n",
      "  File \"/home/ubuntu/torchdynamo-test/torchdynamo/torchdynamo/optimizations/backends.py\", line 333, in fx2trt\n",
      "    splitter_setting = TRTSplitterSetting()\n",
      "  File \"/home/ubuntu/.conda/envs/dyn/lib/python3.8/site-packages/torch_tensorrt/fx/tools/trt_splitter.py\", line 52, in __init__\n",
      "    self.exclude_support_node_name: set = set(self.op_lowering_disallow_list)\n",
      "AttributeError: 'TRTSplitterSetting' object has no attribute 'op_lowering_disallow_list'\n",
      "FX2TRT conversion failed on the subgraph. Return GraphModule forward instead\n"
     ]
    },
    {
     "name": "stderr",
     "output_type": "stream",
     "text": [
      "/home/ubuntu/.conda/envs/dyn/lib/python3.8/site-packages/torch_tensorrt/fx/tracer/acc_tracer/acc_tracer.py:546: UserWarning: acc_tracer does not support currently support models for training. Calling eval on model before tracing.\n",
      "  warnings.warn(\n",
      "/home/ubuntu/.conda/envs/dyn/lib/python3.8/site-packages/torch/fx/operator_schemas.py:204: UserWarning: Does not support nested parametric types, got typing.List[~t]. Please file a bug.\n",
      "  warnings.warn(\n",
      "/home/ubuntu/.conda/envs/dyn/lib/python3.8/site-packages/torch_tensorrt/fx/tracer/acc_tracer/acc_tracer.py:546: UserWarning: acc_tracer does not support currently support models for training. Calling eval on model before tracing.\n",
      "  warnings.warn(\n",
      "/home/ubuntu/.conda/envs/dyn/lib/python3.8/site-packages/torch/fx/operator_schemas.py:204: UserWarning: Does not support nested parametric types, got typing.List[~t]. Please file a bug.\n",
      "  warnings.warn(\n",
      "/home/ubuntu/.conda/envs/dyn/lib/python3.8/site-packages/torch_tensorrt/fx/tracer/acc_tracer/acc_tracer.py:546: UserWarning: acc_tracer does not support currently support models for training. Calling eval on model before tracing.\n",
      "  warnings.warn(\n",
      "/home/ubuntu/.conda/envs/dyn/lib/python3.8/site-packages/torch/fx/operator_schemas.py:204: UserWarning: Does not support nested parametric types, got typing.List[~t]. Please file a bug.\n",
      "  warnings.warn(\n",
      "/home/ubuntu/.conda/envs/dyn/lib/python3.8/site-packages/torch_tensorrt/fx/tracer/acc_tracer/acc_tracer.py:546: UserWarning: acc_tracer does not support currently support models for training. Calling eval on model before tracing.\n",
      "  warnings.warn(\n"
     ]
    },
    {
     "name": "stdout",
     "output_type": "stream",
     "text": [
      "ERROR torchdynamo.optimizations.backends: FX2TRT conversion error\n",
      "Traceback (most recent call last):\n",
      "  File \"/home/ubuntu/torchdynamo-test/torchdynamo/torchdynamo/optimizations/backends.py\", line 333, in fx2trt\n",
      "    splitter_setting = TRTSplitterSetting()\n",
      "  File \"/home/ubuntu/.conda/envs/dyn/lib/python3.8/site-packages/torch_tensorrt/fx/tools/trt_splitter.py\", line 52, in __init__\n",
      "    self.exclude_support_node_name: set = set(self.op_lowering_disallow_list)\n",
      "AttributeError: 'TRTSplitterSetting' object has no attribute 'op_lowering_disallow_list'\n",
      "FX2TRT conversion failed on the subgraph. Return GraphModule forward instead\n",
      "ERROR torchdynamo.optimizations.backends: FX2TRT conversion error\n",
      "Traceback (most recent call last):\n",
      "  File \"/home/ubuntu/torchdynamo-test/torchdynamo/torchdynamo/optimizations/backends.py\", line 331, in fx2trt\n",
      "    acc_model = acc_tracer.trace(model, inputs)\n",
      "  File \"/home/ubuntu/.conda/envs/dyn/lib/python3.8/site-packages/torch_tensorrt/fx/tracer/acc_tracer/acc_tracer.py\", line 555, in trace\n",
      "    traced = rewriter_base_trace(mod, ast_rewriter_allow_list, leaf_module_list)\n",
      "  File \"/home/ubuntu/.conda/envs/dyn/lib/python3.8/site-packages/torch_tensorrt/fx/tracer/acc_tracer/acc_tracer.py\", line 481, in rewriter_base_trace\n",
      "    rewritten_graph, rewritten_mod = AccRewritingTracer().trace(\n",
      "  File \"/home/ubuntu/.conda/envs/dyn/lib/python3.8/site-packages/torch_tensorrt/fx/tracer/acc_tracer/acc_tracer.py\", line 285, in trace\n",
      "    return super().trace(rewritten, concrete_args), rewritten\n",
      "  File \"/home/ubuntu/torchdynamo-test/torchdynamo/torchdynamo/eval_frame.py\", line 94, in _fn\n",
      "    return fn(*args, **kwargs)\n",
      "  File \"/home/ubuntu/.conda/envs/dyn/lib/python3.8/site-packages/torch/fx/_symbolic_trace.py\", line 716, in trace\n",
      "    (self.create_arg(fn(*args)),),\n",
      "  File \"<eval_with_key>.917\", line 7, in forward\n",
      "    cat = torch.cat([getitem, False, getitem_1], 0);  getitem = getitem_1 = None\n",
      "TypeError: expected Tensor as element 1 in argument 0, but got bool\n",
      "FX2TRT conversion failed on the subgraph. Return GraphModule forward instead\n",
      "ERROR torchdynamo.optimizations.backends: FX2TRT conversion error\n",
      "Traceback (most recent call last):\n",
      "  File \"/home/ubuntu/torchdynamo-test/torchdynamo/torchdynamo/optimizations/backends.py\", line 333, in fx2trt\n",
      "    splitter_setting = TRTSplitterSetting()\n",
      "  File \"/home/ubuntu/.conda/envs/dyn/lib/python3.8/site-packages/torch_tensorrt/fx/tools/trt_splitter.py\", line 52, in __init__\n",
      "    self.exclude_support_node_name: set = set(self.op_lowering_disallow_list)\n",
      "AttributeError: 'TRTSplitterSetting' object has no attribute 'op_lowering_disallow_list'\n",
      "FX2TRT conversion failed on the subgraph. Return GraphModule forward instead\n"
     ]
    },
    {
     "name": "stderr",
     "output_type": "stream",
     "text": [
      "/home/ubuntu/.conda/envs/dyn/lib/python3.8/site-packages/torch_tensorrt/fx/tracer/acc_tracer/acc_tracer.py:546: UserWarning: acc_tracer does not support currently support models for training. Calling eval on model before tracing.\n",
      "  warnings.warn(\n",
      "/home/ubuntu/.conda/envs/dyn/lib/python3.8/site-packages/torch_tensorrt/fx/tracer/acc_tracer/acc_tracer.py:546: UserWarning: acc_tracer does not support currently support models for training. Calling eval on model before tracing.\n",
      "  warnings.warn(\n",
      "/home/ubuntu/.conda/envs/dyn/lib/python3.8/site-packages/torch_tensorrt/fx/tracer/acc_tracer/acc_tracer.py:546: UserWarning: acc_tracer does not support currently support models for training. Calling eval on model before tracing.\n",
      "  warnings.warn(\n",
      "/home/ubuntu/.conda/envs/dyn/lib/python3.8/site-packages/torch/fx/operator_schemas.py:180: UserWarning: We were not able to successfully create type hint from the type (slice(<class 'NoneType'>, <class 'NoneType'>, <class 'NoneType'>), slice(<class 'int'>, <class 'NoneType'>, <class 'NoneType'>))\n",
      "  warnings.warn(f\"We were not able to successfully create type hint from the type {x}\")\n"
     ]
    },
    {
     "name": "stdout",
     "output_type": "stream",
     "text": [
      "ERROR torchdynamo.optimizations.backends: FX2TRT conversion error\n",
      "Traceback (most recent call last):\n",
      "  File \"/home/ubuntu/torchdynamo-test/torchdynamo/torchdynamo/optimizations/backends.py\", line 333, in fx2trt\n",
      "    splitter_setting = TRTSplitterSetting()\n",
      "  File \"/home/ubuntu/.conda/envs/dyn/lib/python3.8/site-packages/torch_tensorrt/fx/tools/trt_splitter.py\", line 52, in __init__\n",
      "    self.exclude_support_node_name: set = set(self.op_lowering_disallow_list)\n",
      "AttributeError: 'TRTSplitterSetting' object has no attribute 'op_lowering_disallow_list'\n",
      "FX2TRT conversion failed on the subgraph. Return GraphModule forward instead\n",
      "ERROR torchdynamo.optimizations.backends: FX2TRT conversion error\n",
      "Traceback (most recent call last):\n",
      "  File \"/home/ubuntu/torchdynamo-test/torchdynamo/torchdynamo/optimizations/backends.py\", line 333, in fx2trt\n",
      "    splitter_setting = TRTSplitterSetting()\n",
      "  File \"/home/ubuntu/.conda/envs/dyn/lib/python3.8/site-packages/torch_tensorrt/fx/tools/trt_splitter.py\", line 52, in __init__\n",
      "    self.exclude_support_node_name: set = set(self.op_lowering_disallow_list)\n",
      "AttributeError: 'TRTSplitterSetting' object has no attribute 'op_lowering_disallow_list'\n"
     ]
    },
    {
     "name": "stderr",
     "output_type": "stream",
     "text": [
      "/home/ubuntu/.conda/envs/dyn/lib/python3.8/site-packages/torch_tensorrt/fx/tracer/acc_tracer/acc_tracer.py:546: UserWarning: acc_tracer does not support currently support models for training. Calling eval on model before tracing.\n",
      "  warnings.warn(\n",
      "/home/ubuntu/.conda/envs/dyn/lib/python3.8/site-packages/torch/fx/operator_schemas.py:180: UserWarning: We were not able to successfully create type hint from the type (slice(<class 'NoneType'>, <class 'NoneType'>, <class 'NoneType'>), <class 'NoneType'>, <class 'NoneType'>, slice(<class 'NoneType'>, <class 'NoneType'>, <class 'NoneType'>))\n",
      "  warnings.warn(f\"We were not able to successfully create type hint from the type {x}\")\n",
      "/home/ubuntu/.conda/envs/dyn/lib/python3.8/site-packages/torch_tensorrt/fx/tracer/acc_tracer/acc_tracer.py:546: UserWarning: acc_tracer does not support currently support models for training. Calling eval on model before tracing.\n",
      "  warnings.warn(\n"
     ]
    },
    {
     "name": "stdout",
     "output_type": "stream",
     "text": [
      "FX2TRT conversion failed on the subgraph. Return GraphModule forward instead\n"
     ]
    },
    {
     "name": "stderr",
     "output_type": "stream",
     "text": [
      "/home/ubuntu/.conda/envs/dyn/lib/python3.8/site-packages/torch_tensorrt/fx/tracer/acc_tracer/acc_tracer.py:546: UserWarning: acc_tracer does not support currently support models for training. Calling eval on model before tracing.\n",
      "  warnings.warn(\n"
     ]
    },
    {
     "name": "stdout",
     "output_type": "stream",
     "text": [
      "ERROR torchdynamo.optimizations.backends: FX2TRT conversion error\n",
      "Traceback (most recent call last):\n",
      "  File \"/home/ubuntu/torchdynamo-test/torchdynamo/torchdynamo/optimizations/backends.py\", line 333, in fx2trt\n",
      "    splitter_setting = TRTSplitterSetting()\n",
      "  File \"/home/ubuntu/.conda/envs/dyn/lib/python3.8/site-packages/torch_tensorrt/fx/tools/trt_splitter.py\", line 52, in __init__\n",
      "    self.exclude_support_node_name: set = set(self.op_lowering_disallow_list)\n",
      "AttributeError: 'TRTSplitterSetting' object has no attribute 'op_lowering_disallow_list'\n",
      "FX2TRT conversion failed on the subgraph. Return GraphModule forward instead\n",
      "ERROR torchdynamo.optimizations.backends: FX2TRT conversion error\n",
      "Traceback (most recent call last):\n",
      "  File \"/home/ubuntu/torchdynamo-test/torchdynamo/torchdynamo/optimizations/backends.py\", line 333, in fx2trt\n",
      "    splitter_setting = TRTSplitterSetting()\n",
      "  File \"/home/ubuntu/.conda/envs/dyn/lib/python3.8/site-packages/torch_tensorrt/fx/tools/trt_splitter.py\", line 52, in __init__\n",
      "    self.exclude_support_node_name: set = set(self.op_lowering_disallow_list)\n",
      "AttributeError: 'TRTSplitterSetting' object has no attribute 'op_lowering_disallow_list'\n",
      "FX2TRT conversion failed on the subgraph. Return GraphModule forward instead\n",
      "ERROR torchdynamo.optimizations.backends: FX2TRT conversion error\n",
      "Traceback (most recent call last):\n",
      "  File \"/home/ubuntu/torchdynamo-test/torchdynamo/torchdynamo/optimizations/backends.py\", line 333, in fx2trt\n",
      "    splitter_setting = TRTSplitterSetting()\n",
      "  File \"/home/ubuntu/.conda/envs/dyn/lib/python3.8/site-packages/torch_tensorrt/fx/tools/trt_splitter.py\", line 52, in __init__\n",
      "    self.exclude_support_node_name: set = set(self.op_lowering_disallow_list)\n",
      "AttributeError: 'TRTSplitterSetting' object has no attribute 'op_lowering_disallow_list'\n",
      "FX2TRT conversion failed on the subgraph. Return GraphModule forward instead\n",
      "ERROR torchdynamo.optimizations.backends: FX2TRT conversion error\n",
      "Traceback (most recent call last):\n",
      "  File \"/home/ubuntu/torchdynamo-test/torchdynamo/torchdynamo/optimizations/backends.py\", line 333, in fx2trt\n",
      "    splitter_setting = TRTSplitterSetting()\n",
      "  File \"/home/ubuntu/.conda/envs/dyn/lib/python3.8/site-packages/torch_tensorrt/fx/tools/trt_splitter.py\", line 52, in __init__\n",
      "    self.exclude_support_node_name: set = set(self.op_lowering_disallow_list)\n",
      "AttributeError: 'TRTSplitterSetting' object has no attribute 'op_lowering_disallow_list'\n"
     ]
    },
    {
     "name": "stderr",
     "output_type": "stream",
     "text": [
      "/home/ubuntu/.conda/envs/dyn/lib/python3.8/site-packages/torch_tensorrt/fx/tracer/acc_tracer/acc_tracer.py:546: UserWarning: acc_tracer does not support currently support models for training. Calling eval on model before tracing.\n",
      "  warnings.warn(\n",
      "/home/ubuntu/.conda/envs/dyn/lib/python3.8/site-packages/torch_tensorrt/fx/tracer/acc_tracer/acc_tracer.py:546: UserWarning: acc_tracer does not support currently support models for training. Calling eval on model before tracing.\n",
      "  warnings.warn(\n",
      "/home/ubuntu/.conda/envs/dyn/lib/python3.8/site-packages/torch_tensorrt/fx/tracer/acc_tracer/acc_tracer.py:546: UserWarning: acc_tracer does not support currently support models for training. Calling eval on model before tracing.\n",
      "  warnings.warn(\n",
      "/home/ubuntu/.conda/envs/dyn/lib/python3.8/site-packages/torch/fx/operator_schemas.py:204: UserWarning: Does not support nested parametric types, got typing.List[~t]. Please file a bug.\n",
      "  warnings.warn(\n",
      "/home/ubuntu/.conda/envs/dyn/lib/python3.8/site-packages/torch_tensorrt/fx/tracer/acc_tracer/acc_tracer.py:546: UserWarning: acc_tracer does not support currently support models for training. Calling eval on model before tracing.\n",
      "  warnings.warn(\n",
      "/home/ubuntu/.conda/envs/dyn/lib/python3.8/site-packages/torch/fx/operator_schemas.py:204: UserWarning: Does not support nested parametric types, got typing.List[~t]. Please file a bug.\n",
      "  warnings.warn(\n"
     ]
    },
    {
     "name": "stdout",
     "output_type": "stream",
     "text": [
      "FX2TRT conversion failed on the subgraph. Return GraphModule forward instead\n",
      "ERROR torchdynamo.optimizations.backends: FX2TRT conversion error\n",
      "Traceback (most recent call last):\n",
      "  File \"/home/ubuntu/torchdynamo-test/torchdynamo/torchdynamo/optimizations/backends.py\", line 333, in fx2trt\n",
      "    splitter_setting = TRTSplitterSetting()\n",
      "  File \"/home/ubuntu/.conda/envs/dyn/lib/python3.8/site-packages/torch_tensorrt/fx/tools/trt_splitter.py\", line 52, in __init__\n",
      "    self.exclude_support_node_name: set = set(self.op_lowering_disallow_list)\n",
      "AttributeError: 'TRTSplitterSetting' object has no attribute 'op_lowering_disallow_list'\n",
      "FX2TRT conversion failed on the subgraph. Return GraphModule forward instead\n",
      "ERROR torchdynamo.optimizations.backends: FX2TRT conversion error\n",
      "Traceback (most recent call last):\n",
      "  File \"/home/ubuntu/torchdynamo-test/torchdynamo/torchdynamo/optimizations/backends.py\", line 333, in fx2trt\n",
      "    splitter_setting = TRTSplitterSetting()\n",
      "  File \"/home/ubuntu/.conda/envs/dyn/lib/python3.8/site-packages/torch_tensorrt/fx/tools/trt_splitter.py\", line 52, in __init__\n",
      "    self.exclude_support_node_name: set = set(self.op_lowering_disallow_list)\n",
      "AttributeError: 'TRTSplitterSetting' object has no attribute 'op_lowering_disallow_list'\n",
      "FX2TRT conversion failed on the subgraph. Return GraphModule forward instead\n",
      "ERROR torchdynamo.optimizations.backends: FX2TRT conversion error\n",
      "Traceback (most recent call last):\n",
      "  File \"/home/ubuntu/torchdynamo-test/torchdynamo/torchdynamo/optimizations/backends.py\", line 333, in fx2trt\n",
      "    splitter_setting = TRTSplitterSetting()\n",
      "  File \"/home/ubuntu/.conda/envs/dyn/lib/python3.8/site-packages/torch_tensorrt/fx/tools/trt_splitter.py\", line 52, in __init__\n",
      "    self.exclude_support_node_name: set = set(self.op_lowering_disallow_list)\n",
      "AttributeError: 'TRTSplitterSetting' object has no attribute 'op_lowering_disallow_list'\n",
      "FX2TRT conversion failed on the subgraph. Return GraphModule forward instead\n",
      "ERROR torchdynamo.optimizations.backends: FX2TRT conversion error\n",
      "Traceback (most recent call last):\n",
      "  File \"/home/ubuntu/torchdynamo-test/torchdynamo/torchdynamo/optimizations/backends.py\", line 333, in fx2trt\n",
      "    splitter_setting = TRTSplitterSetting()\n",
      "  File \"/home/ubuntu/.conda/envs/dyn/lib/python3.8/site-packages/torch_tensorrt/fx/tools/trt_splitter.py\", line 52, in __init__\n",
      "    self.exclude_support_node_name: set = set(self.op_lowering_disallow_list)\n",
      "AttributeError: 'TRTSplitterSetting' object has no attribute 'op_lowering_disallow_list'\n",
      "FX2TRT conversion failed on the subgraph. Return GraphModule forward instead\n",
      "ERROR torchdynamo.optimizations.backends: FX2TRT conversion error\n",
      "Traceback (most recent call last):\n",
      "  File \"/home/ubuntu/torchdynamo-test/torchdynamo/torchdynamo/optimizations/backends.py\", line 333, in fx2trt\n",
      "    splitter_setting = TRTSplitterSetting()\n",
      "  File \"/home/ubuntu/.conda/envs/dyn/lib/python3.8/site-packages/torch_tensorrt/fx/tools/trt_splitter.py\", line 52, in __init__\n",
      "    self.exclude_support_node_name: set = set(self.op_lowering_disallow_list)\n",
      "AttributeError: 'TRTSplitterSetting' object has no attribute 'op_lowering_disallow_list'\n"
     ]
    },
    {
     "name": "stderr",
     "output_type": "stream",
     "text": [
      "/home/ubuntu/.conda/envs/dyn/lib/python3.8/site-packages/torch_tensorrt/fx/tracer/acc_tracer/acc_tracer.py:546: UserWarning: acc_tracer does not support currently support models for training. Calling eval on model before tracing.\n",
      "  warnings.warn(\n",
      "/home/ubuntu/.conda/envs/dyn/lib/python3.8/site-packages/torch/fx/operator_schemas.py:204: UserWarning: Does not support nested parametric types, got typing.List[~t]. Please file a bug.\n",
      "  warnings.warn(\n",
      "/home/ubuntu/.conda/envs/dyn/lib/python3.8/site-packages/torch_tensorrt/fx/tracer/acc_tracer/acc_tracer.py:546: UserWarning: acc_tracer does not support currently support models for training. Calling eval on model before tracing.\n",
      "  warnings.warn(\n",
      "/home/ubuntu/.conda/envs/dyn/lib/python3.8/site-packages/torch/fx/operator_schemas.py:204: UserWarning: Does not support nested parametric types, got typing.List[~t]. Please file a bug.\n",
      "  warnings.warn(\n",
      "/home/ubuntu/.conda/envs/dyn/lib/python3.8/site-packages/torch_tensorrt/fx/tracer/acc_tracer/acc_tracer.py:546: UserWarning: acc_tracer does not support currently support models for training. Calling eval on model before tracing.\n",
      "  warnings.warn(\n",
      "/home/ubuntu/.conda/envs/dyn/lib/python3.8/site-packages/torch/fx/operator_schemas.py:204: UserWarning: Does not support nested parametric types, got typing.List[~t]. Please file a bug.\n",
      "  warnings.warn(\n",
      "/home/ubuntu/.conda/envs/dyn/lib/python3.8/site-packages/torch_tensorrt/fx/tracer/acc_tracer/acc_tracer.py:546: UserWarning: acc_tracer does not support currently support models for training. Calling eval on model before tracing.\n",
      "  warnings.warn(\n",
      "/home/ubuntu/.conda/envs/dyn/lib/python3.8/site-packages/torch/fx/operator_schemas.py:204: UserWarning: Does not support nested parametric types, got typing.List[~t]. Please file a bug.\n",
      "  warnings.warn(\n",
      "/home/ubuntu/.conda/envs/dyn/lib/python3.8/site-packages/torch_tensorrt/fx/tracer/acc_tracer/acc_tracer.py:546: UserWarning: acc_tracer does not support currently support models for training. Calling eval on model before tracing.\n",
      "  warnings.warn(\n"
     ]
    },
    {
     "name": "stdout",
     "output_type": "stream",
     "text": [
      "FX2TRT conversion failed on the subgraph. Return GraphModule forward instead\n",
      "ERROR torchdynamo.optimizations.backends: FX2TRT conversion error\n",
      "Traceback (most recent call last):\n",
      "  File \"/home/ubuntu/torchdynamo-test/torchdynamo/torchdynamo/optimizations/backends.py\", line 333, in fx2trt\n",
      "    splitter_setting = TRTSplitterSetting()\n",
      "  File \"/home/ubuntu/.conda/envs/dyn/lib/python3.8/site-packages/torch_tensorrt/fx/tools/trt_splitter.py\", line 52, in __init__\n",
      "    self.exclude_support_node_name: set = set(self.op_lowering_disallow_list)\n",
      "AttributeError: 'TRTSplitterSetting' object has no attribute 'op_lowering_disallow_list'\n",
      "FX2TRT conversion failed on the subgraph. Return GraphModule forward instead\n",
      "ERROR torchdynamo.optimizations.backends: FX2TRT conversion error\n",
      "Traceback (most recent call last):\n",
      "  File \"/home/ubuntu/torchdynamo-test/torchdynamo/torchdynamo/optimizations/backends.py\", line 333, in fx2trt\n",
      "    splitter_setting = TRTSplitterSetting()\n",
      "  File \"/home/ubuntu/.conda/envs/dyn/lib/python3.8/site-packages/torch_tensorrt/fx/tools/trt_splitter.py\", line 52, in __init__\n",
      "    self.exclude_support_node_name: set = set(self.op_lowering_disallow_list)\n",
      "AttributeError: 'TRTSplitterSetting' object has no attribute 'op_lowering_disallow_list'\n",
      "FX2TRT conversion failed on the subgraph. Return GraphModule forward instead\n",
      "ERROR torchdynamo.optimizations.backends: FX2TRT conversion error\n",
      "Traceback (most recent call last):\n",
      "  File \"/home/ubuntu/torchdynamo-test/torchdynamo/torchdynamo/optimizations/backends.py\", line 333, in fx2trt\n",
      "    splitter_setting = TRTSplitterSetting()\n",
      "  File \"/home/ubuntu/.conda/envs/dyn/lib/python3.8/site-packages/torch_tensorrt/fx/tools/trt_splitter.py\", line 52, in __init__\n",
      "    self.exclude_support_node_name: set = set(self.op_lowering_disallow_list)\n",
      "AttributeError: 'TRTSplitterSetting' object has no attribute 'op_lowering_disallow_list'\n",
      "FX2TRT conversion failed on the subgraph. Return GraphModule forward instead\n",
      "ERROR torchdynamo.optimizations.backends: FX2TRT conversion error\n",
      "Traceback (most recent call last):\n",
      "  File \"/home/ubuntu/torchdynamo-test/torchdynamo/torchdynamo/optimizations/backends.py\", line 333, in fx2trt\n",
      "    splitter_setting = TRTSplitterSetting()\n",
      "  File \"/home/ubuntu/.conda/envs/dyn/lib/python3.8/site-packages/torch_tensorrt/fx/tools/trt_splitter.py\", line 52, in __init__\n",
      "    self.exclude_support_node_name: set = set(self.op_lowering_disallow_list)\n",
      "AttributeError: 'TRTSplitterSetting' object has no attribute 'op_lowering_disallow_list'\n",
      "FX2TRT conversion failed on the subgraph. Return GraphModule forward instead\n",
      "ERROR torchdynamo.optimizations.backends: FX2TRT conversion error\n",
      "Traceback (most recent call last):\n",
      "  File \"/home/ubuntu/torchdynamo-test/torchdynamo/torchdynamo/optimizations/backends.py\", line 331, in fx2trt\n",
      "    acc_model = acc_tracer.trace(model, inputs)\n",
      "  File \"/home/ubuntu/.conda/envs/dyn/lib/python3.8/site-packages/torch_tensorrt/fx/tracer/acc_tracer/acc_tracer.py\", line 555, in trace\n",
      "    traced = rewriter_base_trace(mod, ast_rewriter_allow_list, leaf_module_list)\n",
      "  File \"/home/ubuntu/.conda/envs/dyn/lib/python3.8/site-packages/torch_tensorrt/fx/tracer/acc_tracer/acc_tracer.py\", line 481, in rewriter_base_trace\n",
      "    rewritten_graph, rewritten_mod = AccRewritingTracer().trace(\n",
      "  File \"/home/ubuntu/.conda/envs/dyn/lib/python3.8/site-packages/torch_tensorrt/fx/tracer/acc_tracer/acc_tracer.py\", line 285, in trace\n",
      "    return super().trace(rewritten, concrete_args), rewritten\n",
      "  File \"/home/ubuntu/torchdynamo-test/torchdynamo/torchdynamo/eval_frame.py\", line 94, in _fn\n",
      "    return fn(*args, **kwargs)\n",
      "  File \"/home/ubuntu/.conda/envs/dyn/lib/python3.8/site-packages/torch/fx/_symbolic_trace.py\", line 716, in trace\n",
      "    (self.create_arg(fn(*args)),),\n",
      "  File \"<eval_with_key>.1083\", line 7, in forward\n",
      "    cat = torch.cat([getitem, False, getitem_1], 0);  getitem = getitem_1 = None\n",
      "TypeError: expected Tensor as element 1 in argument 0, but got bool\n",
      "FX2TRT conversion failed on the subgraph. Return GraphModule forward instead\n",
      "ERROR torchdynamo.optimizations.backends: FX2TRT conversion error\n",
      "Traceback (most recent call last):\n",
      "  File \"/home/ubuntu/torchdynamo-test/torchdynamo/torchdynamo/optimizations/backends.py\", line 333, in fx2trt\n",
      "    splitter_setting = TRTSplitterSetting()\n",
      "  File \"/home/ubuntu/.conda/envs/dyn/lib/python3.8/site-packages/torch_tensorrt/fx/tools/trt_splitter.py\", line 52, in __init__\n",
      "    self.exclude_support_node_name: set = set(self.op_lowering_disallow_list)\n",
      "AttributeError: 'TRTSplitterSetting' object has no attribute 'op_lowering_disallow_list'\n"
     ]
    },
    {
     "name": "stderr",
     "output_type": "stream",
     "text": [
      "/home/ubuntu/.conda/envs/dyn/lib/python3.8/site-packages/torch/fx/operator_schemas.py:204: UserWarning: Does not support nested parametric types, got typing.List[~t]. Please file a bug.\n",
      "  warnings.warn(\n",
      "/home/ubuntu/.conda/envs/dyn/lib/python3.8/site-packages/torch_tensorrt/fx/tracer/acc_tracer/acc_tracer.py:546: UserWarning: acc_tracer does not support currently support models for training. Calling eval on model before tracing.\n",
      "  warnings.warn(\n",
      "/home/ubuntu/.conda/envs/dyn/lib/python3.8/site-packages/torch/fx/operator_schemas.py:204: UserWarning: Does not support nested parametric types, got typing.List[~t]. Please file a bug.\n",
      "  warnings.warn(\n",
      "/home/ubuntu/.conda/envs/dyn/lib/python3.8/site-packages/torch_tensorrt/fx/tracer/acc_tracer/acc_tracer.py:546: UserWarning: acc_tracer does not support currently support models for training. Calling eval on model before tracing.\n",
      "  warnings.warn(\n",
      "/home/ubuntu/.conda/envs/dyn/lib/python3.8/site-packages/torch_tensorrt/fx/tracer/acc_tracer/acc_tracer.py:546: UserWarning: acc_tracer does not support currently support models for training. Calling eval on model before tracing.\n",
      "  warnings.warn(\n",
      "/home/ubuntu/.conda/envs/dyn/lib/python3.8/site-packages/torch_tensorrt/fx/tracer/acc_tracer/acc_tracer.py:546: UserWarning: acc_tracer does not support currently support models for training. Calling eval on model before tracing.\n",
      "  warnings.warn(\n",
      "/home/ubuntu/.conda/envs/dyn/lib/python3.8/site-packages/torch_tensorrt/fx/tracer/acc_tracer/acc_tracer.py:546: UserWarning: acc_tracer does not support currently support models for training. Calling eval on model before tracing.\n",
      "  warnings.warn(\n",
      "/home/ubuntu/.conda/envs/dyn/lib/python3.8/site-packages/torch/fx/operator_schemas.py:180: UserWarning: We were not able to successfully create type hint from the type (slice(<class 'NoneType'>, <class 'NoneType'>, <class 'NoneType'>), slice(<class 'int'>, <class 'NoneType'>, <class 'NoneType'>))\n",
      "  warnings.warn(f\"We were not able to successfully create type hint from the type {x}\")\n"
     ]
    },
    {
     "name": "stdout",
     "output_type": "stream",
     "text": [
      "FX2TRT conversion failed on the subgraph. Return GraphModule forward instead\n",
      "ERROR torchdynamo.optimizations.backends: FX2TRT conversion error\n",
      "Traceback (most recent call last):\n",
      "  File \"/home/ubuntu/torchdynamo-test/torchdynamo/torchdynamo/optimizations/backends.py\", line 333, in fx2trt\n",
      "    splitter_setting = TRTSplitterSetting()\n",
      "  File \"/home/ubuntu/.conda/envs/dyn/lib/python3.8/site-packages/torch_tensorrt/fx/tools/trt_splitter.py\", line 52, in __init__\n",
      "    self.exclude_support_node_name: set = set(self.op_lowering_disallow_list)\n",
      "AttributeError: 'TRTSplitterSetting' object has no attribute 'op_lowering_disallow_list'\n",
      "FX2TRT conversion failed on the subgraph. Return GraphModule forward instead\n",
      "ERROR torchdynamo.optimizations.backends: FX2TRT conversion error\n",
      "Traceback (most recent call last):\n",
      "  File \"/home/ubuntu/torchdynamo-test/torchdynamo/torchdynamo/optimizations/backends.py\", line 333, in fx2trt\n",
      "    splitter_setting = TRTSplitterSetting()\n",
      "  File \"/home/ubuntu/.conda/envs/dyn/lib/python3.8/site-packages/torch_tensorrt/fx/tools/trt_splitter.py\", line 52, in __init__\n",
      "    self.exclude_support_node_name: set = set(self.op_lowering_disallow_list)\n",
      "AttributeError: 'TRTSplitterSetting' object has no attribute 'op_lowering_disallow_list'\n"
     ]
    },
    {
     "name": "stderr",
     "output_type": "stream",
     "text": [
      "/home/ubuntu/.conda/envs/dyn/lib/python3.8/site-packages/torch_tensorrt/fx/tracer/acc_tracer/acc_tracer.py:546: UserWarning: acc_tracer does not support currently support models for training. Calling eval on model before tracing.\n",
      "  warnings.warn(\n",
      "/home/ubuntu/.conda/envs/dyn/lib/python3.8/site-packages/torch/fx/operator_schemas.py:180: UserWarning: We were not able to successfully create type hint from the type (slice(<class 'NoneType'>, <class 'NoneType'>, <class 'NoneType'>), <class 'NoneType'>, <class 'NoneType'>, slice(<class 'NoneType'>, <class 'NoneType'>, <class 'NoneType'>))\n",
      "  warnings.warn(f\"We were not able to successfully create type hint from the type {x}\")\n",
      "/home/ubuntu/.conda/envs/dyn/lib/python3.8/site-packages/torch_tensorrt/fx/tracer/acc_tracer/acc_tracer.py:546: UserWarning: acc_tracer does not support currently support models for training. Calling eval on model before tracing.\n",
      "  warnings.warn(\n"
     ]
    },
    {
     "name": "stdout",
     "output_type": "stream",
     "text": [
      "FX2TRT conversion failed on the subgraph. Return GraphModule forward instead\n"
     ]
    },
    {
     "name": "stderr",
     "output_type": "stream",
     "text": [
      "/home/ubuntu/.conda/envs/dyn/lib/python3.8/site-packages/torch_tensorrt/fx/tracer/acc_tracer/acc_tracer.py:546: UserWarning: acc_tracer does not support currently support models for training. Calling eval on model before tracing.\n",
      "  warnings.warn(\n"
     ]
    },
    {
     "name": "stdout",
     "output_type": "stream",
     "text": [
      "ERROR torchdynamo.optimizations.backends: FX2TRT conversion error\n",
      "Traceback (most recent call last):\n",
      "  File \"/home/ubuntu/torchdynamo-test/torchdynamo/torchdynamo/optimizations/backends.py\", line 333, in fx2trt\n",
      "    splitter_setting = TRTSplitterSetting()\n",
      "  File \"/home/ubuntu/.conda/envs/dyn/lib/python3.8/site-packages/torch_tensorrt/fx/tools/trt_splitter.py\", line 52, in __init__\n",
      "    self.exclude_support_node_name: set = set(self.op_lowering_disallow_list)\n",
      "AttributeError: 'TRTSplitterSetting' object has no attribute 'op_lowering_disallow_list'\n",
      "FX2TRT conversion failed on the subgraph. Return GraphModule forward instead\n",
      "ERROR torchdynamo.optimizations.backends: FX2TRT conversion error\n",
      "Traceback (most recent call last):\n",
      "  File \"/home/ubuntu/torchdynamo-test/torchdynamo/torchdynamo/optimizations/backends.py\", line 333, in fx2trt\n",
      "    splitter_setting = TRTSplitterSetting()\n",
      "  File \"/home/ubuntu/.conda/envs/dyn/lib/python3.8/site-packages/torch_tensorrt/fx/tools/trt_splitter.py\", line 52, in __init__\n",
      "    self.exclude_support_node_name: set = set(self.op_lowering_disallow_list)\n",
      "AttributeError: 'TRTSplitterSetting' object has no attribute 'op_lowering_disallow_list'\n",
      "FX2TRT conversion failed on the subgraph. Return GraphModule forward instead\n",
      "ERROR torchdynamo.optimizations.backends: FX2TRT conversion error\n",
      "Traceback (most recent call last):\n",
      "  File \"/home/ubuntu/torchdynamo-test/torchdynamo/torchdynamo/optimizations/backends.py\", line 333, in fx2trt\n",
      "    splitter_setting = TRTSplitterSetting()\n",
      "  File \"/home/ubuntu/.conda/envs/dyn/lib/python3.8/site-packages/torch_tensorrt/fx/tools/trt_splitter.py\", line 52, in __init__\n",
      "    self.exclude_support_node_name: set = set(self.op_lowering_disallow_list)\n",
      "AttributeError: 'TRTSplitterSetting' object has no attribute 'op_lowering_disallow_list'\n",
      "FX2TRT conversion failed on the subgraph. Return GraphModule forward instead\n",
      "ERROR torchdynamo.optimizations.backends: FX2TRT conversion error\n",
      "Traceback (most recent call last):\n",
      "  File \"/home/ubuntu/torchdynamo-test/torchdynamo/torchdynamo/optimizations/backends.py\", line 333, in fx2trt\n",
      "    splitter_setting = TRTSplitterSetting()\n",
      "  File \"/home/ubuntu/.conda/envs/dyn/lib/python3.8/site-packages/torch_tensorrt/fx/tools/trt_splitter.py\", line 52, in __init__\n",
      "    self.exclude_support_node_name: set = set(self.op_lowering_disallow_list)\n",
      "AttributeError: 'TRTSplitterSetting' object has no attribute 'op_lowering_disallow_list'\n"
     ]
    },
    {
     "name": "stderr",
     "output_type": "stream",
     "text": [
      "/home/ubuntu/.conda/envs/dyn/lib/python3.8/site-packages/torch_tensorrt/fx/tracer/acc_tracer/acc_tracer.py:546: UserWarning: acc_tracer does not support currently support models for training. Calling eval on model before tracing.\n",
      "  warnings.warn(\n",
      "/home/ubuntu/.conda/envs/dyn/lib/python3.8/site-packages/torch_tensorrt/fx/tracer/acc_tracer/acc_tracer.py:546: UserWarning: acc_tracer does not support currently support models for training. Calling eval on model before tracing.\n",
      "  warnings.warn(\n",
      "/home/ubuntu/.conda/envs/dyn/lib/python3.8/site-packages/torch_tensorrt/fx/tracer/acc_tracer/acc_tracer.py:546: UserWarning: acc_tracer does not support currently support models for training. Calling eval on model before tracing.\n",
      "  warnings.warn(\n",
      "/home/ubuntu/.conda/envs/dyn/lib/python3.8/site-packages/torch/fx/operator_schemas.py:204: UserWarning: Does not support nested parametric types, got typing.List[~t]. Please file a bug.\n",
      "  warnings.warn(\n",
      "/home/ubuntu/.conda/envs/dyn/lib/python3.8/site-packages/torch_tensorrt/fx/tracer/acc_tracer/acc_tracer.py:546: UserWarning: acc_tracer does not support currently support models for training. Calling eval on model before tracing.\n",
      "  warnings.warn(\n"
     ]
    },
    {
     "name": "stdout",
     "output_type": "stream",
     "text": [
      "FX2TRT conversion failed on the subgraph. Return GraphModule forward instead\n",
      "ERROR torchdynamo.optimizations.backends: FX2TRT conversion error\n",
      "Traceback (most recent call last):\n",
      "  File \"/home/ubuntu/torchdynamo-test/torchdynamo/torchdynamo/optimizations/backends.py\", line 333, in fx2trt\n",
      "    splitter_setting = TRTSplitterSetting()\n",
      "  File \"/home/ubuntu/.conda/envs/dyn/lib/python3.8/site-packages/torch_tensorrt/fx/tools/trt_splitter.py\", line 52, in __init__\n",
      "    self.exclude_support_node_name: set = set(self.op_lowering_disallow_list)\n",
      "AttributeError: 'TRTSplitterSetting' object has no attribute 'op_lowering_disallow_list'\n",
      "FX2TRT conversion failed on the subgraph. Return GraphModule forward instead\n",
      "ERROR torchdynamo.optimizations.backends: FX2TRT conversion error\n",
      "Traceback (most recent call last):\n",
      "  File \"/home/ubuntu/torchdynamo-test/torchdynamo/torchdynamo/optimizations/backends.py\", line 333, in fx2trt\n",
      "    splitter_setting = TRTSplitterSetting()\n",
      "  File \"/home/ubuntu/.conda/envs/dyn/lib/python3.8/site-packages/torch_tensorrt/fx/tools/trt_splitter.py\", line 52, in __init__\n",
      "    self.exclude_support_node_name: set = set(self.op_lowering_disallow_list)\n",
      "AttributeError: 'TRTSplitterSetting' object has no attribute 'op_lowering_disallow_list'\n",
      "FX2TRT conversion failed on the subgraph. Return GraphModule forward instead\n",
      "ERROR torchdynamo.optimizations.backends: FX2TRT conversion error\n",
      "Traceback (most recent call last):\n",
      "  File \"/home/ubuntu/torchdynamo-test/torchdynamo/torchdynamo/optimizations/backends.py\", line 333, in fx2trt\n",
      "    splitter_setting = TRTSplitterSetting()\n",
      "  File \"/home/ubuntu/.conda/envs/dyn/lib/python3.8/site-packages/torch_tensorrt/fx/tools/trt_splitter.py\", line 52, in __init__\n",
      "    self.exclude_support_node_name: set = set(self.op_lowering_disallow_list)\n",
      "AttributeError: 'TRTSplitterSetting' object has no attribute 'op_lowering_disallow_list'\n",
      "FX2TRT conversion failed on the subgraph. Return GraphModule forward instead\n",
      "ERROR torchdynamo.optimizations.backends: FX2TRT conversion error\n",
      "Traceback (most recent call last):\n",
      "  File \"/home/ubuntu/torchdynamo-test/torchdynamo/torchdynamo/optimizations/backends.py\", line 333, in fx2trt\n",
      "    splitter_setting = TRTSplitterSetting()\n",
      "  File \"/home/ubuntu/.conda/envs/dyn/lib/python3.8/site-packages/torch_tensorrt/fx/tools/trt_splitter.py\", line 52, in __init__\n",
      "    self.exclude_support_node_name: set = set(self.op_lowering_disallow_list)\n",
      "AttributeError: 'TRTSplitterSetting' object has no attribute 'op_lowering_disallow_list'\n"
     ]
    },
    {
     "name": "stderr",
     "output_type": "stream",
     "text": [
      "/home/ubuntu/.conda/envs/dyn/lib/python3.8/site-packages/torch/fx/operator_schemas.py:204: UserWarning: Does not support nested parametric types, got typing.List[~t]. Please file a bug.\n",
      "  warnings.warn(\n",
      "/home/ubuntu/.conda/envs/dyn/lib/python3.8/site-packages/torch_tensorrt/fx/tracer/acc_tracer/acc_tracer.py:546: UserWarning: acc_tracer does not support currently support models for training. Calling eval on model before tracing.\n",
      "  warnings.warn(\n",
      "/home/ubuntu/.conda/envs/dyn/lib/python3.8/site-packages/torch/fx/operator_schemas.py:204: UserWarning: Does not support nested parametric types, got typing.List[~t]. Please file a bug.\n",
      "  warnings.warn(\n",
      "/home/ubuntu/.conda/envs/dyn/lib/python3.8/site-packages/torch_tensorrt/fx/tracer/acc_tracer/acc_tracer.py:546: UserWarning: acc_tracer does not support currently support models for training. Calling eval on model before tracing.\n",
      "  warnings.warn(\n",
      "/home/ubuntu/.conda/envs/dyn/lib/python3.8/site-packages/torch/fx/operator_schemas.py:204: UserWarning: Does not support nested parametric types, got typing.List[~t]. Please file a bug.\n",
      "  warnings.warn(\n",
      "/home/ubuntu/.conda/envs/dyn/lib/python3.8/site-packages/torch_tensorrt/fx/tracer/acc_tracer/acc_tracer.py:546: UserWarning: acc_tracer does not support currently support models for training. Calling eval on model before tracing.\n",
      "  warnings.warn(\n",
      "/home/ubuntu/.conda/envs/dyn/lib/python3.8/site-packages/torch/fx/operator_schemas.py:204: UserWarning: Does not support nested parametric types, got typing.List[~t]. Please file a bug.\n",
      "  warnings.warn(\n"
     ]
    },
    {
     "name": "stdout",
     "output_type": "stream",
     "text": [
      "FX2TRT conversion failed on the subgraph. Return GraphModule forward instead\n",
      "ERROR torchdynamo.optimizations.backends: FX2TRT conversion error\n",
      "Traceback (most recent call last):\n",
      "  File \"/home/ubuntu/torchdynamo-test/torchdynamo/torchdynamo/optimizations/backends.py\", line 333, in fx2trt\n",
      "    splitter_setting = TRTSplitterSetting()\n",
      "  File \"/home/ubuntu/.conda/envs/dyn/lib/python3.8/site-packages/torch_tensorrt/fx/tools/trt_splitter.py\", line 52, in __init__\n",
      "    self.exclude_support_node_name: set = set(self.op_lowering_disallow_list)\n",
      "AttributeError: 'TRTSplitterSetting' object has no attribute 'op_lowering_disallow_list'\n",
      "FX2TRT conversion failed on the subgraph. Return GraphModule forward instead\n",
      "ERROR torchdynamo.optimizations.backends: FX2TRT conversion error\n",
      "Traceback (most recent call last):\n",
      "  File \"/home/ubuntu/torchdynamo-test/torchdynamo/torchdynamo/optimizations/backends.py\", line 333, in fx2trt\n",
      "    splitter_setting = TRTSplitterSetting()\n",
      "  File \"/home/ubuntu/.conda/envs/dyn/lib/python3.8/site-packages/torch_tensorrt/fx/tools/trt_splitter.py\", line 52, in __init__\n",
      "    self.exclude_support_node_name: set = set(self.op_lowering_disallow_list)\n",
      "AttributeError: 'TRTSplitterSetting' object has no attribute 'op_lowering_disallow_list'\n",
      "FX2TRT conversion failed on the subgraph. Return GraphModule forward instead\n",
      "ERROR torchdynamo.optimizations.backends: FX2TRT conversion error\n",
      "Traceback (most recent call last):\n",
      "  File \"/home/ubuntu/torchdynamo-test/torchdynamo/torchdynamo/optimizations/backends.py\", line 333, in fx2trt\n",
      "    splitter_setting = TRTSplitterSetting()\n",
      "  File \"/home/ubuntu/.conda/envs/dyn/lib/python3.8/site-packages/torch_tensorrt/fx/tools/trt_splitter.py\", line 52, in __init__\n",
      "    self.exclude_support_node_name: set = set(self.op_lowering_disallow_list)\n",
      "AttributeError: 'TRTSplitterSetting' object has no attribute 'op_lowering_disallow_list'\n",
      "FX2TRT conversion failed on the subgraph. Return GraphModule forward instead\n",
      "ERROR torchdynamo.optimizations.backends: FX2TRT conversion error\n",
      "Traceback (most recent call last):\n",
      "  File \"/home/ubuntu/torchdynamo-test/torchdynamo/torchdynamo/optimizations/backends.py\", line 333, in fx2trt\n",
      "    splitter_setting = TRTSplitterSetting()\n",
      "  File \"/home/ubuntu/.conda/envs/dyn/lib/python3.8/site-packages/torch_tensorrt/fx/tools/trt_splitter.py\", line 52, in __init__\n",
      "    self.exclude_support_node_name: set = set(self.op_lowering_disallow_list)\n",
      "AttributeError: 'TRTSplitterSetting' object has no attribute 'op_lowering_disallow_list'\n",
      "FX2TRT conversion failed on the subgraph. Return GraphModule forward instead\n",
      "ERROR torchdynamo.optimizations.backends: FX2TRT conversion error\n",
      "Traceback (most recent call last):\n",
      "  File \"/home/ubuntu/torchdynamo-test/torchdynamo/torchdynamo/optimizations/backends.py\", line 333, in fx2trt\n",
      "    splitter_setting = TRTSplitterSetting()\n",
      "  File \"/home/ubuntu/.conda/envs/dyn/lib/python3.8/site-packages/torch_tensorrt/fx/tools/trt_splitter.py\", line 52, in __init__\n",
      "    self.exclude_support_node_name: set = set(self.op_lowering_disallow_list)\n",
      "AttributeError: 'TRTSplitterSetting' object has no attribute 'op_lowering_disallow_list'\n",
      "FX2TRT conversion failed on the subgraph. Return GraphModule forward instead\n",
      "ERROR torchdynamo.optimizations.backends: FX2TRT conversion error\n",
      "Traceback (most recent call last):\n",
      "  File \"/home/ubuntu/torchdynamo-test/torchdynamo/torchdynamo/optimizations/backends.py\", line 331, in fx2trt\n",
      "    acc_model = acc_tracer.trace(model, inputs)\n",
      "  File \"/home/ubuntu/.conda/envs/dyn/lib/python3.8/site-packages/torch_tensorrt/fx/tracer/acc_tracer/acc_tracer.py\", line 555, in trace\n",
      "    traced = rewriter_base_trace(mod, ast_rewriter_allow_list, leaf_module_list)\n",
      "  File \"/home/ubuntu/.conda/envs/dyn/lib/python3.8/site-packages/torch_tensorrt/fx/tracer/acc_tracer/acc_tracer.py\", line 481, in rewriter_base_trace\n",
      "    rewritten_graph, rewritten_mod = AccRewritingTracer().trace(\n",
      "  File \"/home/ubuntu/.conda/envs/dyn/lib/python3.8/site-packages/torch_tensorrt/fx/tracer/acc_tracer/acc_tracer.py\", line 285, in trace\n",
      "    return super().trace(rewritten, concrete_args), rewritten\n",
      "  File \"/home/ubuntu/torchdynamo-test/torchdynamo/torchdynamo/eval_frame.py\", line 94, in _fn\n",
      "    return fn(*args, **kwargs)\n",
      "  File \"/home/ubuntu/.conda/envs/dyn/lib/python3.8/site-packages/torch/fx/_symbolic_trace.py\", line 716, in trace\n",
      "    (self.create_arg(fn(*args)),),\n",
      "  File \"<eval_with_key>.1249\", line 7, in forward\n",
      "    cat = torch.cat([getitem, False, getitem_1], 0);  getitem = getitem_1 = None\n",
      "TypeError: expected Tensor as element 1 in argument 0, but got bool\n"
     ]
    },
    {
     "name": "stderr",
     "output_type": "stream",
     "text": [
      "/home/ubuntu/.conda/envs/dyn/lib/python3.8/site-packages/torch_tensorrt/fx/tracer/acc_tracer/acc_tracer.py:546: UserWarning: acc_tracer does not support currently support models for training. Calling eval on model before tracing.\n",
      "  warnings.warn(\n",
      "/home/ubuntu/.conda/envs/dyn/lib/python3.8/site-packages/torch/fx/operator_schemas.py:204: UserWarning: Does not support nested parametric types, got typing.List[~t]. Please file a bug.\n",
      "  warnings.warn(\n",
      "/home/ubuntu/.conda/envs/dyn/lib/python3.8/site-packages/torch_tensorrt/fx/tracer/acc_tracer/acc_tracer.py:546: UserWarning: acc_tracer does not support currently support models for training. Calling eval on model before tracing.\n",
      "  warnings.warn(\n",
      "/home/ubuntu/.conda/envs/dyn/lib/python3.8/site-packages/torch/fx/operator_schemas.py:204: UserWarning: Does not support nested parametric types, got typing.List[~t]. Please file a bug.\n",
      "  warnings.warn(\n",
      "/home/ubuntu/.conda/envs/dyn/lib/python3.8/site-packages/torch_tensorrt/fx/tracer/acc_tracer/acc_tracer.py:546: UserWarning: acc_tracer does not support currently support models for training. Calling eval on model before tracing.\n",
      "  warnings.warn(\n",
      "/home/ubuntu/.conda/envs/dyn/lib/python3.8/site-packages/torch/fx/operator_schemas.py:204: UserWarning: Does not support nested parametric types, got typing.List[~t]. Please file a bug.\n",
      "  warnings.warn(\n",
      "/home/ubuntu/.conda/envs/dyn/lib/python3.8/site-packages/torch_tensorrt/fx/tracer/acc_tracer/acc_tracer.py:546: UserWarning: acc_tracer does not support currently support models for training. Calling eval on model before tracing.\n",
      "  warnings.warn(\n",
      "/home/ubuntu/.conda/envs/dyn/lib/python3.8/site-packages/torch_tensorrt/fx/tracer/acc_tracer/acc_tracer.py:546: UserWarning: acc_tracer does not support currently support models for training. Calling eval on model before tracing.\n",
      "  warnings.warn(\n",
      "/home/ubuntu/.conda/envs/dyn/lib/python3.8/site-packages/torch_tensorrt/fx/tracer/acc_tracer/acc_tracer.py:546: UserWarning: acc_tracer does not support currently support models for training. Calling eval on model before tracing.\n",
      "  warnings.warn(\n"
     ]
    },
    {
     "name": "stdout",
     "output_type": "stream",
     "text": [
      "FX2TRT conversion failed on the subgraph. Return GraphModule forward instead\n",
      "ERROR torchdynamo.optimizations.backends: FX2TRT conversion error\n",
      "Traceback (most recent call last):\n",
      "  File \"/home/ubuntu/torchdynamo-test/torchdynamo/torchdynamo/optimizations/backends.py\", line 333, in fx2trt\n",
      "    splitter_setting = TRTSplitterSetting()\n",
      "  File \"/home/ubuntu/.conda/envs/dyn/lib/python3.8/site-packages/torch_tensorrt/fx/tools/trt_splitter.py\", line 52, in __init__\n",
      "    self.exclude_support_node_name: set = set(self.op_lowering_disallow_list)\n",
      "AttributeError: 'TRTSplitterSetting' object has no attribute 'op_lowering_disallow_list'\n",
      "FX2TRT conversion failed on the subgraph. Return GraphModule forward instead\n"
     ]
    },
    {
     "name": "stderr",
     "output_type": "stream",
     "text": [
      "/home/ubuntu/.conda/envs/dyn/lib/python3.8/site-packages/torch_tensorrt/fx/tracer/acc_tracer/acc_tracer.py:546: UserWarning: acc_tracer does not support currently support models for training. Calling eval on model before tracing.\n",
      "  warnings.warn(\n",
      "/home/ubuntu/.conda/envs/dyn/lib/python3.8/site-packages/torch/fx/operator_schemas.py:180: UserWarning: We were not able to successfully create type hint from the type (slice(<class 'NoneType'>, <class 'NoneType'>, <class 'NoneType'>), slice(<class 'int'>, <class 'NoneType'>, <class 'NoneType'>))\n",
      "  warnings.warn(f\"We were not able to successfully create type hint from the type {x}\")\n"
     ]
    },
    {
     "name": "stdout",
     "output_type": "stream",
     "text": [
      "ERROR torchdynamo.optimizations.backends: FX2TRT conversion error\n",
      "Traceback (most recent call last):\n",
      "  File \"/home/ubuntu/torchdynamo-test/torchdynamo/torchdynamo/optimizations/backends.py\", line 333, in fx2trt\n",
      "    splitter_setting = TRTSplitterSetting()\n",
      "  File \"/home/ubuntu/.conda/envs/dyn/lib/python3.8/site-packages/torch_tensorrt/fx/tools/trt_splitter.py\", line 52, in __init__\n",
      "    self.exclude_support_node_name: set = set(self.op_lowering_disallow_list)\n",
      "AttributeError: 'TRTSplitterSetting' object has no attribute 'op_lowering_disallow_list'\n",
      "FX2TRT conversion failed on the subgraph. Return GraphModule forward instead\n",
      "ERROR torchdynamo.optimizations.backends: FX2TRT conversion error\n",
      "Traceback (most recent call last):\n",
      "  File \"/home/ubuntu/torchdynamo-test/torchdynamo/torchdynamo/optimizations/backends.py\", line 333, in fx2trt\n",
      "    splitter_setting = TRTSplitterSetting()\n",
      "  File \"/home/ubuntu/.conda/envs/dyn/lib/python3.8/site-packages/torch_tensorrt/fx/tools/trt_splitter.py\", line 52, in __init__\n",
      "    self.exclude_support_node_name: set = set(self.op_lowering_disallow_list)\n",
      "AttributeError: 'TRTSplitterSetting' object has no attribute 'op_lowering_disallow_list'\n"
     ]
    },
    {
     "name": "stderr",
     "output_type": "stream",
     "text": [
      "/home/ubuntu/.conda/envs/dyn/lib/python3.8/site-packages/torch_tensorrt/fx/tracer/acc_tracer/acc_tracer.py:546: UserWarning: acc_tracer does not support currently support models for training. Calling eval on model before tracing.\n",
      "  warnings.warn(\n",
      "/home/ubuntu/.conda/envs/dyn/lib/python3.8/site-packages/torch/fx/operator_schemas.py:180: UserWarning: We were not able to successfully create type hint from the type (slice(<class 'NoneType'>, <class 'NoneType'>, <class 'NoneType'>), <class 'NoneType'>, <class 'NoneType'>, slice(<class 'NoneType'>, <class 'NoneType'>, <class 'NoneType'>))\n",
      "  warnings.warn(f\"We were not able to successfully create type hint from the type {x}\")\n",
      "/home/ubuntu/.conda/envs/dyn/lib/python3.8/site-packages/torch_tensorrt/fx/tracer/acc_tracer/acc_tracer.py:546: UserWarning: acc_tracer does not support currently support models for training. Calling eval on model before tracing.\n",
      "  warnings.warn(\n"
     ]
    },
    {
     "name": "stdout",
     "output_type": "stream",
     "text": [
      "FX2TRT conversion failed on the subgraph. Return GraphModule forward instead\n"
     ]
    },
    {
     "name": "stderr",
     "output_type": "stream",
     "text": [
      "/home/ubuntu/.conda/envs/dyn/lib/python3.8/site-packages/torch_tensorrt/fx/tracer/acc_tracer/acc_tracer.py:546: UserWarning: acc_tracer does not support currently support models for training. Calling eval on model before tracing.\n",
      "  warnings.warn(\n"
     ]
    },
    {
     "name": "stdout",
     "output_type": "stream",
     "text": [
      "ERROR torchdynamo.optimizations.backends: FX2TRT conversion error\n",
      "Traceback (most recent call last):\n",
      "  File \"/home/ubuntu/torchdynamo-test/torchdynamo/torchdynamo/optimizations/backends.py\", line 333, in fx2trt\n",
      "    splitter_setting = TRTSplitterSetting()\n",
      "  File \"/home/ubuntu/.conda/envs/dyn/lib/python3.8/site-packages/torch_tensorrt/fx/tools/trt_splitter.py\", line 52, in __init__\n",
      "    self.exclude_support_node_name: set = set(self.op_lowering_disallow_list)\n",
      "AttributeError: 'TRTSplitterSetting' object has no attribute 'op_lowering_disallow_list'\n",
      "FX2TRT conversion failed on the subgraph. Return GraphModule forward instead\n",
      "ERROR torchdynamo.optimizations.backends: FX2TRT conversion error\n",
      "Traceback (most recent call last):\n",
      "  File \"/home/ubuntu/torchdynamo-test/torchdynamo/torchdynamo/optimizations/backends.py\", line 333, in fx2trt\n",
      "    splitter_setting = TRTSplitterSetting()\n",
      "  File \"/home/ubuntu/.conda/envs/dyn/lib/python3.8/site-packages/torch_tensorrt/fx/tools/trt_splitter.py\", line 52, in __init__\n",
      "    self.exclude_support_node_name: set = set(self.op_lowering_disallow_list)\n",
      "AttributeError: 'TRTSplitterSetting' object has no attribute 'op_lowering_disallow_list'\n",
      "FX2TRT conversion failed on the subgraph. Return GraphModule forward instead\n",
      "ERROR torchdynamo.optimizations.backends: FX2TRT conversion error\n",
      "Traceback (most recent call last):\n",
      "  File \"/home/ubuntu/torchdynamo-test/torchdynamo/torchdynamo/optimizations/backends.py\", line 333, in fx2trt\n",
      "    splitter_setting = TRTSplitterSetting()\n",
      "  File \"/home/ubuntu/.conda/envs/dyn/lib/python3.8/site-packages/torch_tensorrt/fx/tools/trt_splitter.py\", line 52, in __init__\n",
      "    self.exclude_support_node_name: set = set(self.op_lowering_disallow_list)\n",
      "AttributeError: 'TRTSplitterSetting' object has no attribute 'op_lowering_disallow_list'\n",
      "FX2TRT conversion failed on the subgraph. Return GraphModule forward instead\n",
      "ERROR torchdynamo.optimizations.backends: FX2TRT conversion error\n",
      "Traceback (most recent call last):\n",
      "  File \"/home/ubuntu/torchdynamo-test/torchdynamo/torchdynamo/optimizations/backends.py\", line 333, in fx2trt\n",
      "    splitter_setting = TRTSplitterSetting()\n",
      "  File \"/home/ubuntu/.conda/envs/dyn/lib/python3.8/site-packages/torch_tensorrt/fx/tools/trt_splitter.py\", line 52, in __init__\n",
      "    self.exclude_support_node_name: set = set(self.op_lowering_disallow_list)\n",
      "AttributeError: 'TRTSplitterSetting' object has no attribute 'op_lowering_disallow_list'\n"
     ]
    },
    {
     "name": "stderr",
     "output_type": "stream",
     "text": [
      "/home/ubuntu/.conda/envs/dyn/lib/python3.8/site-packages/torch_tensorrt/fx/tracer/acc_tracer/acc_tracer.py:546: UserWarning: acc_tracer does not support currently support models for training. Calling eval on model before tracing.\n",
      "  warnings.warn(\n",
      "/home/ubuntu/.conda/envs/dyn/lib/python3.8/site-packages/torch_tensorrt/fx/tracer/acc_tracer/acc_tracer.py:546: UserWarning: acc_tracer does not support currently support models for training. Calling eval on model before tracing.\n",
      "  warnings.warn(\n",
      "/home/ubuntu/.conda/envs/dyn/lib/python3.8/site-packages/torch_tensorrt/fx/tracer/acc_tracer/acc_tracer.py:546: UserWarning: acc_tracer does not support currently support models for training. Calling eval on model before tracing.\n",
      "  warnings.warn(\n",
      "/home/ubuntu/.conda/envs/dyn/lib/python3.8/site-packages/torch/fx/operator_schemas.py:204: UserWarning: Does not support nested parametric types, got typing.List[~t]. Please file a bug.\n",
      "  warnings.warn(\n",
      "/home/ubuntu/.conda/envs/dyn/lib/python3.8/site-packages/torch_tensorrt/fx/tracer/acc_tracer/acc_tracer.py:546: UserWarning: acc_tracer does not support currently support models for training. Calling eval on model before tracing.\n",
      "  warnings.warn(\n"
     ]
    },
    {
     "name": "stdout",
     "output_type": "stream",
     "text": [
      "FX2TRT conversion failed on the subgraph. Return GraphModule forward instead\n",
      "ERROR torchdynamo.optimizations.backends: FX2TRT conversion error\n",
      "Traceback (most recent call last):\n",
      "  File \"/home/ubuntu/torchdynamo-test/torchdynamo/torchdynamo/optimizations/backends.py\", line 333, in fx2trt\n",
      "    splitter_setting = TRTSplitterSetting()\n",
      "  File \"/home/ubuntu/.conda/envs/dyn/lib/python3.8/site-packages/torch_tensorrt/fx/tools/trt_splitter.py\", line 52, in __init__\n",
      "    self.exclude_support_node_name: set = set(self.op_lowering_disallow_list)\n",
      "AttributeError: 'TRTSplitterSetting' object has no attribute 'op_lowering_disallow_list'\n",
      "FX2TRT conversion failed on the subgraph. Return GraphModule forward instead\n",
      "ERROR torchdynamo.optimizations.backends: FX2TRT conversion error\n",
      "Traceback (most recent call last):\n",
      "  File \"/home/ubuntu/torchdynamo-test/torchdynamo/torchdynamo/optimizations/backends.py\", line 333, in fx2trt\n",
      "    splitter_setting = TRTSplitterSetting()\n",
      "  File \"/home/ubuntu/.conda/envs/dyn/lib/python3.8/site-packages/torch_tensorrt/fx/tools/trt_splitter.py\", line 52, in __init__\n",
      "    self.exclude_support_node_name: set = set(self.op_lowering_disallow_list)\n",
      "AttributeError: 'TRTSplitterSetting' object has no attribute 'op_lowering_disallow_list'\n",
      "FX2TRT conversion failed on the subgraph. Return GraphModule forward instead\n",
      "ERROR torchdynamo.optimizations.backends: FX2TRT conversion error\n",
      "Traceback (most recent call last):\n",
      "  File \"/home/ubuntu/torchdynamo-test/torchdynamo/torchdynamo/optimizations/backends.py\", line 333, in fx2trt\n",
      "    splitter_setting = TRTSplitterSetting()\n",
      "  File \"/home/ubuntu/.conda/envs/dyn/lib/python3.8/site-packages/torch_tensorrt/fx/tools/trt_splitter.py\", line 52, in __init__\n",
      "    self.exclude_support_node_name: set = set(self.op_lowering_disallow_list)\n",
      "AttributeError: 'TRTSplitterSetting' object has no attribute 'op_lowering_disallow_list'\n",
      "FX2TRT conversion failed on the subgraph. Return GraphModule forward instead\n",
      "ERROR torchdynamo.optimizations.backends: FX2TRT conversion error\n",
      "Traceback (most recent call last):\n",
      "  File \"/home/ubuntu/torchdynamo-test/torchdynamo/torchdynamo/optimizations/backends.py\", line 333, in fx2trt\n",
      "    splitter_setting = TRTSplitterSetting()\n",
      "  File \"/home/ubuntu/.conda/envs/dyn/lib/python3.8/site-packages/torch_tensorrt/fx/tools/trt_splitter.py\", line 52, in __init__\n",
      "    self.exclude_support_node_name: set = set(self.op_lowering_disallow_list)\n",
      "AttributeError: 'TRTSplitterSetting' object has no attribute 'op_lowering_disallow_list'\n"
     ]
    },
    {
     "name": "stderr",
     "output_type": "stream",
     "text": [
      "/home/ubuntu/.conda/envs/dyn/lib/python3.8/site-packages/torch/fx/operator_schemas.py:204: UserWarning: Does not support nested parametric types, got typing.List[~t]. Please file a bug.\n",
      "  warnings.warn(\n",
      "/home/ubuntu/.conda/envs/dyn/lib/python3.8/site-packages/torch_tensorrt/fx/tracer/acc_tracer/acc_tracer.py:546: UserWarning: acc_tracer does not support currently support models for training. Calling eval on model before tracing.\n",
      "  warnings.warn(\n",
      "/home/ubuntu/.conda/envs/dyn/lib/python3.8/site-packages/torch/fx/operator_schemas.py:204: UserWarning: Does not support nested parametric types, got typing.List[~t]. Please file a bug.\n",
      "  warnings.warn(\n",
      "/home/ubuntu/.conda/envs/dyn/lib/python3.8/site-packages/torch_tensorrt/fx/tracer/acc_tracer/acc_tracer.py:546: UserWarning: acc_tracer does not support currently support models for training. Calling eval on model before tracing.\n",
      "  warnings.warn(\n",
      "/home/ubuntu/.conda/envs/dyn/lib/python3.8/site-packages/torch/fx/operator_schemas.py:204: UserWarning: Does not support nested parametric types, got typing.List[~t]. Please file a bug.\n",
      "  warnings.warn(\n",
      "/home/ubuntu/.conda/envs/dyn/lib/python3.8/site-packages/torch_tensorrt/fx/tracer/acc_tracer/acc_tracer.py:546: UserWarning: acc_tracer does not support currently support models for training. Calling eval on model before tracing.\n",
      "  warnings.warn(\n",
      "/home/ubuntu/.conda/envs/dyn/lib/python3.8/site-packages/torch/fx/operator_schemas.py:204: UserWarning: Does not support nested parametric types, got typing.List[~t]. Please file a bug.\n",
      "  warnings.warn(\n",
      "/home/ubuntu/.conda/envs/dyn/lib/python3.8/site-packages/torch_tensorrt/fx/tracer/acc_tracer/acc_tracer.py:546: UserWarning: acc_tracer does not support currently support models for training. Calling eval on model before tracing.\n",
      "  warnings.warn(\n"
     ]
    },
    {
     "name": "stdout",
     "output_type": "stream",
     "text": [
      "FX2TRT conversion failed on the subgraph. Return GraphModule forward instead\n",
      "ERROR torchdynamo.optimizations.backends: FX2TRT conversion error\n",
      "Traceback (most recent call last):\n",
      "  File \"/home/ubuntu/torchdynamo-test/torchdynamo/torchdynamo/optimizations/backends.py\", line 333, in fx2trt\n",
      "    splitter_setting = TRTSplitterSetting()\n",
      "  File \"/home/ubuntu/.conda/envs/dyn/lib/python3.8/site-packages/torch_tensorrt/fx/tools/trt_splitter.py\", line 52, in __init__\n",
      "    self.exclude_support_node_name: set = set(self.op_lowering_disallow_list)\n",
      "AttributeError: 'TRTSplitterSetting' object has no attribute 'op_lowering_disallow_list'\n",
      "FX2TRT conversion failed on the subgraph. Return GraphModule forward instead\n",
      "ERROR torchdynamo.optimizations.backends: FX2TRT conversion error\n",
      "Traceback (most recent call last):\n",
      "  File \"/home/ubuntu/torchdynamo-test/torchdynamo/torchdynamo/optimizations/backends.py\", line 333, in fx2trt\n",
      "    splitter_setting = TRTSplitterSetting()\n",
      "  File \"/home/ubuntu/.conda/envs/dyn/lib/python3.8/site-packages/torch_tensorrt/fx/tools/trt_splitter.py\", line 52, in __init__\n",
      "    self.exclude_support_node_name: set = set(self.op_lowering_disallow_list)\n",
      "AttributeError: 'TRTSplitterSetting' object has no attribute 'op_lowering_disallow_list'\n",
      "FX2TRT conversion failed on the subgraph. Return GraphModule forward instead\n",
      "ERROR torchdynamo.optimizations.backends: FX2TRT conversion error\n",
      "Traceback (most recent call last):\n",
      "  File \"/home/ubuntu/torchdynamo-test/torchdynamo/torchdynamo/optimizations/backends.py\", line 333, in fx2trt\n",
      "    splitter_setting = TRTSplitterSetting()\n",
      "  File \"/home/ubuntu/.conda/envs/dyn/lib/python3.8/site-packages/torch_tensorrt/fx/tools/trt_splitter.py\", line 52, in __init__\n",
      "    self.exclude_support_node_name: set = set(self.op_lowering_disallow_list)\n",
      "AttributeError: 'TRTSplitterSetting' object has no attribute 'op_lowering_disallow_list'\n",
      "FX2TRT conversion failed on the subgraph. Return GraphModule forward instead\n",
      "ERROR torchdynamo.optimizations.backends: FX2TRT conversion error\n",
      "Traceback (most recent call last):\n",
      "  File \"/home/ubuntu/torchdynamo-test/torchdynamo/torchdynamo/optimizations/backends.py\", line 333, in fx2trt\n",
      "    splitter_setting = TRTSplitterSetting()\n",
      "  File \"/home/ubuntu/.conda/envs/dyn/lib/python3.8/site-packages/torch_tensorrt/fx/tools/trt_splitter.py\", line 52, in __init__\n",
      "    self.exclude_support_node_name: set = set(self.op_lowering_disallow_list)\n",
      "AttributeError: 'TRTSplitterSetting' object has no attribute 'op_lowering_disallow_list'\n",
      "FX2TRT conversion failed on the subgraph. Return GraphModule forward instead\n",
      "ERROR torchdynamo.optimizations.backends: FX2TRT conversion error\n",
      "Traceback (most recent call last):\n",
      "  File \"/home/ubuntu/torchdynamo-test/torchdynamo/torchdynamo/optimizations/backends.py\", line 333, in fx2trt\n",
      "    splitter_setting = TRTSplitterSetting()\n",
      "  File \"/home/ubuntu/.conda/envs/dyn/lib/python3.8/site-packages/torch_tensorrt/fx/tools/trt_splitter.py\", line 52, in __init__\n",
      "    self.exclude_support_node_name: set = set(self.op_lowering_disallow_list)\n",
      "AttributeError: 'TRTSplitterSetting' object has no attribute 'op_lowering_disallow_list'\n",
      "FX2TRT conversion failed on the subgraph. Return GraphModule forward instead\n",
      "ERROR torchdynamo.optimizations.backends: FX2TRT conversion error\n",
      "Traceback (most recent call last):\n",
      "  File \"/home/ubuntu/torchdynamo-test/torchdynamo/torchdynamo/optimizations/backends.py\", line 331, in fx2trt\n",
      "    acc_model = acc_tracer.trace(model, inputs)\n",
      "  File \"/home/ubuntu/.conda/envs/dyn/lib/python3.8/site-packages/torch_tensorrt/fx/tracer/acc_tracer/acc_tracer.py\", line 555, in trace\n",
      "    traced = rewriter_base_trace(mod, ast_rewriter_allow_list, leaf_module_list)\n",
      "  File \"/home/ubuntu/.conda/envs/dyn/lib/python3.8/site-packages/torch_tensorrt/fx/tracer/acc_tracer/acc_tracer.py\", line 481, in rewriter_base_trace\n",
      "    rewritten_graph, rewritten_mod = AccRewritingTracer().trace(\n",
      "  File \"/home/ubuntu/.conda/envs/dyn/lib/python3.8/site-packages/torch_tensorrt/fx/tracer/acc_tracer/acc_tracer.py\", line 285, in trace\n",
      "    return super().trace(rewritten, concrete_args), rewritten\n",
      "  File \"/home/ubuntu/torchdynamo-test/torchdynamo/torchdynamo/eval_frame.py\", line 94, in _fn\n",
      "    return fn(*args, **kwargs)\n",
      "  File \"/home/ubuntu/.conda/envs/dyn/lib/python3.8/site-packages/torch/fx/_symbolic_trace.py\", line 716, in trace\n",
      "    (self.create_arg(fn(*args)),),\n",
      "  File \"<eval_with_key>.1415\", line 7, in forward\n",
      "    cat = torch.cat([getitem, False, getitem_1], 0);  getitem = getitem_1 = None\n",
      "TypeError: expected Tensor as element 1 in argument 0, but got bool\n"
     ]
    },
    {
     "name": "stderr",
     "output_type": "stream",
     "text": [
      "/home/ubuntu/.conda/envs/dyn/lib/python3.8/site-packages/torch/fx/operator_schemas.py:204: UserWarning: Does not support nested parametric types, got typing.List[~t]. Please file a bug.\n",
      "  warnings.warn(\n",
      "/home/ubuntu/.conda/envs/dyn/lib/python3.8/site-packages/torch_tensorrt/fx/tracer/acc_tracer/acc_tracer.py:546: UserWarning: acc_tracer does not support currently support models for training. Calling eval on model before tracing.\n",
      "  warnings.warn(\n",
      "/home/ubuntu/.conda/envs/dyn/lib/python3.8/site-packages/torch/fx/operator_schemas.py:204: UserWarning: Does not support nested parametric types, got typing.List[~t]. Please file a bug.\n",
      "  warnings.warn(\n",
      "/home/ubuntu/.conda/envs/dyn/lib/python3.8/site-packages/torch_tensorrt/fx/tracer/acc_tracer/acc_tracer.py:546: UserWarning: acc_tracer does not support currently support models for training. Calling eval on model before tracing.\n",
      "  warnings.warn(\n",
      "/home/ubuntu/.conda/envs/dyn/lib/python3.8/site-packages/torch/fx/operator_schemas.py:204: UserWarning: Does not support nested parametric types, got typing.List[~t]. Please file a bug.\n",
      "  warnings.warn(\n",
      "/home/ubuntu/.conda/envs/dyn/lib/python3.8/site-packages/torch_tensorrt/fx/tracer/acc_tracer/acc_tracer.py:546: UserWarning: acc_tracer does not support currently support models for training. Calling eval on model before tracing.\n",
      "  warnings.warn(\n",
      "/home/ubuntu/.conda/envs/dyn/lib/python3.8/site-packages/torch_tensorrt/fx/tracer/acc_tracer/acc_tracer.py:546: UserWarning: acc_tracer does not support currently support models for training. Calling eval on model before tracing.\n",
      "  warnings.warn(\n",
      "/home/ubuntu/.conda/envs/dyn/lib/python3.8/site-packages/torch_tensorrt/fx/tracer/acc_tracer/acc_tracer.py:546: UserWarning: acc_tracer does not support currently support models for training. Calling eval on model before tracing.\n",
      "  warnings.warn(\n"
     ]
    },
    {
     "name": "stdout",
     "output_type": "stream",
     "text": [
      "FX2TRT conversion failed on the subgraph. Return GraphModule forward instead\n",
      "ERROR torchdynamo.optimizations.backends: FX2TRT conversion error\n",
      "Traceback (most recent call last):\n",
      "  File \"/home/ubuntu/torchdynamo-test/torchdynamo/torchdynamo/optimizations/backends.py\", line 333, in fx2trt\n",
      "    splitter_setting = TRTSplitterSetting()\n",
      "  File \"/home/ubuntu/.conda/envs/dyn/lib/python3.8/site-packages/torch_tensorrt/fx/tools/trt_splitter.py\", line 52, in __init__\n",
      "    self.exclude_support_node_name: set = set(self.op_lowering_disallow_list)\n",
      "AttributeError: 'TRTSplitterSetting' object has no attribute 'op_lowering_disallow_list'\n",
      "FX2TRT conversion failed on the subgraph. Return GraphModule forward instead\n"
     ]
    },
    {
     "name": "stderr",
     "output_type": "stream",
     "text": [
      "/home/ubuntu/.conda/envs/dyn/lib/python3.8/site-packages/torch_tensorrt/fx/tracer/acc_tracer/acc_tracer.py:546: UserWarning: acc_tracer does not support currently support models for training. Calling eval on model before tracing.\n",
      "  warnings.warn(\n",
      "/home/ubuntu/.conda/envs/dyn/lib/python3.8/site-packages/torch/fx/operator_schemas.py:180: UserWarning: We were not able to successfully create type hint from the type (slice(<class 'NoneType'>, <class 'NoneType'>, <class 'NoneType'>), slice(<class 'int'>, <class 'NoneType'>, <class 'NoneType'>))\n",
      "  warnings.warn(f\"We were not able to successfully create type hint from the type {x}\")\n"
     ]
    },
    {
     "name": "stdout",
     "output_type": "stream",
     "text": [
      "ERROR torchdynamo.optimizations.backends: FX2TRT conversion error\n",
      "Traceback (most recent call last):\n",
      "  File \"/home/ubuntu/torchdynamo-test/torchdynamo/torchdynamo/optimizations/backends.py\", line 333, in fx2trt\n",
      "    splitter_setting = TRTSplitterSetting()\n",
      "  File \"/home/ubuntu/.conda/envs/dyn/lib/python3.8/site-packages/torch_tensorrt/fx/tools/trt_splitter.py\", line 52, in __init__\n",
      "    self.exclude_support_node_name: set = set(self.op_lowering_disallow_list)\n",
      "AttributeError: 'TRTSplitterSetting' object has no attribute 'op_lowering_disallow_list'\n",
      "FX2TRT conversion failed on the subgraph. Return GraphModule forward instead\n",
      "ERROR torchdynamo.optimizations.backends: FX2TRT conversion error\n",
      "Traceback (most recent call last):\n",
      "  File \"/home/ubuntu/torchdynamo-test/torchdynamo/torchdynamo/optimizations/backends.py\", line 333, in fx2trt\n",
      "    splitter_setting = TRTSplitterSetting()\n",
      "  File \"/home/ubuntu/.conda/envs/dyn/lib/python3.8/site-packages/torch_tensorrt/fx/tools/trt_splitter.py\", line 52, in __init__\n",
      "    self.exclude_support_node_name: set = set(self.op_lowering_disallow_list)\n",
      "AttributeError: 'TRTSplitterSetting' object has no attribute 'op_lowering_disallow_list'\n"
     ]
    },
    {
     "name": "stderr",
     "output_type": "stream",
     "text": [
      "/home/ubuntu/.conda/envs/dyn/lib/python3.8/site-packages/torch_tensorrt/fx/tracer/acc_tracer/acc_tracer.py:546: UserWarning: acc_tracer does not support currently support models for training. Calling eval on model before tracing.\n",
      "  warnings.warn(\n",
      "/home/ubuntu/.conda/envs/dyn/lib/python3.8/site-packages/torch/fx/operator_schemas.py:180: UserWarning: We were not able to successfully create type hint from the type (slice(<class 'NoneType'>, <class 'NoneType'>, <class 'NoneType'>), <class 'NoneType'>, <class 'NoneType'>, slice(<class 'NoneType'>, <class 'NoneType'>, <class 'NoneType'>))\n",
      "  warnings.warn(f\"We were not able to successfully create type hint from the type {x}\")\n",
      "/home/ubuntu/.conda/envs/dyn/lib/python3.8/site-packages/torch_tensorrt/fx/tracer/acc_tracer/acc_tracer.py:546: UserWarning: acc_tracer does not support currently support models for training. Calling eval on model before tracing.\n",
      "  warnings.warn(\n"
     ]
    },
    {
     "name": "stdout",
     "output_type": "stream",
     "text": [
      "FX2TRT conversion failed on the subgraph. Return GraphModule forward instead\n"
     ]
    },
    {
     "name": "stderr",
     "output_type": "stream",
     "text": [
      "/home/ubuntu/.conda/envs/dyn/lib/python3.8/site-packages/torch_tensorrt/fx/tracer/acc_tracer/acc_tracer.py:546: UserWarning: acc_tracer does not support currently support models for training. Calling eval on model before tracing.\n",
      "  warnings.warn(\n"
     ]
    },
    {
     "name": "stdout",
     "output_type": "stream",
     "text": [
      "ERROR torchdynamo.optimizations.backends: FX2TRT conversion error\n",
      "Traceback (most recent call last):\n",
      "  File \"/home/ubuntu/torchdynamo-test/torchdynamo/torchdynamo/optimizations/backends.py\", line 333, in fx2trt\n",
      "    splitter_setting = TRTSplitterSetting()\n",
      "  File \"/home/ubuntu/.conda/envs/dyn/lib/python3.8/site-packages/torch_tensorrt/fx/tools/trt_splitter.py\", line 52, in __init__\n",
      "    self.exclude_support_node_name: set = set(self.op_lowering_disallow_list)\n",
      "AttributeError: 'TRTSplitterSetting' object has no attribute 'op_lowering_disallow_list'\n",
      "FX2TRT conversion failed on the subgraph. Return GraphModule forward instead\n",
      "ERROR torchdynamo.optimizations.backends: FX2TRT conversion error\n",
      "Traceback (most recent call last):\n",
      "  File \"/home/ubuntu/torchdynamo-test/torchdynamo/torchdynamo/optimizations/backends.py\", line 333, in fx2trt\n",
      "    splitter_setting = TRTSplitterSetting()\n",
      "  File \"/home/ubuntu/.conda/envs/dyn/lib/python3.8/site-packages/torch_tensorrt/fx/tools/trt_splitter.py\", line 52, in __init__\n",
      "    self.exclude_support_node_name: set = set(self.op_lowering_disallow_list)\n",
      "AttributeError: 'TRTSplitterSetting' object has no attribute 'op_lowering_disallow_list'\n",
      "FX2TRT conversion failed on the subgraph. Return GraphModule forward instead\n",
      "ERROR torchdynamo.optimizations.backends: FX2TRT conversion error\n",
      "Traceback (most recent call last):\n",
      "  File \"/home/ubuntu/torchdynamo-test/torchdynamo/torchdynamo/optimizations/backends.py\", line 333, in fx2trt\n",
      "    splitter_setting = TRTSplitterSetting()\n",
      "  File \"/home/ubuntu/.conda/envs/dyn/lib/python3.8/site-packages/torch_tensorrt/fx/tools/trt_splitter.py\", line 52, in __init__\n",
      "    self.exclude_support_node_name: set = set(self.op_lowering_disallow_list)\n",
      "AttributeError: 'TRTSplitterSetting' object has no attribute 'op_lowering_disallow_list'\n",
      "FX2TRT conversion failed on the subgraph. Return GraphModule forward instead\n",
      "ERROR torchdynamo.optimizations.backends: FX2TRT conversion error\n",
      "Traceback (most recent call last):\n",
      "  File \"/home/ubuntu/torchdynamo-test/torchdynamo/torchdynamo/optimizations/backends.py\", line 333, in fx2trt\n",
      "    splitter_setting = TRTSplitterSetting()\n",
      "  File \"/home/ubuntu/.conda/envs/dyn/lib/python3.8/site-packages/torch_tensorrt/fx/tools/trt_splitter.py\", line 52, in __init__\n",
      "    self.exclude_support_node_name: set = set(self.op_lowering_disallow_list)\n",
      "AttributeError: 'TRTSplitterSetting' object has no attribute 'op_lowering_disallow_list'\n",
      "FX2TRT conversion failed on the subgraph. Return GraphModule forward instead\n",
      "WARNING torchdynamo.convert_frame: torchdynamo hit config.cache_size_limit (64)\n",
      "   function: 'process' (/home/ubuntu/.local/lib/python3.8/site-packages/transformers/generation_beam_search.py:207)\n",
      "   reasons:  ['___stack2 == 9199']\n",
      "to diagnose recompilation issues, see https://github.com/pytorch/torchdynamo/blob/main/TROUBLESHOOTING.md.\n"
     ]
    },
    {
     "name": "stderr",
     "output_type": "stream",
     "text": [
      "/home/ubuntu/.conda/envs/dyn/lib/python3.8/site-packages/torch_tensorrt/fx/tracer/acc_tracer/acc_tracer.py:546: UserWarning: acc_tracer does not support currently support models for training. Calling eval on model before tracing.\n",
      "  warnings.warn(\n",
      "/home/ubuntu/.conda/envs/dyn/lib/python3.8/site-packages/torch_tensorrt/fx/tracer/acc_tracer/acc_tracer.py:546: UserWarning: acc_tracer does not support currently support models for training. Calling eval on model before tracing.\n",
      "  warnings.warn(\n",
      "/home/ubuntu/.conda/envs/dyn/lib/python3.8/site-packages/torch_tensorrt/fx/tracer/acc_tracer/acc_tracer.py:546: UserWarning: acc_tracer does not support currently support models for training. Calling eval on model before tracing.\n",
      "  warnings.warn(\n",
      "/home/ubuntu/.conda/envs/dyn/lib/python3.8/site-packages/torch/fx/operator_schemas.py:204: UserWarning: Does not support nested parametric types, got typing.List[~t]. Please file a bug.\n",
      "  warnings.warn(\n",
      "/home/ubuntu/.conda/envs/dyn/lib/python3.8/site-packages/torch_tensorrt/fx/tracer/acc_tracer/acc_tracer.py:546: UserWarning: acc_tracer does not support currently support models for training. Calling eval on model before tracing.\n",
      "  warnings.warn(\n"
     ]
    },
    {
     "name": "stdout",
     "output_type": "stream",
     "text": [
      "ERROR torchdynamo.optimizations.backends: FX2TRT conversion error\n",
      "Traceback (most recent call last):\n",
      "  File \"/home/ubuntu/torchdynamo-test/torchdynamo/torchdynamo/optimizations/backends.py\", line 333, in fx2trt\n",
      "    splitter_setting = TRTSplitterSetting()\n",
      "  File \"/home/ubuntu/.conda/envs/dyn/lib/python3.8/site-packages/torch_tensorrt/fx/tools/trt_splitter.py\", line 52, in __init__\n",
      "    self.exclude_support_node_name: set = set(self.op_lowering_disallow_list)\n",
      "AttributeError: 'TRTSplitterSetting' object has no attribute 'op_lowering_disallow_list'\n",
      "FX2TRT conversion failed on the subgraph. Return GraphModule forward instead\n"
     ]
    },
    {
     "name": "stderr",
     "output_type": "stream",
     "text": [
      "/home/ubuntu/.conda/envs/dyn/lib/python3.8/site-packages/torch/fx/operator_schemas.py:180: UserWarning: We were not able to successfully create type hint from the type (slice(<class 'NoneType'>, <class 'NoneType'>, <class 'NoneType'>), slice(<class 'int'>, <class 'NoneType'>, <class 'NoneType'>))\n",
      "  warnings.warn(f\"We were not able to successfully create type hint from the type {x}\")\n"
     ]
    },
    {
     "name": "stdout",
     "output_type": "stream",
     "text": [
      "ERROR torchdynamo.optimizations.backends: FX2TRT conversion error\n",
      "Traceback (most recent call last):\n",
      "  File \"/home/ubuntu/torchdynamo-test/torchdynamo/torchdynamo/optimizations/backends.py\", line 333, in fx2trt\n",
      "    splitter_setting = TRTSplitterSetting()\n",
      "  File \"/home/ubuntu/.conda/envs/dyn/lib/python3.8/site-packages/torch_tensorrt/fx/tools/trt_splitter.py\", line 52, in __init__\n",
      "    self.exclude_support_node_name: set = set(self.op_lowering_disallow_list)\n",
      "AttributeError: 'TRTSplitterSetting' object has no attribute 'op_lowering_disallow_list'\n",
      "FX2TRT conversion failed on the subgraph. Return GraphModule forward instead\n",
      "ERROR torchdynamo.optimizations.backends: FX2TRT conversion error\n",
      "Traceback (most recent call last):\n",
      "  File \"/home/ubuntu/torchdynamo-test/torchdynamo/torchdynamo/optimizations/backends.py\", line 333, in fx2trt\n",
      "    splitter_setting = TRTSplitterSetting()\n",
      "  File \"/home/ubuntu/.conda/envs/dyn/lib/python3.8/site-packages/torch_tensorrt/fx/tools/trt_splitter.py\", line 52, in __init__\n",
      "    self.exclude_support_node_name: set = set(self.op_lowering_disallow_list)\n",
      "AttributeError: 'TRTSplitterSetting' object has no attribute 'op_lowering_disallow_list'\n"
     ]
    },
    {
     "name": "stderr",
     "output_type": "stream",
     "text": [
      "/home/ubuntu/.conda/envs/dyn/lib/python3.8/site-packages/torch_tensorrt/fx/tracer/acc_tracer/acc_tracer.py:546: UserWarning: acc_tracer does not support currently support models for training. Calling eval on model before tracing.\n",
      "  warnings.warn(\n",
      "/home/ubuntu/.conda/envs/dyn/lib/python3.8/site-packages/torch/fx/operator_schemas.py:180: UserWarning: We were not able to successfully create type hint from the type (slice(<class 'NoneType'>, <class 'NoneType'>, <class 'NoneType'>), <class 'NoneType'>, <class 'NoneType'>, slice(<class 'NoneType'>, <class 'NoneType'>, <class 'NoneType'>))\n",
      "  warnings.warn(f\"We were not able to successfully create type hint from the type {x}\")\n",
      "/home/ubuntu/.conda/envs/dyn/lib/python3.8/site-packages/torch_tensorrt/fx/tracer/acc_tracer/acc_tracer.py:546: UserWarning: acc_tracer does not support currently support models for training. Calling eval on model before tracing.\n",
      "  warnings.warn(\n"
     ]
    },
    {
     "name": "stdout",
     "output_type": "stream",
     "text": [
      "FX2TRT conversion failed on the subgraph. Return GraphModule forward instead\n"
     ]
    },
    {
     "name": "stderr",
     "output_type": "stream",
     "text": [
      "/home/ubuntu/.conda/envs/dyn/lib/python3.8/site-packages/torch_tensorrt/fx/tracer/acc_tracer/acc_tracer.py:546: UserWarning: acc_tracer does not support currently support models for training. Calling eval on model before tracing.\n",
      "  warnings.warn(\n"
     ]
    },
    {
     "name": "stdout",
     "output_type": "stream",
     "text": [
      "ERROR torchdynamo.optimizations.backends: FX2TRT conversion error\n",
      "Traceback (most recent call last):\n",
      "  File \"/home/ubuntu/torchdynamo-test/torchdynamo/torchdynamo/optimizations/backends.py\", line 333, in fx2trt\n",
      "    splitter_setting = TRTSplitterSetting()\n",
      "  File \"/home/ubuntu/.conda/envs/dyn/lib/python3.8/site-packages/torch_tensorrt/fx/tools/trt_splitter.py\", line 52, in __init__\n",
      "    self.exclude_support_node_name: set = set(self.op_lowering_disallow_list)\n",
      "AttributeError: 'TRTSplitterSetting' object has no attribute 'op_lowering_disallow_list'\n",
      "FX2TRT conversion failed on the subgraph. Return GraphModule forward instead\n",
      "ERROR torchdynamo.optimizations.backends: FX2TRT conversion error\n",
      "Traceback (most recent call last):\n",
      "  File \"/home/ubuntu/torchdynamo-test/torchdynamo/torchdynamo/optimizations/backends.py\", line 333, in fx2trt\n",
      "    splitter_setting = TRTSplitterSetting()\n",
      "  File \"/home/ubuntu/.conda/envs/dyn/lib/python3.8/site-packages/torch_tensorrt/fx/tools/trt_splitter.py\", line 52, in __init__\n",
      "    self.exclude_support_node_name: set = set(self.op_lowering_disallow_list)\n",
      "AttributeError: 'TRTSplitterSetting' object has no attribute 'op_lowering_disallow_list'\n",
      "FX2TRT conversion failed on the subgraph. Return GraphModule forward instead\n",
      "ERROR torchdynamo.optimizations.backends: FX2TRT conversion error\n",
      "Traceback (most recent call last):\n",
      "  File \"/home/ubuntu/torchdynamo-test/torchdynamo/torchdynamo/optimizations/backends.py\", line 333, in fx2trt\n",
      "    splitter_setting = TRTSplitterSetting()\n",
      "  File \"/home/ubuntu/.conda/envs/dyn/lib/python3.8/site-packages/torch_tensorrt/fx/tools/trt_splitter.py\", line 52, in __init__\n",
      "    self.exclude_support_node_name: set = set(self.op_lowering_disallow_list)\n",
      "AttributeError: 'TRTSplitterSetting' object has no attribute 'op_lowering_disallow_list'\n",
      "FX2TRT conversion failed on the subgraph. Return GraphModule forward instead\n",
      "ERROR torchdynamo.optimizations.backends: FX2TRT conversion error\n",
      "Traceback (most recent call last):\n",
      "  File \"/home/ubuntu/torchdynamo-test/torchdynamo/torchdynamo/optimizations/backends.py\", line 333, in fx2trt\n",
      "    splitter_setting = TRTSplitterSetting()\n",
      "  File \"/home/ubuntu/.conda/envs/dyn/lib/python3.8/site-packages/torch_tensorrt/fx/tools/trt_splitter.py\", line 52, in __init__\n",
      "    self.exclude_support_node_name: set = set(self.op_lowering_disallow_list)\n",
      "AttributeError: 'TRTSplitterSetting' object has no attribute 'op_lowering_disallow_list'\n",
      "FX2TRT conversion failed on the subgraph. Return GraphModule forward instead\n",
      "ERROR torchdynamo.optimizations.backends: FX2TRT conversion error\n",
      "Traceback (most recent call last):\n",
      "  File \"/home/ubuntu/torchdynamo-test/torchdynamo/torchdynamo/optimizations/backends.py\", line 333, in fx2trt\n",
      "    splitter_setting = TRTSplitterSetting()\n",
      "  File \"/home/ubuntu/.conda/envs/dyn/lib/python3.8/site-packages/torch_tensorrt/fx/tools/trt_splitter.py\", line 52, in __init__\n",
      "    self.exclude_support_node_name: set = set(self.op_lowering_disallow_list)\n",
      "AttributeError: 'TRTSplitterSetting' object has no attribute 'op_lowering_disallow_list'\n"
     ]
    },
    {
     "name": "stderr",
     "output_type": "stream",
     "text": [
      "/home/ubuntu/.conda/envs/dyn/lib/python3.8/site-packages/torch_tensorrt/fx/tracer/acc_tracer/acc_tracer.py:546: UserWarning: acc_tracer does not support currently support models for training. Calling eval on model before tracing.\n",
      "  warnings.warn(\n",
      "/home/ubuntu/.conda/envs/dyn/lib/python3.8/site-packages/torch_tensorrt/fx/tracer/acc_tracer/acc_tracer.py:546: UserWarning: acc_tracer does not support currently support models for training. Calling eval on model before tracing.\n",
      "  warnings.warn(\n",
      "/home/ubuntu/.conda/envs/dyn/lib/python3.8/site-packages/torch_tensorrt/fx/tracer/acc_tracer/acc_tracer.py:546: UserWarning: acc_tracer does not support currently support models for training. Calling eval on model before tracing.\n",
      "  warnings.warn(\n",
      "/home/ubuntu/.conda/envs/dyn/lib/python3.8/site-packages/torch/fx/operator_schemas.py:204: UserWarning: Does not support nested parametric types, got typing.List[~t]. Please file a bug.\n",
      "  warnings.warn(\n",
      "/home/ubuntu/.conda/envs/dyn/lib/python3.8/site-packages/torch_tensorrt/fx/tracer/acc_tracer/acc_tracer.py:546: UserWarning: acc_tracer does not support currently support models for training. Calling eval on model before tracing.\n",
      "  warnings.warn(\n",
      "/home/ubuntu/.conda/envs/dyn/lib/python3.8/site-packages/torch/fx/operator_schemas.py:180: UserWarning: We were not able to successfully create type hint from the type (slice(<class 'NoneType'>, <class 'NoneType'>, <class 'NoneType'>), slice(<class 'int'>, <class 'NoneType'>, <class 'NoneType'>))\n",
      "  warnings.warn(f\"We were not able to successfully create type hint from the type {x}\")\n"
     ]
    },
    {
     "name": "stdout",
     "output_type": "stream",
     "text": [
      "FX2TRT conversion failed on the subgraph. Return GraphModule forward instead\n",
      "ERROR torchdynamo.optimizations.backends: FX2TRT conversion error\n",
      "Traceback (most recent call last):\n",
      "  File \"/home/ubuntu/torchdynamo-test/torchdynamo/torchdynamo/optimizations/backends.py\", line 333, in fx2trt\n",
      "    splitter_setting = TRTSplitterSetting()\n",
      "  File \"/home/ubuntu/.conda/envs/dyn/lib/python3.8/site-packages/torch_tensorrt/fx/tools/trt_splitter.py\", line 52, in __init__\n",
      "    self.exclude_support_node_name: set = set(self.op_lowering_disallow_list)\n",
      "AttributeError: 'TRTSplitterSetting' object has no attribute 'op_lowering_disallow_list'\n",
      "FX2TRT conversion failed on the subgraph. Return GraphModule forward instead\n",
      "ERROR torchdynamo.optimizations.backends: FX2TRT conversion error\n",
      "Traceback (most recent call last):\n",
      "  File \"/home/ubuntu/torchdynamo-test/torchdynamo/torchdynamo/optimizations/backends.py\", line 333, in fx2trt\n",
      "    splitter_setting = TRTSplitterSetting()\n",
      "  File \"/home/ubuntu/.conda/envs/dyn/lib/python3.8/site-packages/torch_tensorrt/fx/tools/trt_splitter.py\", line 52, in __init__\n",
      "    self.exclude_support_node_name: set = set(self.op_lowering_disallow_list)\n",
      "AttributeError: 'TRTSplitterSetting' object has no attribute 'op_lowering_disallow_list'\n"
     ]
    },
    {
     "name": "stderr",
     "output_type": "stream",
     "text": [
      "/home/ubuntu/.conda/envs/dyn/lib/python3.8/site-packages/torch_tensorrt/fx/tracer/acc_tracer/acc_tracer.py:546: UserWarning: acc_tracer does not support currently support models for training. Calling eval on model before tracing.\n",
      "  warnings.warn(\n",
      "/home/ubuntu/.conda/envs/dyn/lib/python3.8/site-packages/torch/fx/operator_schemas.py:180: UserWarning: We were not able to successfully create type hint from the type (slice(<class 'NoneType'>, <class 'NoneType'>, <class 'NoneType'>), <class 'NoneType'>, <class 'NoneType'>, slice(<class 'NoneType'>, <class 'NoneType'>, <class 'NoneType'>))\n",
      "  warnings.warn(f\"We were not able to successfully create type hint from the type {x}\")\n",
      "/home/ubuntu/.conda/envs/dyn/lib/python3.8/site-packages/torch_tensorrt/fx/tracer/acc_tracer/acc_tracer.py:546: UserWarning: acc_tracer does not support currently support models for training. Calling eval on model before tracing.\n",
      "  warnings.warn(\n"
     ]
    },
    {
     "name": "stdout",
     "output_type": "stream",
     "text": [
      "FX2TRT conversion failed on the subgraph. Return GraphModule forward instead\n"
     ]
    },
    {
     "name": "stderr",
     "output_type": "stream",
     "text": [
      "/home/ubuntu/.conda/envs/dyn/lib/python3.8/site-packages/torch_tensorrt/fx/tracer/acc_tracer/acc_tracer.py:546: UserWarning: acc_tracer does not support currently support models for training. Calling eval on model before tracing.\n",
      "  warnings.warn(\n"
     ]
    },
    {
     "name": "stdout",
     "output_type": "stream",
     "text": [
      "ERROR torchdynamo.optimizations.backends: FX2TRT conversion error\n",
      "Traceback (most recent call last):\n",
      "  File \"/home/ubuntu/torchdynamo-test/torchdynamo/torchdynamo/optimizations/backends.py\", line 333, in fx2trt\n",
      "    splitter_setting = TRTSplitterSetting()\n",
      "  File \"/home/ubuntu/.conda/envs/dyn/lib/python3.8/site-packages/torch_tensorrt/fx/tools/trt_splitter.py\", line 52, in __init__\n",
      "    self.exclude_support_node_name: set = set(self.op_lowering_disallow_list)\n",
      "AttributeError: 'TRTSplitterSetting' object has no attribute 'op_lowering_disallow_list'\n",
      "FX2TRT conversion failed on the subgraph. Return GraphModule forward instead\n",
      "ERROR torchdynamo.optimizations.backends: FX2TRT conversion error\n",
      "Traceback (most recent call last):\n",
      "  File \"/home/ubuntu/torchdynamo-test/torchdynamo/torchdynamo/optimizations/backends.py\", line 333, in fx2trt\n",
      "    splitter_setting = TRTSplitterSetting()\n",
      "  File \"/home/ubuntu/.conda/envs/dyn/lib/python3.8/site-packages/torch_tensorrt/fx/tools/trt_splitter.py\", line 52, in __init__\n",
      "    self.exclude_support_node_name: set = set(self.op_lowering_disallow_list)\n",
      "AttributeError: 'TRTSplitterSetting' object has no attribute 'op_lowering_disallow_list'\n",
      "FX2TRT conversion failed on the subgraph. Return GraphModule forward instead\n",
      "ERROR torchdynamo.optimizations.backends: FX2TRT conversion error\n",
      "Traceback (most recent call last):\n",
      "  File \"/home/ubuntu/torchdynamo-test/torchdynamo/torchdynamo/optimizations/backends.py\", line 333, in fx2trt\n",
      "    splitter_setting = TRTSplitterSetting()\n",
      "  File \"/home/ubuntu/.conda/envs/dyn/lib/python3.8/site-packages/torch_tensorrt/fx/tools/trt_splitter.py\", line 52, in __init__\n",
      "    self.exclude_support_node_name: set = set(self.op_lowering_disallow_list)\n",
      "AttributeError: 'TRTSplitterSetting' object has no attribute 'op_lowering_disallow_list'\n",
      "FX2TRT conversion failed on the subgraph. Return GraphModule forward instead\n",
      "ERROR torchdynamo.optimizations.backends: FX2TRT conversion error\n",
      "Traceback (most recent call last):\n",
      "  File \"/home/ubuntu/torchdynamo-test/torchdynamo/torchdynamo/optimizations/backends.py\", line 333, in fx2trt\n",
      "    splitter_setting = TRTSplitterSetting()\n",
      "  File \"/home/ubuntu/.conda/envs/dyn/lib/python3.8/site-packages/torch_tensorrt/fx/tools/trt_splitter.py\", line 52, in __init__\n",
      "    self.exclude_support_node_name: set = set(self.op_lowering_disallow_list)\n",
      "AttributeError: 'TRTSplitterSetting' object has no attribute 'op_lowering_disallow_list'\n"
     ]
    },
    {
     "name": "stderr",
     "output_type": "stream",
     "text": [
      "/home/ubuntu/.conda/envs/dyn/lib/python3.8/site-packages/torch_tensorrt/fx/tracer/acc_tracer/acc_tracer.py:546: UserWarning: acc_tracer does not support currently support models for training. Calling eval on model before tracing.\n",
      "  warnings.warn(\n",
      "/home/ubuntu/.conda/envs/dyn/lib/python3.8/site-packages/torch_tensorrt/fx/tracer/acc_tracer/acc_tracer.py:546: UserWarning: acc_tracer does not support currently support models for training. Calling eval on model before tracing.\n",
      "  warnings.warn(\n",
      "/home/ubuntu/.conda/envs/dyn/lib/python3.8/site-packages/torch_tensorrt/fx/tracer/acc_tracer/acc_tracer.py:546: UserWarning: acc_tracer does not support currently support models for training. Calling eval on model before tracing.\n",
      "  warnings.warn(\n",
      "/home/ubuntu/.conda/envs/dyn/lib/python3.8/site-packages/torch/fx/operator_schemas.py:204: UserWarning: Does not support nested parametric types, got typing.List[~t]. Please file a bug.\n",
      "  warnings.warn(\n",
      "/home/ubuntu/.conda/envs/dyn/lib/python3.8/site-packages/torch_tensorrt/fx/tracer/acc_tracer/acc_tracer.py:546: UserWarning: acc_tracer does not support currently support models for training. Calling eval on model before tracing.\n",
      "  warnings.warn(\n",
      "/home/ubuntu/.conda/envs/dyn/lib/python3.8/site-packages/torch/fx/operator_schemas.py:180: UserWarning: We were not able to successfully create type hint from the type (slice(<class 'NoneType'>, <class 'NoneType'>, <class 'NoneType'>), slice(<class 'int'>, <class 'NoneType'>, <class 'NoneType'>))\n",
      "  warnings.warn(f\"We were not able to successfully create type hint from the type {x}\")\n"
     ]
    },
    {
     "name": "stdout",
     "output_type": "stream",
     "text": [
      "FX2TRT conversion failed on the subgraph. Return GraphModule forward instead\n",
      "ERROR torchdynamo.optimizations.backends: FX2TRT conversion error\n",
      "Traceback (most recent call last):\n",
      "  File \"/home/ubuntu/torchdynamo-test/torchdynamo/torchdynamo/optimizations/backends.py\", line 333, in fx2trt\n",
      "    splitter_setting = TRTSplitterSetting()\n",
      "  File \"/home/ubuntu/.conda/envs/dyn/lib/python3.8/site-packages/torch_tensorrt/fx/tools/trt_splitter.py\", line 52, in __init__\n",
      "    self.exclude_support_node_name: set = set(self.op_lowering_disallow_list)\n",
      "AttributeError: 'TRTSplitterSetting' object has no attribute 'op_lowering_disallow_list'\n",
      "FX2TRT conversion failed on the subgraph. Return GraphModule forward instead\n",
      "ERROR torchdynamo.optimizations.backends: FX2TRT conversion error\n",
      "Traceback (most recent call last):\n",
      "  File \"/home/ubuntu/torchdynamo-test/torchdynamo/torchdynamo/optimizations/backends.py\", line 333, in fx2trt\n",
      "    splitter_setting = TRTSplitterSetting()\n",
      "  File \"/home/ubuntu/.conda/envs/dyn/lib/python3.8/site-packages/torch_tensorrt/fx/tools/trt_splitter.py\", line 52, in __init__\n",
      "    self.exclude_support_node_name: set = set(self.op_lowering_disallow_list)\n",
      "AttributeError: 'TRTSplitterSetting' object has no attribute 'op_lowering_disallow_list'\n",
      "FX2TRT conversion failed on the subgraph. Return GraphModule forward instead\n",
      "ERROR torchdynamo.optimizations.backends: FX2TRT conversion error\n",
      "Traceback (most recent call last):\n",
      "  File \"/home/ubuntu/torchdynamo-test/torchdynamo/torchdynamo/optimizations/backends.py\", line 333, in fx2trt\n",
      "    splitter_setting = TRTSplitterSetting()\n",
      "  File \"/home/ubuntu/.conda/envs/dyn/lib/python3.8/site-packages/torch_tensorrt/fx/tools/trt_splitter.py\", line 52, in __init__\n",
      "    self.exclude_support_node_name: set = set(self.op_lowering_disallow_list)\n",
      "AttributeError: 'TRTSplitterSetting' object has no attribute 'op_lowering_disallow_list'\n"
     ]
    },
    {
     "name": "stderr",
     "output_type": "stream",
     "text": [
      "/home/ubuntu/.conda/envs/dyn/lib/python3.8/site-packages/torch_tensorrt/fx/tracer/acc_tracer/acc_tracer.py:546: UserWarning: acc_tracer does not support currently support models for training. Calling eval on model before tracing.\n",
      "  warnings.warn(\n",
      "/home/ubuntu/.conda/envs/dyn/lib/python3.8/site-packages/torch/fx/operator_schemas.py:180: UserWarning: We were not able to successfully create type hint from the type (slice(<class 'NoneType'>, <class 'NoneType'>, <class 'NoneType'>), <class 'NoneType'>, <class 'NoneType'>, slice(<class 'NoneType'>, <class 'NoneType'>, <class 'NoneType'>))\n",
      "  warnings.warn(f\"We were not able to successfully create type hint from the type {x}\")\n",
      "/home/ubuntu/.conda/envs/dyn/lib/python3.8/site-packages/torch_tensorrt/fx/tracer/acc_tracer/acc_tracer.py:546: UserWarning: acc_tracer does not support currently support models for training. Calling eval on model before tracing.\n",
      "  warnings.warn(\n"
     ]
    },
    {
     "name": "stdout",
     "output_type": "stream",
     "text": [
      "FX2TRT conversion failed on the subgraph. Return GraphModule forward instead\n"
     ]
    },
    {
     "name": "stderr",
     "output_type": "stream",
     "text": [
      "/home/ubuntu/.conda/envs/dyn/lib/python3.8/site-packages/torch_tensorrt/fx/tracer/acc_tracer/acc_tracer.py:546: UserWarning: acc_tracer does not support currently support models for training. Calling eval on model before tracing.\n",
      "  warnings.warn(\n"
     ]
    },
    {
     "name": "stdout",
     "output_type": "stream",
     "text": [
      "ERROR torchdynamo.optimizations.backends: FX2TRT conversion error\n",
      "Traceback (most recent call last):\n",
      "  File \"/home/ubuntu/torchdynamo-test/torchdynamo/torchdynamo/optimizations/backends.py\", line 333, in fx2trt\n",
      "    splitter_setting = TRTSplitterSetting()\n",
      "  File \"/home/ubuntu/.conda/envs/dyn/lib/python3.8/site-packages/torch_tensorrt/fx/tools/trt_splitter.py\", line 52, in __init__\n",
      "    self.exclude_support_node_name: set = set(self.op_lowering_disallow_list)\n",
      "AttributeError: 'TRTSplitterSetting' object has no attribute 'op_lowering_disallow_list'\n",
      "FX2TRT conversion failed on the subgraph. Return GraphModule forward instead\n",
      "ERROR torchdynamo.optimizations.backends: FX2TRT conversion error\n",
      "Traceback (most recent call last):\n",
      "  File \"/home/ubuntu/torchdynamo-test/torchdynamo/torchdynamo/optimizations/backends.py\", line 333, in fx2trt\n",
      "    splitter_setting = TRTSplitterSetting()\n",
      "  File \"/home/ubuntu/.conda/envs/dyn/lib/python3.8/site-packages/torch_tensorrt/fx/tools/trt_splitter.py\", line 52, in __init__\n",
      "    self.exclude_support_node_name: set = set(self.op_lowering_disallow_list)\n",
      "AttributeError: 'TRTSplitterSetting' object has no attribute 'op_lowering_disallow_list'\n",
      "FX2TRT conversion failed on the subgraph. Return GraphModule forward instead\n",
      "ERROR torchdynamo.optimizations.backends: FX2TRT conversion error\n",
      "Traceback (most recent call last):\n",
      "  File \"/home/ubuntu/torchdynamo-test/torchdynamo/torchdynamo/optimizations/backends.py\", line 333, in fx2trt\n",
      "    splitter_setting = TRTSplitterSetting()\n",
      "  File \"/home/ubuntu/.conda/envs/dyn/lib/python3.8/site-packages/torch_tensorrt/fx/tools/trt_splitter.py\", line 52, in __init__\n",
      "    self.exclude_support_node_name: set = set(self.op_lowering_disallow_list)\n",
      "AttributeError: 'TRTSplitterSetting' object has no attribute 'op_lowering_disallow_list'\n",
      "FX2TRT conversion failed on the subgraph. Return GraphModule forward instead\n",
      "ERROR torchdynamo.optimizations.backends: FX2TRT conversion error\n",
      "Traceback (most recent call last):\n",
      "  File \"/home/ubuntu/torchdynamo-test/torchdynamo/torchdynamo/optimizations/backends.py\", line 333, in fx2trt\n",
      "    splitter_setting = TRTSplitterSetting()\n",
      "  File \"/home/ubuntu/.conda/envs/dyn/lib/python3.8/site-packages/torch_tensorrt/fx/tools/trt_splitter.py\", line 52, in __init__\n",
      "    self.exclude_support_node_name: set = set(self.op_lowering_disallow_list)\n",
      "AttributeError: 'TRTSplitterSetting' object has no attribute 'op_lowering_disallow_list'\n",
      "FX2TRT conversion failed on the subgraph. Return GraphModule forward instead\n",
      "ERROR torchdynamo.optimizations.backends: FX2TRT conversion error\n",
      "Traceback (most recent call last):\n",
      "  File \"/home/ubuntu/torchdynamo-test/torchdynamo/torchdynamo/optimizations/backends.py\", line 333, in fx2trt\n",
      "    splitter_setting = TRTSplitterSetting()\n",
      "  File \"/home/ubuntu/.conda/envs/dyn/lib/python3.8/site-packages/torch_tensorrt/fx/tools/trt_splitter.py\", line 52, in __init__\n",
      "    self.exclude_support_node_name: set = set(self.op_lowering_disallow_list)\n",
      "AttributeError: 'TRTSplitterSetting' object has no attribute 'op_lowering_disallow_list'\n"
     ]
    },
    {
     "name": "stderr",
     "output_type": "stream",
     "text": [
      "/home/ubuntu/.conda/envs/dyn/lib/python3.8/site-packages/torch_tensorrt/fx/tracer/acc_tracer/acc_tracer.py:546: UserWarning: acc_tracer does not support currently support models for training. Calling eval on model before tracing.\n",
      "  warnings.warn(\n",
      "/home/ubuntu/.conda/envs/dyn/lib/python3.8/site-packages/torch_tensorrt/fx/tracer/acc_tracer/acc_tracer.py:546: UserWarning: acc_tracer does not support currently support models for training. Calling eval on model before tracing.\n",
      "  warnings.warn(\n",
      "/home/ubuntu/.conda/envs/dyn/lib/python3.8/site-packages/torch_tensorrt/fx/tracer/acc_tracer/acc_tracer.py:546: UserWarning: acc_tracer does not support currently support models for training. Calling eval on model before tracing.\n",
      "  warnings.warn(\n",
      "/home/ubuntu/.conda/envs/dyn/lib/python3.8/site-packages/torch/fx/operator_schemas.py:204: UserWarning: Does not support nested parametric types, got typing.List[~t]. Please file a bug.\n",
      "  warnings.warn(\n",
      "/home/ubuntu/.conda/envs/dyn/lib/python3.8/site-packages/torch_tensorrt/fx/tracer/acc_tracer/acc_tracer.py:546: UserWarning: acc_tracer does not support currently support models for training. Calling eval on model before tracing.\n",
      "  warnings.warn(\n",
      "/home/ubuntu/.conda/envs/dyn/lib/python3.8/site-packages/torch/fx/operator_schemas.py:180: UserWarning: We were not able to successfully create type hint from the type (slice(<class 'NoneType'>, <class 'NoneType'>, <class 'NoneType'>), slice(<class 'int'>, <class 'NoneType'>, <class 'NoneType'>))\n",
      "  warnings.warn(f\"We were not able to successfully create type hint from the type {x}\")\n"
     ]
    },
    {
     "name": "stdout",
     "output_type": "stream",
     "text": [
      "FX2TRT conversion failed on the subgraph. Return GraphModule forward instead\n",
      "ERROR torchdynamo.optimizations.backends: FX2TRT conversion error\n",
      "Traceback (most recent call last):\n",
      "  File \"/home/ubuntu/torchdynamo-test/torchdynamo/torchdynamo/optimizations/backends.py\", line 333, in fx2trt\n",
      "    splitter_setting = TRTSplitterSetting()\n",
      "  File \"/home/ubuntu/.conda/envs/dyn/lib/python3.8/site-packages/torch_tensorrt/fx/tools/trt_splitter.py\", line 52, in __init__\n",
      "    self.exclude_support_node_name: set = set(self.op_lowering_disallow_list)\n",
      "AttributeError: 'TRTSplitterSetting' object has no attribute 'op_lowering_disallow_list'\n",
      "FX2TRT conversion failed on the subgraph. Return GraphModule forward instead\n",
      "ERROR torchdynamo.optimizations.backends: FX2TRT conversion error\n",
      "Traceback (most recent call last):\n",
      "  File \"/home/ubuntu/torchdynamo-test/torchdynamo/torchdynamo/optimizations/backends.py\", line 333, in fx2trt\n",
      "    splitter_setting = TRTSplitterSetting()\n",
      "  File \"/home/ubuntu/.conda/envs/dyn/lib/python3.8/site-packages/torch_tensorrt/fx/tools/trt_splitter.py\", line 52, in __init__\n",
      "    self.exclude_support_node_name: set = set(self.op_lowering_disallow_list)\n",
      "AttributeError: 'TRTSplitterSetting' object has no attribute 'op_lowering_disallow_list'\n"
     ]
    },
    {
     "name": "stderr",
     "output_type": "stream",
     "text": [
      "/home/ubuntu/.conda/envs/dyn/lib/python3.8/site-packages/torch_tensorrt/fx/tracer/acc_tracer/acc_tracer.py:546: UserWarning: acc_tracer does not support currently support models for training. Calling eval on model before tracing.\n",
      "  warnings.warn(\n",
      "/home/ubuntu/.conda/envs/dyn/lib/python3.8/site-packages/torch/fx/operator_schemas.py:180: UserWarning: We were not able to successfully create type hint from the type (slice(<class 'NoneType'>, <class 'NoneType'>, <class 'NoneType'>), <class 'NoneType'>, <class 'NoneType'>, slice(<class 'NoneType'>, <class 'NoneType'>, <class 'NoneType'>))\n",
      "  warnings.warn(f\"We were not able to successfully create type hint from the type {x}\")\n",
      "/home/ubuntu/.conda/envs/dyn/lib/python3.8/site-packages/torch_tensorrt/fx/tracer/acc_tracer/acc_tracer.py:546: UserWarning: acc_tracer does not support currently support models for training. Calling eval on model before tracing.\n",
      "  warnings.warn(\n"
     ]
    },
    {
     "name": "stdout",
     "output_type": "stream",
     "text": [
      "FX2TRT conversion failed on the subgraph. Return GraphModule forward instead\n"
     ]
    },
    {
     "name": "stderr",
     "output_type": "stream",
     "text": [
      "/home/ubuntu/.conda/envs/dyn/lib/python3.8/site-packages/torch_tensorrt/fx/tracer/acc_tracer/acc_tracer.py:546: UserWarning: acc_tracer does not support currently support models for training. Calling eval on model before tracing.\n",
      "  warnings.warn(\n"
     ]
    },
    {
     "name": "stdout",
     "output_type": "stream",
     "text": [
      "ERROR torchdynamo.optimizations.backends: FX2TRT conversion error\n",
      "Traceback (most recent call last):\n",
      "  File \"/home/ubuntu/torchdynamo-test/torchdynamo/torchdynamo/optimizations/backends.py\", line 333, in fx2trt\n",
      "    splitter_setting = TRTSplitterSetting()\n",
      "  File \"/home/ubuntu/.conda/envs/dyn/lib/python3.8/site-packages/torch_tensorrt/fx/tools/trt_splitter.py\", line 52, in __init__\n",
      "    self.exclude_support_node_name: set = set(self.op_lowering_disallow_list)\n",
      "AttributeError: 'TRTSplitterSetting' object has no attribute 'op_lowering_disallow_list'\n",
      "FX2TRT conversion failed on the subgraph. Return GraphModule forward instead\n",
      "ERROR torchdynamo.optimizations.backends: FX2TRT conversion error\n",
      "Traceback (most recent call last):\n",
      "  File \"/home/ubuntu/torchdynamo-test/torchdynamo/torchdynamo/optimizations/backends.py\", line 333, in fx2trt\n",
      "    splitter_setting = TRTSplitterSetting()\n",
      "  File \"/home/ubuntu/.conda/envs/dyn/lib/python3.8/site-packages/torch_tensorrt/fx/tools/trt_splitter.py\", line 52, in __init__\n",
      "    self.exclude_support_node_name: set = set(self.op_lowering_disallow_list)\n",
      "AttributeError: 'TRTSplitterSetting' object has no attribute 'op_lowering_disallow_list'\n",
      "FX2TRT conversion failed on the subgraph. Return GraphModule forward instead\n",
      "ERROR torchdynamo.optimizations.backends: FX2TRT conversion error\n",
      "Traceback (most recent call last):\n",
      "  File \"/home/ubuntu/torchdynamo-test/torchdynamo/torchdynamo/optimizations/backends.py\", line 333, in fx2trt\n",
      "    splitter_setting = TRTSplitterSetting()\n",
      "  File \"/home/ubuntu/.conda/envs/dyn/lib/python3.8/site-packages/torch_tensorrt/fx/tools/trt_splitter.py\", line 52, in __init__\n",
      "    self.exclude_support_node_name: set = set(self.op_lowering_disallow_list)\n",
      "AttributeError: 'TRTSplitterSetting' object has no attribute 'op_lowering_disallow_list'\n",
      "FX2TRT conversion failed on the subgraph. Return GraphModule forward instead\n",
      "ERROR torchdynamo.optimizations.backends: FX2TRT conversion error\n",
      "Traceback (most recent call last):\n",
      "  File \"/home/ubuntu/torchdynamo-test/torchdynamo/torchdynamo/optimizations/backends.py\", line 333, in fx2trt\n",
      "    splitter_setting = TRTSplitterSetting()\n",
      "  File \"/home/ubuntu/.conda/envs/dyn/lib/python3.8/site-packages/torch_tensorrt/fx/tools/trt_splitter.py\", line 52, in __init__\n",
      "    self.exclude_support_node_name: set = set(self.op_lowering_disallow_list)\n",
      "AttributeError: 'TRTSplitterSetting' object has no attribute 'op_lowering_disallow_list'\n"
     ]
    },
    {
     "name": "stderr",
     "output_type": "stream",
     "text": [
      "/home/ubuntu/.conda/envs/dyn/lib/python3.8/site-packages/torch_tensorrt/fx/tracer/acc_tracer/acc_tracer.py:546: UserWarning: acc_tracer does not support currently support models for training. Calling eval on model before tracing.\n",
      "  warnings.warn(\n",
      "/home/ubuntu/.conda/envs/dyn/lib/python3.8/site-packages/torch_tensorrt/fx/tracer/acc_tracer/acc_tracer.py:546: UserWarning: acc_tracer does not support currently support models for training. Calling eval on model before tracing.\n",
      "  warnings.warn(\n",
      "/home/ubuntu/.conda/envs/dyn/lib/python3.8/site-packages/torch_tensorrt/fx/tracer/acc_tracer/acc_tracer.py:546: UserWarning: acc_tracer does not support currently support models for training. Calling eval on model before tracing.\n",
      "  warnings.warn(\n",
      "/home/ubuntu/.conda/envs/dyn/lib/python3.8/site-packages/torch/fx/operator_schemas.py:204: UserWarning: Does not support nested parametric types, got typing.List[~t]. Please file a bug.\n",
      "  warnings.warn(\n",
      "/home/ubuntu/.conda/envs/dyn/lib/python3.8/site-packages/torch_tensorrt/fx/tracer/acc_tracer/acc_tracer.py:546: UserWarning: acc_tracer does not support currently support models for training. Calling eval on model before tracing.\n",
      "  warnings.warn(\n",
      "/home/ubuntu/.conda/envs/dyn/lib/python3.8/site-packages/torch/fx/operator_schemas.py:180: UserWarning: We were not able to successfully create type hint from the type (slice(<class 'NoneType'>, <class 'NoneType'>, <class 'NoneType'>), slice(<class 'int'>, <class 'NoneType'>, <class 'NoneType'>))\n",
      "  warnings.warn(f\"We were not able to successfully create type hint from the type {x}\")\n"
     ]
    },
    {
     "name": "stdout",
     "output_type": "stream",
     "text": [
      "FX2TRT conversion failed on the subgraph. Return GraphModule forward instead\n",
      "ERROR torchdynamo.optimizations.backends: FX2TRT conversion error\n",
      "Traceback (most recent call last):\n",
      "  File \"/home/ubuntu/torchdynamo-test/torchdynamo/torchdynamo/optimizations/backends.py\", line 333, in fx2trt\n",
      "    splitter_setting = TRTSplitterSetting()\n",
      "  File \"/home/ubuntu/.conda/envs/dyn/lib/python3.8/site-packages/torch_tensorrt/fx/tools/trt_splitter.py\", line 52, in __init__\n",
      "    self.exclude_support_node_name: set = set(self.op_lowering_disallow_list)\n",
      "AttributeError: 'TRTSplitterSetting' object has no attribute 'op_lowering_disallow_list'\n",
      "FX2TRT conversion failed on the subgraph. Return GraphModule forward instead\n",
      "ERROR torchdynamo.optimizations.backends: FX2TRT conversion error\n",
      "Traceback (most recent call last):\n",
      "  File \"/home/ubuntu/torchdynamo-test/torchdynamo/torchdynamo/optimizations/backends.py\", line 333, in fx2trt\n",
      "    splitter_setting = TRTSplitterSetting()\n",
      "  File \"/home/ubuntu/.conda/envs/dyn/lib/python3.8/site-packages/torch_tensorrt/fx/tools/trt_splitter.py\", line 52, in __init__\n",
      "    self.exclude_support_node_name: set = set(self.op_lowering_disallow_list)\n",
      "AttributeError: 'TRTSplitterSetting' object has no attribute 'op_lowering_disallow_list'\n",
      "FX2TRT conversion failed on the subgraph. Return GraphModule forward instead\n",
      "ERROR torchdynamo.optimizations.backends: FX2TRT conversion error\n",
      "Traceback (most recent call last):\n",
      "  File \"/home/ubuntu/torchdynamo-test/torchdynamo/torchdynamo/optimizations/backends.py\", line 333, in fx2trt\n",
      "    splitter_setting = TRTSplitterSetting()\n",
      "  File \"/home/ubuntu/.conda/envs/dyn/lib/python3.8/site-packages/torch_tensorrt/fx/tools/trt_splitter.py\", line 52, in __init__\n",
      "    self.exclude_support_node_name: set = set(self.op_lowering_disallow_list)\n",
      "AttributeError: 'TRTSplitterSetting' object has no attribute 'op_lowering_disallow_list'\n"
     ]
    },
    {
     "name": "stderr",
     "output_type": "stream",
     "text": [
      "/home/ubuntu/.conda/envs/dyn/lib/python3.8/site-packages/torch_tensorrt/fx/tracer/acc_tracer/acc_tracer.py:546: UserWarning: acc_tracer does not support currently support models for training. Calling eval on model before tracing.\n",
      "  warnings.warn(\n",
      "/home/ubuntu/.conda/envs/dyn/lib/python3.8/site-packages/torch/fx/operator_schemas.py:180: UserWarning: We were not able to successfully create type hint from the type (slice(<class 'NoneType'>, <class 'NoneType'>, <class 'NoneType'>), <class 'NoneType'>, <class 'NoneType'>, slice(<class 'NoneType'>, <class 'NoneType'>, <class 'NoneType'>))\n",
      "  warnings.warn(f\"We were not able to successfully create type hint from the type {x}\")\n",
      "/home/ubuntu/.conda/envs/dyn/lib/python3.8/site-packages/torch_tensorrt/fx/tracer/acc_tracer/acc_tracer.py:546: UserWarning: acc_tracer does not support currently support models for training. Calling eval on model before tracing.\n",
      "  warnings.warn(\n"
     ]
    },
    {
     "name": "stdout",
     "output_type": "stream",
     "text": [
      "FX2TRT conversion failed on the subgraph. Return GraphModule forward instead\n"
     ]
    },
    {
     "name": "stderr",
     "output_type": "stream",
     "text": [
      "/home/ubuntu/.conda/envs/dyn/lib/python3.8/site-packages/torch_tensorrt/fx/tracer/acc_tracer/acc_tracer.py:546: UserWarning: acc_tracer does not support currently support models for training. Calling eval on model before tracing.\n",
      "  warnings.warn(\n"
     ]
    },
    {
     "name": "stdout",
     "output_type": "stream",
     "text": [
      "ERROR torchdynamo.optimizations.backends: FX2TRT conversion error\n",
      "Traceback (most recent call last):\n",
      "  File \"/home/ubuntu/torchdynamo-test/torchdynamo/torchdynamo/optimizations/backends.py\", line 333, in fx2trt\n",
      "    splitter_setting = TRTSplitterSetting()\n",
      "  File \"/home/ubuntu/.conda/envs/dyn/lib/python3.8/site-packages/torch_tensorrt/fx/tools/trt_splitter.py\", line 52, in __init__\n",
      "    self.exclude_support_node_name: set = set(self.op_lowering_disallow_list)\n",
      "AttributeError: 'TRTSplitterSetting' object has no attribute 'op_lowering_disallow_list'\n",
      "FX2TRT conversion failed on the subgraph. Return GraphModule forward instead\n",
      "ERROR torchdynamo.optimizations.backends: FX2TRT conversion error\n",
      "Traceback (most recent call last):\n",
      "  File \"/home/ubuntu/torchdynamo-test/torchdynamo/torchdynamo/optimizations/backends.py\", line 333, in fx2trt\n",
      "    splitter_setting = TRTSplitterSetting()\n",
      "  File \"/home/ubuntu/.conda/envs/dyn/lib/python3.8/site-packages/torch_tensorrt/fx/tools/trt_splitter.py\", line 52, in __init__\n",
      "    self.exclude_support_node_name: set = set(self.op_lowering_disallow_list)\n",
      "AttributeError: 'TRTSplitterSetting' object has no attribute 'op_lowering_disallow_list'\n",
      "FX2TRT conversion failed on the subgraph. Return GraphModule forward instead\n",
      "ERROR torchdynamo.optimizations.backends: FX2TRT conversion error\n",
      "Traceback (most recent call last):\n",
      "  File \"/home/ubuntu/torchdynamo-test/torchdynamo/torchdynamo/optimizations/backends.py\", line 333, in fx2trt\n",
      "    splitter_setting = TRTSplitterSetting()\n",
      "  File \"/home/ubuntu/.conda/envs/dyn/lib/python3.8/site-packages/torch_tensorrt/fx/tools/trt_splitter.py\", line 52, in __init__\n",
      "    self.exclude_support_node_name: set = set(self.op_lowering_disallow_list)\n",
      "AttributeError: 'TRTSplitterSetting' object has no attribute 'op_lowering_disallow_list'\n",
      "FX2TRT conversion failed on the subgraph. Return GraphModule forward instead\n",
      "ERROR torchdynamo.optimizations.backends: FX2TRT conversion error\n",
      "Traceback (most recent call last):\n",
      "  File \"/home/ubuntu/torchdynamo-test/torchdynamo/torchdynamo/optimizations/backends.py\", line 333, in fx2trt\n",
      "    splitter_setting = TRTSplitterSetting()\n",
      "  File \"/home/ubuntu/.conda/envs/dyn/lib/python3.8/site-packages/torch_tensorrt/fx/tools/trt_splitter.py\", line 52, in __init__\n",
      "    self.exclude_support_node_name: set = set(self.op_lowering_disallow_list)\n",
      "AttributeError: 'TRTSplitterSetting' object has no attribute 'op_lowering_disallow_list'\n"
     ]
    },
    {
     "name": "stderr",
     "output_type": "stream",
     "text": [
      "/home/ubuntu/.conda/envs/dyn/lib/python3.8/site-packages/torch_tensorrt/fx/tracer/acc_tracer/acc_tracer.py:546: UserWarning: acc_tracer does not support currently support models for training. Calling eval on model before tracing.\n",
      "  warnings.warn(\n",
      "/home/ubuntu/.conda/envs/dyn/lib/python3.8/site-packages/torch_tensorrt/fx/tracer/acc_tracer/acc_tracer.py:546: UserWarning: acc_tracer does not support currently support models for training. Calling eval on model before tracing.\n",
      "  warnings.warn(\n",
      "/home/ubuntu/.conda/envs/dyn/lib/python3.8/site-packages/torch_tensorrt/fx/tracer/acc_tracer/acc_tracer.py:546: UserWarning: acc_tracer does not support currently support models for training. Calling eval on model before tracing.\n",
      "  warnings.warn(\n",
      "/home/ubuntu/.conda/envs/dyn/lib/python3.8/site-packages/torch/fx/operator_schemas.py:204: UserWarning: Does not support nested parametric types, got typing.List[~t]. Please file a bug.\n",
      "  warnings.warn(\n",
      "/home/ubuntu/.conda/envs/dyn/lib/python3.8/site-packages/torch_tensorrt/fx/tracer/acc_tracer/acc_tracer.py:546: UserWarning: acc_tracer does not support currently support models for training. Calling eval on model before tracing.\n",
      "  warnings.warn(\n"
     ]
    },
    {
     "name": "stdout",
     "output_type": "stream",
     "text": [
      "FX2TRT conversion failed on the subgraph. Return GraphModule forward instead\n",
      "ERROR torchdynamo.optimizations.backends: FX2TRT conversion error\n",
      "Traceback (most recent call last):\n",
      "  File \"/home/ubuntu/torchdynamo-test/torchdynamo/torchdynamo/optimizations/backends.py\", line 333, in fx2trt\n",
      "    splitter_setting = TRTSplitterSetting()\n",
      "  File \"/home/ubuntu/.conda/envs/dyn/lib/python3.8/site-packages/torch_tensorrt/fx/tools/trt_splitter.py\", line 52, in __init__\n",
      "    self.exclude_support_node_name: set = set(self.op_lowering_disallow_list)\n",
      "AttributeError: 'TRTSplitterSetting' object has no attribute 'op_lowering_disallow_list'\n",
      "FX2TRT conversion failed on the subgraph. Return GraphModule forward instead\n"
     ]
    },
    {
     "name": "stderr",
     "output_type": "stream",
     "text": [
      "/home/ubuntu/.conda/envs/dyn/lib/python3.8/site-packages/torch/fx/operator_schemas.py:180: UserWarning: We were not able to successfully create type hint from the type (slice(<class 'NoneType'>, <class 'NoneType'>, <class 'NoneType'>), slice(<class 'int'>, <class 'NoneType'>, <class 'NoneType'>))\n",
      "  warnings.warn(f\"We were not able to successfully create type hint from the type {x}\")\n"
     ]
    },
    {
     "name": "stdout",
     "output_type": "stream",
     "text": [
      "ERROR torchdynamo.optimizations.backends: FX2TRT conversion error\n",
      "Traceback (most recent call last):\n",
      "  File \"/home/ubuntu/torchdynamo-test/torchdynamo/torchdynamo/optimizations/backends.py\", line 333, in fx2trt\n",
      "    splitter_setting = TRTSplitterSetting()\n",
      "  File \"/home/ubuntu/.conda/envs/dyn/lib/python3.8/site-packages/torch_tensorrt/fx/tools/trt_splitter.py\", line 52, in __init__\n",
      "    self.exclude_support_node_name: set = set(self.op_lowering_disallow_list)\n",
      "AttributeError: 'TRTSplitterSetting' object has no attribute 'op_lowering_disallow_list'\n",
      "FX2TRT conversion failed on the subgraph. Return GraphModule forward instead\n",
      "ERROR torchdynamo.optimizations.backends: FX2TRT conversion error\n",
      "Traceback (most recent call last):\n",
      "  File \"/home/ubuntu/torchdynamo-test/torchdynamo/torchdynamo/optimizations/backends.py\", line 333, in fx2trt\n",
      "    splitter_setting = TRTSplitterSetting()\n",
      "  File \"/home/ubuntu/.conda/envs/dyn/lib/python3.8/site-packages/torch_tensorrt/fx/tools/trt_splitter.py\", line 52, in __init__\n",
      "    self.exclude_support_node_name: set = set(self.op_lowering_disallow_list)\n",
      "AttributeError: 'TRTSplitterSetting' object has no attribute 'op_lowering_disallow_list'\n"
     ]
    },
    {
     "name": "stderr",
     "output_type": "stream",
     "text": [
      "/home/ubuntu/.conda/envs/dyn/lib/python3.8/site-packages/torch_tensorrt/fx/tracer/acc_tracer/acc_tracer.py:546: UserWarning: acc_tracer does not support currently support models for training. Calling eval on model before tracing.\n",
      "  warnings.warn(\n",
      "/home/ubuntu/.conda/envs/dyn/lib/python3.8/site-packages/torch/fx/operator_schemas.py:180: UserWarning: We were not able to successfully create type hint from the type (slice(<class 'NoneType'>, <class 'NoneType'>, <class 'NoneType'>), <class 'NoneType'>, <class 'NoneType'>, slice(<class 'NoneType'>, <class 'NoneType'>, <class 'NoneType'>))\n",
      "  warnings.warn(f\"We were not able to successfully create type hint from the type {x}\")\n",
      "/home/ubuntu/.conda/envs/dyn/lib/python3.8/site-packages/torch_tensorrt/fx/tracer/acc_tracer/acc_tracer.py:546: UserWarning: acc_tracer does not support currently support models for training. Calling eval on model before tracing.\n",
      "  warnings.warn(\n"
     ]
    },
    {
     "name": "stdout",
     "output_type": "stream",
     "text": [
      "FX2TRT conversion failed on the subgraph. Return GraphModule forward instead\n"
     ]
    },
    {
     "name": "stderr",
     "output_type": "stream",
     "text": [
      "/home/ubuntu/.conda/envs/dyn/lib/python3.8/site-packages/torch_tensorrt/fx/tracer/acc_tracer/acc_tracer.py:546: UserWarning: acc_tracer does not support currently support models for training. Calling eval on model before tracing.\n",
      "  warnings.warn(\n"
     ]
    },
    {
     "name": "stdout",
     "output_type": "stream",
     "text": [
      "ERROR torchdynamo.optimizations.backends: FX2TRT conversion error\n",
      "Traceback (most recent call last):\n",
      "  File \"/home/ubuntu/torchdynamo-test/torchdynamo/torchdynamo/optimizations/backends.py\", line 333, in fx2trt\n",
      "    splitter_setting = TRTSplitterSetting()\n",
      "  File \"/home/ubuntu/.conda/envs/dyn/lib/python3.8/site-packages/torch_tensorrt/fx/tools/trt_splitter.py\", line 52, in __init__\n",
      "    self.exclude_support_node_name: set = set(self.op_lowering_disallow_list)\n",
      "AttributeError: 'TRTSplitterSetting' object has no attribute 'op_lowering_disallow_list'\n",
      "FX2TRT conversion failed on the subgraph. Return GraphModule forward instead\n",
      "ERROR torchdynamo.optimizations.backends: FX2TRT conversion error\n",
      "Traceback (most recent call last):\n",
      "  File \"/home/ubuntu/torchdynamo-test/torchdynamo/torchdynamo/optimizations/backends.py\", line 333, in fx2trt\n",
      "    splitter_setting = TRTSplitterSetting()\n",
      "  File \"/home/ubuntu/.conda/envs/dyn/lib/python3.8/site-packages/torch_tensorrt/fx/tools/trt_splitter.py\", line 52, in __init__\n",
      "    self.exclude_support_node_name: set = set(self.op_lowering_disallow_list)\n",
      "AttributeError: 'TRTSplitterSetting' object has no attribute 'op_lowering_disallow_list'\n",
      "FX2TRT conversion failed on the subgraph. Return GraphModule forward instead\n",
      "ERROR torchdynamo.optimizations.backends: FX2TRT conversion error\n",
      "Traceback (most recent call last):\n",
      "  File \"/home/ubuntu/torchdynamo-test/torchdynamo/torchdynamo/optimizations/backends.py\", line 333, in fx2trt\n",
      "    splitter_setting = TRTSplitterSetting()\n",
      "  File \"/home/ubuntu/.conda/envs/dyn/lib/python3.8/site-packages/torch_tensorrt/fx/tools/trt_splitter.py\", line 52, in __init__\n",
      "    self.exclude_support_node_name: set = set(self.op_lowering_disallow_list)\n",
      "AttributeError: 'TRTSplitterSetting' object has no attribute 'op_lowering_disallow_list'\n",
      "FX2TRT conversion failed on the subgraph. Return GraphModule forward instead\n",
      "ERROR torchdynamo.optimizations.backends: FX2TRT conversion error\n",
      "Traceback (most recent call last):\n",
      "  File \"/home/ubuntu/torchdynamo-test/torchdynamo/torchdynamo/optimizations/backends.py\", line 333, in fx2trt\n",
      "    splitter_setting = TRTSplitterSetting()\n",
      "  File \"/home/ubuntu/.conda/envs/dyn/lib/python3.8/site-packages/torch_tensorrt/fx/tools/trt_splitter.py\", line 52, in __init__\n",
      "    self.exclude_support_node_name: set = set(self.op_lowering_disallow_list)\n",
      "AttributeError: 'TRTSplitterSetting' object has no attribute 'op_lowering_disallow_list'\n"
     ]
    },
    {
     "name": "stderr",
     "output_type": "stream",
     "text": [
      "/home/ubuntu/.conda/envs/dyn/lib/python3.8/site-packages/torch_tensorrt/fx/tracer/acc_tracer/acc_tracer.py:546: UserWarning: acc_tracer does not support currently support models for training. Calling eval on model before tracing.\n",
      "  warnings.warn(\n",
      "/home/ubuntu/.conda/envs/dyn/lib/python3.8/site-packages/torch_tensorrt/fx/tracer/acc_tracer/acc_tracer.py:546: UserWarning: acc_tracer does not support currently support models for training. Calling eval on model before tracing.\n",
      "  warnings.warn(\n",
      "/home/ubuntu/.conda/envs/dyn/lib/python3.8/site-packages/torch_tensorrt/fx/tracer/acc_tracer/acc_tracer.py:546: UserWarning: acc_tracer does not support currently support models for training. Calling eval on model before tracing.\n",
      "  warnings.warn(\n",
      "/home/ubuntu/.conda/envs/dyn/lib/python3.8/site-packages/torch/fx/operator_schemas.py:204: UserWarning: Does not support nested parametric types, got typing.List[~t]. Please file a bug.\n",
      "  warnings.warn(\n",
      "/home/ubuntu/.conda/envs/dyn/lib/python3.8/site-packages/torch_tensorrt/fx/tracer/acc_tracer/acc_tracer.py:546: UserWarning: acc_tracer does not support currently support models for training. Calling eval on model before tracing.\n",
      "  warnings.warn(\n"
     ]
    },
    {
     "name": "stdout",
     "output_type": "stream",
     "text": [
      "FX2TRT conversion failed on the subgraph. Return GraphModule forward instead\n",
      "ERROR torchdynamo.optimizations.backends: FX2TRT conversion error\n",
      "Traceback (most recent call last):\n",
      "  File \"/home/ubuntu/torchdynamo-test/torchdynamo/torchdynamo/optimizations/backends.py\", line 333, in fx2trt\n",
      "    splitter_setting = TRTSplitterSetting()\n",
      "  File \"/home/ubuntu/.conda/envs/dyn/lib/python3.8/site-packages/torch_tensorrt/fx/tools/trt_splitter.py\", line 52, in __init__\n",
      "    self.exclude_support_node_name: set = set(self.op_lowering_disallow_list)\n",
      "AttributeError: 'TRTSplitterSetting' object has no attribute 'op_lowering_disallow_list'\n",
      "FX2TRT conversion failed on the subgraph. Return GraphModule forward instead\n"
     ]
    },
    {
     "name": "stderr",
     "output_type": "stream",
     "text": [
      "/home/ubuntu/.conda/envs/dyn/lib/python3.8/site-packages/torch/fx/operator_schemas.py:180: UserWarning: We were not able to successfully create type hint from the type (slice(<class 'NoneType'>, <class 'NoneType'>, <class 'NoneType'>), slice(<class 'int'>, <class 'NoneType'>, <class 'NoneType'>))\n",
      "  warnings.warn(f\"We were not able to successfully create type hint from the type {x}\")\n"
     ]
    },
    {
     "name": "stdout",
     "output_type": "stream",
     "text": [
      "ERROR torchdynamo.optimizations.backends: FX2TRT conversion error\n",
      "Traceback (most recent call last):\n",
      "  File \"/home/ubuntu/torchdynamo-test/torchdynamo/torchdynamo/optimizations/backends.py\", line 333, in fx2trt\n",
      "    splitter_setting = TRTSplitterSetting()\n",
      "  File \"/home/ubuntu/.conda/envs/dyn/lib/python3.8/site-packages/torch_tensorrt/fx/tools/trt_splitter.py\", line 52, in __init__\n",
      "    self.exclude_support_node_name: set = set(self.op_lowering_disallow_list)\n",
      "AttributeError: 'TRTSplitterSetting' object has no attribute 'op_lowering_disallow_list'\n",
      "FX2TRT conversion failed on the subgraph. Return GraphModule forward instead\n",
      "ERROR torchdynamo.optimizations.backends: FX2TRT conversion error\n",
      "Traceback (most recent call last):\n",
      "  File \"/home/ubuntu/torchdynamo-test/torchdynamo/torchdynamo/optimizations/backends.py\", line 333, in fx2trt\n",
      "    splitter_setting = TRTSplitterSetting()\n",
      "  File \"/home/ubuntu/.conda/envs/dyn/lib/python3.8/site-packages/torch_tensorrt/fx/tools/trt_splitter.py\", line 52, in __init__\n",
      "    self.exclude_support_node_name: set = set(self.op_lowering_disallow_list)\n",
      "AttributeError: 'TRTSplitterSetting' object has no attribute 'op_lowering_disallow_list'\n"
     ]
    },
    {
     "name": "stderr",
     "output_type": "stream",
     "text": [
      "/home/ubuntu/.conda/envs/dyn/lib/python3.8/site-packages/torch_tensorrt/fx/tracer/acc_tracer/acc_tracer.py:546: UserWarning: acc_tracer does not support currently support models for training. Calling eval on model before tracing.\n",
      "  warnings.warn(\n",
      "/home/ubuntu/.conda/envs/dyn/lib/python3.8/site-packages/torch/fx/operator_schemas.py:180: UserWarning: We were not able to successfully create type hint from the type (slice(<class 'NoneType'>, <class 'NoneType'>, <class 'NoneType'>), <class 'NoneType'>, <class 'NoneType'>, slice(<class 'NoneType'>, <class 'NoneType'>, <class 'NoneType'>))\n",
      "  warnings.warn(f\"We were not able to successfully create type hint from the type {x}\")\n",
      "/home/ubuntu/.conda/envs/dyn/lib/python3.8/site-packages/torch_tensorrt/fx/tracer/acc_tracer/acc_tracer.py:546: UserWarning: acc_tracer does not support currently support models for training. Calling eval on model before tracing.\n",
      "  warnings.warn(\n"
     ]
    },
    {
     "name": "stdout",
     "output_type": "stream",
     "text": [
      "FX2TRT conversion failed on the subgraph. Return GraphModule forward instead\n"
     ]
    },
    {
     "name": "stderr",
     "output_type": "stream",
     "text": [
      "/home/ubuntu/.conda/envs/dyn/lib/python3.8/site-packages/torch_tensorrt/fx/tracer/acc_tracer/acc_tracer.py:546: UserWarning: acc_tracer does not support currently support models for training. Calling eval on model before tracing.\n",
      "  warnings.warn(\n"
     ]
    },
    {
     "name": "stdout",
     "output_type": "stream",
     "text": [
      "ERROR torchdynamo.optimizations.backends: FX2TRT conversion error\n",
      "Traceback (most recent call last):\n",
      "  File \"/home/ubuntu/torchdynamo-test/torchdynamo/torchdynamo/optimizations/backends.py\", line 333, in fx2trt\n",
      "    splitter_setting = TRTSplitterSetting()\n",
      "  File \"/home/ubuntu/.conda/envs/dyn/lib/python3.8/site-packages/torch_tensorrt/fx/tools/trt_splitter.py\", line 52, in __init__\n",
      "    self.exclude_support_node_name: set = set(self.op_lowering_disallow_list)\n",
      "AttributeError: 'TRTSplitterSetting' object has no attribute 'op_lowering_disallow_list'\n",
      "FX2TRT conversion failed on the subgraph. Return GraphModule forward instead\n",
      "ERROR torchdynamo.optimizations.backends: FX2TRT conversion error\n",
      "Traceback (most recent call last):\n",
      "  File \"/home/ubuntu/torchdynamo-test/torchdynamo/torchdynamo/optimizations/backends.py\", line 333, in fx2trt\n",
      "    splitter_setting = TRTSplitterSetting()\n",
      "  File \"/home/ubuntu/.conda/envs/dyn/lib/python3.8/site-packages/torch_tensorrt/fx/tools/trt_splitter.py\", line 52, in __init__\n",
      "    self.exclude_support_node_name: set = set(self.op_lowering_disallow_list)\n",
      "AttributeError: 'TRTSplitterSetting' object has no attribute 'op_lowering_disallow_list'\n",
      "FX2TRT conversion failed on the subgraph. Return GraphModule forward instead\n",
      "ERROR torchdynamo.optimizations.backends: FX2TRT conversion error\n",
      "Traceback (most recent call last):\n",
      "  File \"/home/ubuntu/torchdynamo-test/torchdynamo/torchdynamo/optimizations/backends.py\", line 333, in fx2trt\n",
      "    splitter_setting = TRTSplitterSetting()\n",
      "  File \"/home/ubuntu/.conda/envs/dyn/lib/python3.8/site-packages/torch_tensorrt/fx/tools/trt_splitter.py\", line 52, in __init__\n",
      "    self.exclude_support_node_name: set = set(self.op_lowering_disallow_list)\n",
      "AttributeError: 'TRTSplitterSetting' object has no attribute 'op_lowering_disallow_list'\n",
      "FX2TRT conversion failed on the subgraph. Return GraphModule forward instead\n",
      "ERROR torchdynamo.optimizations.backends: FX2TRT conversion error\n",
      "Traceback (most recent call last):\n",
      "  File \"/home/ubuntu/torchdynamo-test/torchdynamo/torchdynamo/optimizations/backends.py\", line 333, in fx2trt\n",
      "    splitter_setting = TRTSplitterSetting()\n",
      "  File \"/home/ubuntu/.conda/envs/dyn/lib/python3.8/site-packages/torch_tensorrt/fx/tools/trt_splitter.py\", line 52, in __init__\n",
      "    self.exclude_support_node_name: set = set(self.op_lowering_disallow_list)\n",
      "AttributeError: 'TRTSplitterSetting' object has no attribute 'op_lowering_disallow_list'\n"
     ]
    },
    {
     "name": "stderr",
     "output_type": "stream",
     "text": [
      "/home/ubuntu/.conda/envs/dyn/lib/python3.8/site-packages/torch_tensorrt/fx/tracer/acc_tracer/acc_tracer.py:546: UserWarning: acc_tracer does not support currently support models for training. Calling eval on model before tracing.\n",
      "  warnings.warn(\n",
      "/home/ubuntu/.conda/envs/dyn/lib/python3.8/site-packages/torch_tensorrt/fx/tracer/acc_tracer/acc_tracer.py:546: UserWarning: acc_tracer does not support currently support models for training. Calling eval on model before tracing.\n",
      "  warnings.warn(\n",
      "/home/ubuntu/.conda/envs/dyn/lib/python3.8/site-packages/torch_tensorrt/fx/tracer/acc_tracer/acc_tracer.py:546: UserWarning: acc_tracer does not support currently support models for training. Calling eval on model before tracing.\n",
      "  warnings.warn(\n",
      "/home/ubuntu/.conda/envs/dyn/lib/python3.8/site-packages/torch/fx/operator_schemas.py:204: UserWarning: Does not support nested parametric types, got typing.List[~t]. Please file a bug.\n",
      "  warnings.warn(\n",
      "/home/ubuntu/.conda/envs/dyn/lib/python3.8/site-packages/torch_tensorrt/fx/tracer/acc_tracer/acc_tracer.py:546: UserWarning: acc_tracer does not support currently support models for training. Calling eval on model before tracing.\n",
      "  warnings.warn(\n",
      "/home/ubuntu/.conda/envs/dyn/lib/python3.8/site-packages/torch/fx/operator_schemas.py:180: UserWarning: We were not able to successfully create type hint from the type (slice(<class 'NoneType'>, <class 'NoneType'>, <class 'NoneType'>), slice(<class 'int'>, <class 'NoneType'>, <class 'NoneType'>))\n",
      "  warnings.warn(f\"We were not able to successfully create type hint from the type {x}\")\n"
     ]
    },
    {
     "name": "stdout",
     "output_type": "stream",
     "text": [
      "FX2TRT conversion failed on the subgraph. Return GraphModule forward instead\n",
      "ERROR torchdynamo.optimizations.backends: FX2TRT conversion error\n",
      "Traceback (most recent call last):\n",
      "  File \"/home/ubuntu/torchdynamo-test/torchdynamo/torchdynamo/optimizations/backends.py\", line 333, in fx2trt\n",
      "    splitter_setting = TRTSplitterSetting()\n",
      "  File \"/home/ubuntu/.conda/envs/dyn/lib/python3.8/site-packages/torch_tensorrt/fx/tools/trt_splitter.py\", line 52, in __init__\n",
      "    self.exclude_support_node_name: set = set(self.op_lowering_disallow_list)\n",
      "AttributeError: 'TRTSplitterSetting' object has no attribute 'op_lowering_disallow_list'\n",
      "FX2TRT conversion failed on the subgraph. Return GraphModule forward instead\n",
      "ERROR torchdynamo.optimizations.backends: FX2TRT conversion error\n",
      "Traceback (most recent call last):\n",
      "  File \"/home/ubuntu/torchdynamo-test/torchdynamo/torchdynamo/optimizations/backends.py\", line 333, in fx2trt\n",
      "    splitter_setting = TRTSplitterSetting()\n",
      "  File \"/home/ubuntu/.conda/envs/dyn/lib/python3.8/site-packages/torch_tensorrt/fx/tools/trt_splitter.py\", line 52, in __init__\n",
      "    self.exclude_support_node_name: set = set(self.op_lowering_disallow_list)\n",
      "AttributeError: 'TRTSplitterSetting' object has no attribute 'op_lowering_disallow_list'\n",
      "FX2TRT conversion failed on the subgraph. Return GraphModule forward instead\n",
      "ERROR torchdynamo.optimizations.backends: FX2TRT conversion error\n",
      "Traceback (most recent call last):\n",
      "  File \"/home/ubuntu/torchdynamo-test/torchdynamo/torchdynamo/optimizations/backends.py\", line 333, in fx2trt\n",
      "    splitter_setting = TRTSplitterSetting()\n",
      "  File \"/home/ubuntu/.conda/envs/dyn/lib/python3.8/site-packages/torch_tensorrt/fx/tools/trt_splitter.py\", line 52, in __init__\n",
      "    self.exclude_support_node_name: set = set(self.op_lowering_disallow_list)\n",
      "AttributeError: 'TRTSplitterSetting' object has no attribute 'op_lowering_disallow_list'\n"
     ]
    },
    {
     "name": "stderr",
     "output_type": "stream",
     "text": [
      "/home/ubuntu/.conda/envs/dyn/lib/python3.8/site-packages/torch_tensorrt/fx/tracer/acc_tracer/acc_tracer.py:546: UserWarning: acc_tracer does not support currently support models for training. Calling eval on model before tracing.\n",
      "  warnings.warn(\n",
      "/home/ubuntu/.conda/envs/dyn/lib/python3.8/site-packages/torch/fx/operator_schemas.py:180: UserWarning: We were not able to successfully create type hint from the type (slice(<class 'NoneType'>, <class 'NoneType'>, <class 'NoneType'>), <class 'NoneType'>, <class 'NoneType'>, slice(<class 'NoneType'>, <class 'NoneType'>, <class 'NoneType'>))\n",
      "  warnings.warn(f\"We were not able to successfully create type hint from the type {x}\")\n",
      "/home/ubuntu/.conda/envs/dyn/lib/python3.8/site-packages/torch_tensorrt/fx/tracer/acc_tracer/acc_tracer.py:546: UserWarning: acc_tracer does not support currently support models for training. Calling eval on model before tracing.\n",
      "  warnings.warn(\n"
     ]
    },
    {
     "name": "stdout",
     "output_type": "stream",
     "text": [
      "FX2TRT conversion failed on the subgraph. Return GraphModule forward instead\n"
     ]
    },
    {
     "name": "stderr",
     "output_type": "stream",
     "text": [
      "/home/ubuntu/.conda/envs/dyn/lib/python3.8/site-packages/torch_tensorrt/fx/tracer/acc_tracer/acc_tracer.py:546: UserWarning: acc_tracer does not support currently support models for training. Calling eval on model before tracing.\n",
      "  warnings.warn(\n"
     ]
    },
    {
     "name": "stdout",
     "output_type": "stream",
     "text": [
      "ERROR torchdynamo.optimizations.backends: FX2TRT conversion error\n",
      "Traceback (most recent call last):\n",
      "  File \"/home/ubuntu/torchdynamo-test/torchdynamo/torchdynamo/optimizations/backends.py\", line 333, in fx2trt\n",
      "    splitter_setting = TRTSplitterSetting()\n",
      "  File \"/home/ubuntu/.conda/envs/dyn/lib/python3.8/site-packages/torch_tensorrt/fx/tools/trt_splitter.py\", line 52, in __init__\n",
      "    self.exclude_support_node_name: set = set(self.op_lowering_disallow_list)\n",
      "AttributeError: 'TRTSplitterSetting' object has no attribute 'op_lowering_disallow_list'\n",
      "FX2TRT conversion failed on the subgraph. Return GraphModule forward instead\n",
      "ERROR torchdynamo.optimizations.backends: FX2TRT conversion error\n",
      "Traceback (most recent call last):\n",
      "  File \"/home/ubuntu/torchdynamo-test/torchdynamo/torchdynamo/optimizations/backends.py\", line 333, in fx2trt\n",
      "    splitter_setting = TRTSplitterSetting()\n",
      "  File \"/home/ubuntu/.conda/envs/dyn/lib/python3.8/site-packages/torch_tensorrt/fx/tools/trt_splitter.py\", line 52, in __init__\n",
      "    self.exclude_support_node_name: set = set(self.op_lowering_disallow_list)\n",
      "AttributeError: 'TRTSplitterSetting' object has no attribute 'op_lowering_disallow_list'\n",
      "FX2TRT conversion failed on the subgraph. Return GraphModule forward instead\n",
      "ERROR torchdynamo.optimizations.backends: FX2TRT conversion error\n",
      "Traceback (most recent call last):\n",
      "  File \"/home/ubuntu/torchdynamo-test/torchdynamo/torchdynamo/optimizations/backends.py\", line 333, in fx2trt\n",
      "    splitter_setting = TRTSplitterSetting()\n",
      "  File \"/home/ubuntu/.conda/envs/dyn/lib/python3.8/site-packages/torch_tensorrt/fx/tools/trt_splitter.py\", line 52, in __init__\n",
      "    self.exclude_support_node_name: set = set(self.op_lowering_disallow_list)\n",
      "AttributeError: 'TRTSplitterSetting' object has no attribute 'op_lowering_disallow_list'\n",
      "FX2TRT conversion failed on the subgraph. Return GraphModule forward instead\n",
      "ERROR torchdynamo.optimizations.backends: FX2TRT conversion error\n",
      "Traceback (most recent call last):\n",
      "  File \"/home/ubuntu/torchdynamo-test/torchdynamo/torchdynamo/optimizations/backends.py\", line 333, in fx2trt\n",
      "    splitter_setting = TRTSplitterSetting()\n",
      "  File \"/home/ubuntu/.conda/envs/dyn/lib/python3.8/site-packages/torch_tensorrt/fx/tools/trt_splitter.py\", line 52, in __init__\n",
      "    self.exclude_support_node_name: set = set(self.op_lowering_disallow_list)\n",
      "AttributeError: 'TRTSplitterSetting' object has no attribute 'op_lowering_disallow_list'\n"
     ]
    },
    {
     "name": "stderr",
     "output_type": "stream",
     "text": [
      "/home/ubuntu/.conda/envs/dyn/lib/python3.8/site-packages/torch_tensorrt/fx/tracer/acc_tracer/acc_tracer.py:546: UserWarning: acc_tracer does not support currently support models for training. Calling eval on model before tracing.\n",
      "  warnings.warn(\n",
      "/home/ubuntu/.conda/envs/dyn/lib/python3.8/site-packages/torch_tensorrt/fx/tracer/acc_tracer/acc_tracer.py:546: UserWarning: acc_tracer does not support currently support models for training. Calling eval on model before tracing.\n",
      "  warnings.warn(\n",
      "/home/ubuntu/.conda/envs/dyn/lib/python3.8/site-packages/torch_tensorrt/fx/tracer/acc_tracer/acc_tracer.py:546: UserWarning: acc_tracer does not support currently support models for training. Calling eval on model before tracing.\n",
      "  warnings.warn(\n",
      "/home/ubuntu/.conda/envs/dyn/lib/python3.8/site-packages/torch/fx/operator_schemas.py:204: UserWarning: Does not support nested parametric types, got typing.List[~t]. Please file a bug.\n",
      "  warnings.warn(\n",
      "/home/ubuntu/.conda/envs/dyn/lib/python3.8/site-packages/torch_tensorrt/fx/tracer/acc_tracer/acc_tracer.py:546: UserWarning: acc_tracer does not support currently support models for training. Calling eval on model before tracing.\n",
      "  warnings.warn(\n"
     ]
    },
    {
     "name": "stdout",
     "output_type": "stream",
     "text": [
      "FX2TRT conversion failed on the subgraph. Return GraphModule forward instead\n",
      "ERROR torchdynamo.optimizations.backends: FX2TRT conversion error\n",
      "Traceback (most recent call last):\n",
      "  File \"/home/ubuntu/torchdynamo-test/torchdynamo/torchdynamo/optimizations/backends.py\", line 333, in fx2trt\n",
      "    splitter_setting = TRTSplitterSetting()\n",
      "  File \"/home/ubuntu/.conda/envs/dyn/lib/python3.8/site-packages/torch_tensorrt/fx/tools/trt_splitter.py\", line 52, in __init__\n",
      "    self.exclude_support_node_name: set = set(self.op_lowering_disallow_list)\n",
      "AttributeError: 'TRTSplitterSetting' object has no attribute 'op_lowering_disallow_list'\n",
      "FX2TRT conversion failed on the subgraph. Return GraphModule forward instead\n"
     ]
    },
    {
     "name": "stderr",
     "output_type": "stream",
     "text": [
      "/home/ubuntu/.conda/envs/dyn/lib/python3.8/site-packages/torch/fx/operator_schemas.py:180: UserWarning: We were not able to successfully create type hint from the type (slice(<class 'NoneType'>, <class 'NoneType'>, <class 'NoneType'>), slice(<class 'int'>, <class 'NoneType'>, <class 'NoneType'>))\n",
      "  warnings.warn(f\"We were not able to successfully create type hint from the type {x}\")\n"
     ]
    },
    {
     "name": "stdout",
     "output_type": "stream",
     "text": [
      "ERROR torchdynamo.optimizations.backends: FX2TRT conversion error\n",
      "Traceback (most recent call last):\n",
      "  File \"/home/ubuntu/torchdynamo-test/torchdynamo/torchdynamo/optimizations/backends.py\", line 333, in fx2trt\n",
      "    splitter_setting = TRTSplitterSetting()\n",
      "  File \"/home/ubuntu/.conda/envs/dyn/lib/python3.8/site-packages/torch_tensorrt/fx/tools/trt_splitter.py\", line 52, in __init__\n",
      "    self.exclude_support_node_name: set = set(self.op_lowering_disallow_list)\n",
      "AttributeError: 'TRTSplitterSetting' object has no attribute 'op_lowering_disallow_list'\n",
      "FX2TRT conversion failed on the subgraph. Return GraphModule forward instead\n",
      "ERROR torchdynamo.optimizations.backends: FX2TRT conversion error\n",
      "Traceback (most recent call last):\n",
      "  File \"/home/ubuntu/torchdynamo-test/torchdynamo/torchdynamo/optimizations/backends.py\", line 333, in fx2trt\n",
      "    splitter_setting = TRTSplitterSetting()\n",
      "  File \"/home/ubuntu/.conda/envs/dyn/lib/python3.8/site-packages/torch_tensorrt/fx/tools/trt_splitter.py\", line 52, in __init__\n",
      "    self.exclude_support_node_name: set = set(self.op_lowering_disallow_list)\n",
      "AttributeError: 'TRTSplitterSetting' object has no attribute 'op_lowering_disallow_list'\n"
     ]
    },
    {
     "name": "stderr",
     "output_type": "stream",
     "text": [
      "/home/ubuntu/.conda/envs/dyn/lib/python3.8/site-packages/torch_tensorrt/fx/tracer/acc_tracer/acc_tracer.py:546: UserWarning: acc_tracer does not support currently support models for training. Calling eval on model before tracing.\n",
      "  warnings.warn(\n",
      "/home/ubuntu/.conda/envs/dyn/lib/python3.8/site-packages/torch/fx/operator_schemas.py:180: UserWarning: We were not able to successfully create type hint from the type (slice(<class 'NoneType'>, <class 'NoneType'>, <class 'NoneType'>), <class 'NoneType'>, <class 'NoneType'>, slice(<class 'NoneType'>, <class 'NoneType'>, <class 'NoneType'>))\n",
      "  warnings.warn(f\"We were not able to successfully create type hint from the type {x}\")\n",
      "/home/ubuntu/.conda/envs/dyn/lib/python3.8/site-packages/torch_tensorrt/fx/tracer/acc_tracer/acc_tracer.py:546: UserWarning: acc_tracer does not support currently support models for training. Calling eval on model before tracing.\n",
      "  warnings.warn(\n"
     ]
    },
    {
     "name": "stdout",
     "output_type": "stream",
     "text": [
      "FX2TRT conversion failed on the subgraph. Return GraphModule forward instead\n"
     ]
    },
    {
     "name": "stderr",
     "output_type": "stream",
     "text": [
      "/home/ubuntu/.conda/envs/dyn/lib/python3.8/site-packages/torch_tensorrt/fx/tracer/acc_tracer/acc_tracer.py:546: UserWarning: acc_tracer does not support currently support models for training. Calling eval on model before tracing.\n",
      "  warnings.warn(\n"
     ]
    },
    {
     "name": "stdout",
     "output_type": "stream",
     "text": [
      "ERROR torchdynamo.optimizations.backends: FX2TRT conversion error\n",
      "Traceback (most recent call last):\n",
      "  File \"/home/ubuntu/torchdynamo-test/torchdynamo/torchdynamo/optimizations/backends.py\", line 333, in fx2trt\n",
      "    splitter_setting = TRTSplitterSetting()\n",
      "  File \"/home/ubuntu/.conda/envs/dyn/lib/python3.8/site-packages/torch_tensorrt/fx/tools/trt_splitter.py\", line 52, in __init__\n",
      "    self.exclude_support_node_name: set = set(self.op_lowering_disallow_list)\n",
      "AttributeError: 'TRTSplitterSetting' object has no attribute 'op_lowering_disallow_list'\n",
      "FX2TRT conversion failed on the subgraph. Return GraphModule forward instead\n",
      "ERROR torchdynamo.optimizations.backends: FX2TRT conversion error\n",
      "Traceback (most recent call last):\n",
      "  File \"/home/ubuntu/torchdynamo-test/torchdynamo/torchdynamo/optimizations/backends.py\", line 333, in fx2trt\n",
      "    splitter_setting = TRTSplitterSetting()\n",
      "  File \"/home/ubuntu/.conda/envs/dyn/lib/python3.8/site-packages/torch_tensorrt/fx/tools/trt_splitter.py\", line 52, in __init__\n",
      "    self.exclude_support_node_name: set = set(self.op_lowering_disallow_list)\n",
      "AttributeError: 'TRTSplitterSetting' object has no attribute 'op_lowering_disallow_list'\n",
      "FX2TRT conversion failed on the subgraph. Return GraphModule forward instead\n",
      "ERROR torchdynamo.optimizations.backends: FX2TRT conversion error\n",
      "Traceback (most recent call last):\n",
      "  File \"/home/ubuntu/torchdynamo-test/torchdynamo/torchdynamo/optimizations/backends.py\", line 333, in fx2trt\n",
      "    splitter_setting = TRTSplitterSetting()\n",
      "  File \"/home/ubuntu/.conda/envs/dyn/lib/python3.8/site-packages/torch_tensorrt/fx/tools/trt_splitter.py\", line 52, in __init__\n",
      "    self.exclude_support_node_name: set = set(self.op_lowering_disallow_list)\n",
      "AttributeError: 'TRTSplitterSetting' object has no attribute 'op_lowering_disallow_list'\n",
      "FX2TRT conversion failed on the subgraph. Return GraphModule forward instead\n",
      "ERROR torchdynamo.optimizations.backends: FX2TRT conversion error\n",
      "Traceback (most recent call last):\n",
      "  File \"/home/ubuntu/torchdynamo-test/torchdynamo/torchdynamo/optimizations/backends.py\", line 333, in fx2trt\n",
      "    splitter_setting = TRTSplitterSetting()\n",
      "  File \"/home/ubuntu/.conda/envs/dyn/lib/python3.8/site-packages/torch_tensorrt/fx/tools/trt_splitter.py\", line 52, in __init__\n",
      "    self.exclude_support_node_name: set = set(self.op_lowering_disallow_list)\n",
      "AttributeError: 'TRTSplitterSetting' object has no attribute 'op_lowering_disallow_list'\n"
     ]
    },
    {
     "name": "stderr",
     "output_type": "stream",
     "text": [
      "/home/ubuntu/.conda/envs/dyn/lib/python3.8/site-packages/torch_tensorrt/fx/tracer/acc_tracer/acc_tracer.py:546: UserWarning: acc_tracer does not support currently support models for training. Calling eval on model before tracing.\n",
      "  warnings.warn(\n",
      "/home/ubuntu/.conda/envs/dyn/lib/python3.8/site-packages/torch_tensorrt/fx/tracer/acc_tracer/acc_tracer.py:546: UserWarning: acc_tracer does not support currently support models for training. Calling eval on model before tracing.\n",
      "  warnings.warn(\n",
      "/home/ubuntu/.conda/envs/dyn/lib/python3.8/site-packages/torch_tensorrt/fx/tracer/acc_tracer/acc_tracer.py:546: UserWarning: acc_tracer does not support currently support models for training. Calling eval on model before tracing.\n",
      "  warnings.warn(\n",
      "/home/ubuntu/.conda/envs/dyn/lib/python3.8/site-packages/torch/fx/operator_schemas.py:204: UserWarning: Does not support nested parametric types, got typing.List[~t]. Please file a bug.\n",
      "  warnings.warn(\n"
     ]
    },
    {
     "name": "stdout",
     "output_type": "stream",
     "text": [
      "FX2TRT conversion failed on the subgraph. Return GraphModule forward instead\n",
      "ERROR torchdynamo.optimizations.backends: FX2TRT conversion error\n",
      "Traceback (most recent call last):\n",
      "  File \"/home/ubuntu/torchdynamo-test/torchdynamo/torchdynamo/optimizations/backends.py\", line 333, in fx2trt\n",
      "    splitter_setting = TRTSplitterSetting()\n",
      "  File \"/home/ubuntu/.conda/envs/dyn/lib/python3.8/site-packages/torch_tensorrt/fx/tools/trt_splitter.py\", line 52, in __init__\n",
      "    self.exclude_support_node_name: set = set(self.op_lowering_disallow_list)\n",
      "AttributeError: 'TRTSplitterSetting' object has no attribute 'op_lowering_disallow_list'\n",
      "FX2TRT conversion failed on the subgraph. Return GraphModule forward instead\n"
     ]
    },
    {
     "name": "stderr",
     "output_type": "stream",
     "text": [
      "/home/ubuntu/.conda/envs/dyn/lib/python3.8/site-packages/torch_tensorrt/fx/tracer/acc_tracer/acc_tracer.py:546: UserWarning: acc_tracer does not support currently support models for training. Calling eval on model before tracing.\n",
      "  warnings.warn(\n",
      "/home/ubuntu/.conda/envs/dyn/lib/python3.8/site-packages/torch/fx/operator_schemas.py:180: UserWarning: We were not able to successfully create type hint from the type (slice(<class 'NoneType'>, <class 'NoneType'>, <class 'NoneType'>), slice(<class 'int'>, <class 'NoneType'>, <class 'NoneType'>))\n",
      "  warnings.warn(f\"We were not able to successfully create type hint from the type {x}\")\n"
     ]
    },
    {
     "name": "stdout",
     "output_type": "stream",
     "text": [
      "ERROR torchdynamo.optimizations.backends: FX2TRT conversion error\n",
      "Traceback (most recent call last):\n",
      "  File \"/home/ubuntu/torchdynamo-test/torchdynamo/torchdynamo/optimizations/backends.py\", line 333, in fx2trt\n",
      "    splitter_setting = TRTSplitterSetting()\n",
      "  File \"/home/ubuntu/.conda/envs/dyn/lib/python3.8/site-packages/torch_tensorrt/fx/tools/trt_splitter.py\", line 52, in __init__\n",
      "    self.exclude_support_node_name: set = set(self.op_lowering_disallow_list)\n",
      "AttributeError: 'TRTSplitterSetting' object has no attribute 'op_lowering_disallow_list'\n",
      "FX2TRT conversion failed on the subgraph. Return GraphModule forward instead\n",
      "ERROR torchdynamo.optimizations.backends: FX2TRT conversion error\n",
      "Traceback (most recent call last):\n",
      "  File \"/home/ubuntu/torchdynamo-test/torchdynamo/torchdynamo/optimizations/backends.py\", line 333, in fx2trt\n",
      "    splitter_setting = TRTSplitterSetting()\n",
      "  File \"/home/ubuntu/.conda/envs/dyn/lib/python3.8/site-packages/torch_tensorrt/fx/tools/trt_splitter.py\", line 52, in __init__\n",
      "    self.exclude_support_node_name: set = set(self.op_lowering_disallow_list)\n",
      "AttributeError: 'TRTSplitterSetting' object has no attribute 'op_lowering_disallow_list'\n"
     ]
    },
    {
     "name": "stderr",
     "output_type": "stream",
     "text": [
      "/home/ubuntu/.conda/envs/dyn/lib/python3.8/site-packages/torch_tensorrt/fx/tracer/acc_tracer/acc_tracer.py:546: UserWarning: acc_tracer does not support currently support models for training. Calling eval on model before tracing.\n",
      "  warnings.warn(\n",
      "/home/ubuntu/.conda/envs/dyn/lib/python3.8/site-packages/torch/fx/operator_schemas.py:180: UserWarning: We were not able to successfully create type hint from the type (slice(<class 'NoneType'>, <class 'NoneType'>, <class 'NoneType'>), <class 'NoneType'>, <class 'NoneType'>, slice(<class 'NoneType'>, <class 'NoneType'>, <class 'NoneType'>))\n",
      "  warnings.warn(f\"We were not able to successfully create type hint from the type {x}\")\n",
      "/home/ubuntu/.conda/envs/dyn/lib/python3.8/site-packages/torch_tensorrt/fx/tracer/acc_tracer/acc_tracer.py:546: UserWarning: acc_tracer does not support currently support models for training. Calling eval on model before tracing.\n",
      "  warnings.warn(\n"
     ]
    },
    {
     "name": "stdout",
     "output_type": "stream",
     "text": [
      "FX2TRT conversion failed on the subgraph. Return GraphModule forward instead\n"
     ]
    },
    {
     "name": "stderr",
     "output_type": "stream",
     "text": [
      "/home/ubuntu/.conda/envs/dyn/lib/python3.8/site-packages/torch_tensorrt/fx/tracer/acc_tracer/acc_tracer.py:546: UserWarning: acc_tracer does not support currently support models for training. Calling eval on model before tracing.\n",
      "  warnings.warn(\n"
     ]
    },
    {
     "name": "stdout",
     "output_type": "stream",
     "text": [
      "ERROR torchdynamo.optimizations.backends: FX2TRT conversion error\n",
      "Traceback (most recent call last):\n",
      "  File \"/home/ubuntu/torchdynamo-test/torchdynamo/torchdynamo/optimizations/backends.py\", line 333, in fx2trt\n",
      "    splitter_setting = TRTSplitterSetting()\n",
      "  File \"/home/ubuntu/.conda/envs/dyn/lib/python3.8/site-packages/torch_tensorrt/fx/tools/trt_splitter.py\", line 52, in __init__\n",
      "    self.exclude_support_node_name: set = set(self.op_lowering_disallow_list)\n",
      "AttributeError: 'TRTSplitterSetting' object has no attribute 'op_lowering_disallow_list'\n",
      "FX2TRT conversion failed on the subgraph. Return GraphModule forward instead\n",
      "ERROR torchdynamo.optimizations.backends: FX2TRT conversion error\n",
      "Traceback (most recent call last):\n",
      "  File \"/home/ubuntu/torchdynamo-test/torchdynamo/torchdynamo/optimizations/backends.py\", line 333, in fx2trt\n",
      "    splitter_setting = TRTSplitterSetting()\n",
      "  File \"/home/ubuntu/.conda/envs/dyn/lib/python3.8/site-packages/torch_tensorrt/fx/tools/trt_splitter.py\", line 52, in __init__\n",
      "    self.exclude_support_node_name: set = set(self.op_lowering_disallow_list)\n",
      "AttributeError: 'TRTSplitterSetting' object has no attribute 'op_lowering_disallow_list'\n",
      "FX2TRT conversion failed on the subgraph. Return GraphModule forward instead\n",
      "ERROR torchdynamo.optimizations.backends: FX2TRT conversion error\n",
      "Traceback (most recent call last):\n",
      "  File \"/home/ubuntu/torchdynamo-test/torchdynamo/torchdynamo/optimizations/backends.py\", line 333, in fx2trt\n",
      "    splitter_setting = TRTSplitterSetting()\n",
      "  File \"/home/ubuntu/.conda/envs/dyn/lib/python3.8/site-packages/torch_tensorrt/fx/tools/trt_splitter.py\", line 52, in __init__\n",
      "    self.exclude_support_node_name: set = set(self.op_lowering_disallow_list)\n",
      "AttributeError: 'TRTSplitterSetting' object has no attribute 'op_lowering_disallow_list'\n",
      "FX2TRT conversion failed on the subgraph. Return GraphModule forward instead\n",
      "ERROR torchdynamo.optimizations.backends: FX2TRT conversion error\n",
      "Traceback (most recent call last):\n",
      "  File \"/home/ubuntu/torchdynamo-test/torchdynamo/torchdynamo/optimizations/backends.py\", line 333, in fx2trt\n",
      "    splitter_setting = TRTSplitterSetting()\n",
      "  File \"/home/ubuntu/.conda/envs/dyn/lib/python3.8/site-packages/torch_tensorrt/fx/tools/trt_splitter.py\", line 52, in __init__\n",
      "    self.exclude_support_node_name: set = set(self.op_lowering_disallow_list)\n",
      "AttributeError: 'TRTSplitterSetting' object has no attribute 'op_lowering_disallow_list'\n"
     ]
    },
    {
     "name": "stderr",
     "output_type": "stream",
     "text": [
      "/home/ubuntu/.conda/envs/dyn/lib/python3.8/site-packages/torch_tensorrt/fx/tracer/acc_tracer/acc_tracer.py:546: UserWarning: acc_tracer does not support currently support models for training. Calling eval on model before tracing.\n",
      "  warnings.warn(\n",
      "/home/ubuntu/.conda/envs/dyn/lib/python3.8/site-packages/torch_tensorrt/fx/tracer/acc_tracer/acc_tracer.py:546: UserWarning: acc_tracer does not support currently support models for training. Calling eval on model before tracing.\n",
      "  warnings.warn(\n",
      "/home/ubuntu/.conda/envs/dyn/lib/python3.8/site-packages/torch_tensorrt/fx/tracer/acc_tracer/acc_tracer.py:546: UserWarning: acc_tracer does not support currently support models for training. Calling eval on model before tracing.\n",
      "  warnings.warn(\n",
      "/home/ubuntu/.conda/envs/dyn/lib/python3.8/site-packages/torch/fx/operator_schemas.py:204: UserWarning: Does not support nested parametric types, got typing.List[~t]. Please file a bug.\n",
      "  warnings.warn(\n",
      "/home/ubuntu/.conda/envs/dyn/lib/python3.8/site-packages/torch_tensorrt/fx/tracer/acc_tracer/acc_tracer.py:546: UserWarning: acc_tracer does not support currently support models for training. Calling eval on model before tracing.\n",
      "  warnings.warn(\n"
     ]
    },
    {
     "name": "stdout",
     "output_type": "stream",
     "text": [
      "FX2TRT conversion failed on the subgraph. Return GraphModule forward instead\n",
      "ERROR torchdynamo.optimizations.backends: FX2TRT conversion error\n",
      "Traceback (most recent call last):\n",
      "  File \"/home/ubuntu/torchdynamo-test/torchdynamo/torchdynamo/optimizations/backends.py\", line 333, in fx2trt\n",
      "    splitter_setting = TRTSplitterSetting()\n",
      "  File \"/home/ubuntu/.conda/envs/dyn/lib/python3.8/site-packages/torch_tensorrt/fx/tools/trt_splitter.py\", line 52, in __init__\n",
      "    self.exclude_support_node_name: set = set(self.op_lowering_disallow_list)\n",
      "AttributeError: 'TRTSplitterSetting' object has no attribute 'op_lowering_disallow_list'\n",
      "FX2TRT conversion failed on the subgraph. Return GraphModule forward instead\n"
     ]
    },
    {
     "name": "stderr",
     "output_type": "stream",
     "text": [
      "/home/ubuntu/.conda/envs/dyn/lib/python3.8/site-packages/torch/fx/operator_schemas.py:180: UserWarning: We were not able to successfully create type hint from the type (slice(<class 'NoneType'>, <class 'NoneType'>, <class 'NoneType'>), slice(<class 'int'>, <class 'NoneType'>, <class 'NoneType'>))\n",
      "  warnings.warn(f\"We were not able to successfully create type hint from the type {x}\")\n"
     ]
    },
    {
     "name": "stdout",
     "output_type": "stream",
     "text": [
      "ERROR torchdynamo.optimizations.backends: FX2TRT conversion error\n",
      "Traceback (most recent call last):\n",
      "  File \"/home/ubuntu/torchdynamo-test/torchdynamo/torchdynamo/optimizations/backends.py\", line 333, in fx2trt\n",
      "    splitter_setting = TRTSplitterSetting()\n",
      "  File \"/home/ubuntu/.conda/envs/dyn/lib/python3.8/site-packages/torch_tensorrt/fx/tools/trt_splitter.py\", line 52, in __init__\n",
      "    self.exclude_support_node_name: set = set(self.op_lowering_disallow_list)\n",
      "AttributeError: 'TRTSplitterSetting' object has no attribute 'op_lowering_disallow_list'\n",
      "FX2TRT conversion failed on the subgraph. Return GraphModule forward instead\n",
      "ERROR torchdynamo.optimizations.backends: FX2TRT conversion error\n",
      "Traceback (most recent call last):\n",
      "  File \"/home/ubuntu/torchdynamo-test/torchdynamo/torchdynamo/optimizations/backends.py\", line 333, in fx2trt\n",
      "    splitter_setting = TRTSplitterSetting()\n",
      "  File \"/home/ubuntu/.conda/envs/dyn/lib/python3.8/site-packages/torch_tensorrt/fx/tools/trt_splitter.py\", line 52, in __init__\n",
      "    self.exclude_support_node_name: set = set(self.op_lowering_disallow_list)\n",
      "AttributeError: 'TRTSplitterSetting' object has no attribute 'op_lowering_disallow_list'\n"
     ]
    },
    {
     "name": "stderr",
     "output_type": "stream",
     "text": [
      "/home/ubuntu/.conda/envs/dyn/lib/python3.8/site-packages/torch_tensorrt/fx/tracer/acc_tracer/acc_tracer.py:546: UserWarning: acc_tracer does not support currently support models for training. Calling eval on model before tracing.\n",
      "  warnings.warn(\n",
      "/home/ubuntu/.conda/envs/dyn/lib/python3.8/site-packages/torch/fx/operator_schemas.py:180: UserWarning: We were not able to successfully create type hint from the type (slice(<class 'NoneType'>, <class 'NoneType'>, <class 'NoneType'>), <class 'NoneType'>, <class 'NoneType'>, slice(<class 'NoneType'>, <class 'NoneType'>, <class 'NoneType'>))\n",
      "  warnings.warn(f\"We were not able to successfully create type hint from the type {x}\")\n",
      "/home/ubuntu/.conda/envs/dyn/lib/python3.8/site-packages/torch_tensorrt/fx/tracer/acc_tracer/acc_tracer.py:546: UserWarning: acc_tracer does not support currently support models for training. Calling eval on model before tracing.\n",
      "  warnings.warn(\n"
     ]
    },
    {
     "name": "stdout",
     "output_type": "stream",
     "text": [
      "FX2TRT conversion failed on the subgraph. Return GraphModule forward instead\n"
     ]
    },
    {
     "name": "stderr",
     "output_type": "stream",
     "text": [
      "/home/ubuntu/.conda/envs/dyn/lib/python3.8/site-packages/torch_tensorrt/fx/tracer/acc_tracer/acc_tracer.py:546: UserWarning: acc_tracer does not support currently support models for training. Calling eval on model before tracing.\n",
      "  warnings.warn(\n"
     ]
    },
    {
     "name": "stdout",
     "output_type": "stream",
     "text": [
      "ERROR torchdynamo.optimizations.backends: FX2TRT conversion error\n",
      "Traceback (most recent call last):\n",
      "  File \"/home/ubuntu/torchdynamo-test/torchdynamo/torchdynamo/optimizations/backends.py\", line 333, in fx2trt\n",
      "    splitter_setting = TRTSplitterSetting()\n",
      "  File \"/home/ubuntu/.conda/envs/dyn/lib/python3.8/site-packages/torch_tensorrt/fx/tools/trt_splitter.py\", line 52, in __init__\n",
      "    self.exclude_support_node_name: set = set(self.op_lowering_disallow_list)\n",
      "AttributeError: 'TRTSplitterSetting' object has no attribute 'op_lowering_disallow_list'\n",
      "FX2TRT conversion failed on the subgraph. Return GraphModule forward instead\n",
      "ERROR torchdynamo.optimizations.backends: FX2TRT conversion error\n",
      "Traceback (most recent call last):\n",
      "  File \"/home/ubuntu/torchdynamo-test/torchdynamo/torchdynamo/optimizations/backends.py\", line 333, in fx2trt\n",
      "    splitter_setting = TRTSplitterSetting()\n",
      "  File \"/home/ubuntu/.conda/envs/dyn/lib/python3.8/site-packages/torch_tensorrt/fx/tools/trt_splitter.py\", line 52, in __init__\n",
      "    self.exclude_support_node_name: set = set(self.op_lowering_disallow_list)\n",
      "AttributeError: 'TRTSplitterSetting' object has no attribute 'op_lowering_disallow_list'\n",
      "FX2TRT conversion failed on the subgraph. Return GraphModule forward instead\n",
      "ERROR torchdynamo.optimizations.backends: FX2TRT conversion error\n",
      "Traceback (most recent call last):\n",
      "  File \"/home/ubuntu/torchdynamo-test/torchdynamo/torchdynamo/optimizations/backends.py\", line 333, in fx2trt\n",
      "    splitter_setting = TRTSplitterSetting()\n",
      "  File \"/home/ubuntu/.conda/envs/dyn/lib/python3.8/site-packages/torch_tensorrt/fx/tools/trt_splitter.py\", line 52, in __init__\n",
      "    self.exclude_support_node_name: set = set(self.op_lowering_disallow_list)\n",
      "AttributeError: 'TRTSplitterSetting' object has no attribute 'op_lowering_disallow_list'\n",
      "FX2TRT conversion failed on the subgraph. Return GraphModule forward instead\n",
      "ERROR torchdynamo.optimizations.backends: FX2TRT conversion error\n",
      "Traceback (most recent call last):\n",
      "  File \"/home/ubuntu/torchdynamo-test/torchdynamo/torchdynamo/optimizations/backends.py\", line 333, in fx2trt\n",
      "    splitter_setting = TRTSplitterSetting()\n",
      "  File \"/home/ubuntu/.conda/envs/dyn/lib/python3.8/site-packages/torch_tensorrt/fx/tools/trt_splitter.py\", line 52, in __init__\n",
      "    self.exclude_support_node_name: set = set(self.op_lowering_disallow_list)\n",
      "AttributeError: 'TRTSplitterSetting' object has no attribute 'op_lowering_disallow_list'\n"
     ]
    },
    {
     "name": "stderr",
     "output_type": "stream",
     "text": [
      "/home/ubuntu/.conda/envs/dyn/lib/python3.8/site-packages/torch_tensorrt/fx/tracer/acc_tracer/acc_tracer.py:546: UserWarning: acc_tracer does not support currently support models for training. Calling eval on model before tracing.\n",
      "  warnings.warn(\n",
      "/home/ubuntu/.conda/envs/dyn/lib/python3.8/site-packages/torch_tensorrt/fx/tracer/acc_tracer/acc_tracer.py:546: UserWarning: acc_tracer does not support currently support models for training. Calling eval on model before tracing.\n",
      "  warnings.warn(\n",
      "/home/ubuntu/.conda/envs/dyn/lib/python3.8/site-packages/torch_tensorrt/fx/tracer/acc_tracer/acc_tracer.py:546: UserWarning: acc_tracer does not support currently support models for training. Calling eval on model before tracing.\n",
      "  warnings.warn(\n",
      "/home/ubuntu/.conda/envs/dyn/lib/python3.8/site-packages/torch/fx/operator_schemas.py:204: UserWarning: Does not support nested parametric types, got typing.List[~t]. Please file a bug.\n",
      "  warnings.warn(\n",
      "/home/ubuntu/.conda/envs/dyn/lib/python3.8/site-packages/torch_tensorrt/fx/tracer/acc_tracer/acc_tracer.py:546: UserWarning: acc_tracer does not support currently support models for training. Calling eval on model before tracing.\n",
      "  warnings.warn(\n"
     ]
    },
    {
     "name": "stdout",
     "output_type": "stream",
     "text": [
      "FX2TRT conversion failed on the subgraph. Return GraphModule forward instead\n",
      "ERROR torchdynamo.optimizations.backends: FX2TRT conversion error\n",
      "Traceback (most recent call last):\n",
      "  File \"/home/ubuntu/torchdynamo-test/torchdynamo/torchdynamo/optimizations/backends.py\", line 333, in fx2trt\n",
      "    splitter_setting = TRTSplitterSetting()\n",
      "  File \"/home/ubuntu/.conda/envs/dyn/lib/python3.8/site-packages/torch_tensorrt/fx/tools/trt_splitter.py\", line 52, in __init__\n",
      "    self.exclude_support_node_name: set = set(self.op_lowering_disallow_list)\n",
      "AttributeError: 'TRTSplitterSetting' object has no attribute 'op_lowering_disallow_list'\n",
      "FX2TRT conversion failed on the subgraph. Return GraphModule forward instead\n"
     ]
    },
    {
     "name": "stderr",
     "output_type": "stream",
     "text": [
      "/home/ubuntu/.conda/envs/dyn/lib/python3.8/site-packages/torch/fx/operator_schemas.py:180: UserWarning: We were not able to successfully create type hint from the type (slice(<class 'NoneType'>, <class 'NoneType'>, <class 'NoneType'>), slice(<class 'int'>, <class 'NoneType'>, <class 'NoneType'>))\n",
      "  warnings.warn(f\"We were not able to successfully create type hint from the type {x}\")\n"
     ]
    },
    {
     "name": "stdout",
     "output_type": "stream",
     "text": [
      "ERROR torchdynamo.optimizations.backends: FX2TRT conversion error\n",
      "Traceback (most recent call last):\n",
      "  File \"/home/ubuntu/torchdynamo-test/torchdynamo/torchdynamo/optimizations/backends.py\", line 333, in fx2trt\n",
      "    splitter_setting = TRTSplitterSetting()\n",
      "  File \"/home/ubuntu/.conda/envs/dyn/lib/python3.8/site-packages/torch_tensorrt/fx/tools/trt_splitter.py\", line 52, in __init__\n",
      "    self.exclude_support_node_name: set = set(self.op_lowering_disallow_list)\n",
      "AttributeError: 'TRTSplitterSetting' object has no attribute 'op_lowering_disallow_list'\n",
      "FX2TRT conversion failed on the subgraph. Return GraphModule forward instead\n",
      "ERROR torchdynamo.optimizations.backends: FX2TRT conversion error\n",
      "Traceback (most recent call last):\n",
      "  File \"/home/ubuntu/torchdynamo-test/torchdynamo/torchdynamo/optimizations/backends.py\", line 333, in fx2trt\n",
      "    splitter_setting = TRTSplitterSetting()\n",
      "  File \"/home/ubuntu/.conda/envs/dyn/lib/python3.8/site-packages/torch_tensorrt/fx/tools/trt_splitter.py\", line 52, in __init__\n",
      "    self.exclude_support_node_name: set = set(self.op_lowering_disallow_list)\n",
      "AttributeError: 'TRTSplitterSetting' object has no attribute 'op_lowering_disallow_list'\n"
     ]
    },
    {
     "name": "stderr",
     "output_type": "stream",
     "text": [
      "/home/ubuntu/.conda/envs/dyn/lib/python3.8/site-packages/torch_tensorrt/fx/tracer/acc_tracer/acc_tracer.py:546: UserWarning: acc_tracer does not support currently support models for training. Calling eval on model before tracing.\n",
      "  warnings.warn(\n",
      "/home/ubuntu/.conda/envs/dyn/lib/python3.8/site-packages/torch/fx/operator_schemas.py:180: UserWarning: We were not able to successfully create type hint from the type (slice(<class 'NoneType'>, <class 'NoneType'>, <class 'NoneType'>), <class 'NoneType'>, <class 'NoneType'>, slice(<class 'NoneType'>, <class 'NoneType'>, <class 'NoneType'>))\n",
      "  warnings.warn(f\"We were not able to successfully create type hint from the type {x}\")\n",
      "/home/ubuntu/.conda/envs/dyn/lib/python3.8/site-packages/torch_tensorrt/fx/tracer/acc_tracer/acc_tracer.py:546: UserWarning: acc_tracer does not support currently support models for training. Calling eval on model before tracing.\n",
      "  warnings.warn(\n"
     ]
    },
    {
     "name": "stdout",
     "output_type": "stream",
     "text": [
      "FX2TRT conversion failed on the subgraph. Return GraphModule forward instead\n"
     ]
    },
    {
     "name": "stderr",
     "output_type": "stream",
     "text": [
      "/home/ubuntu/.conda/envs/dyn/lib/python3.8/site-packages/torch_tensorrt/fx/tracer/acc_tracer/acc_tracer.py:546: UserWarning: acc_tracer does not support currently support models for training. Calling eval on model before tracing.\n",
      "  warnings.warn(\n"
     ]
    },
    {
     "name": "stdout",
     "output_type": "stream",
     "text": [
      "ERROR torchdynamo.optimizations.backends: FX2TRT conversion error\n",
      "Traceback (most recent call last):\n",
      "  File \"/home/ubuntu/torchdynamo-test/torchdynamo/torchdynamo/optimizations/backends.py\", line 333, in fx2trt\n",
      "    splitter_setting = TRTSplitterSetting()\n",
      "  File \"/home/ubuntu/.conda/envs/dyn/lib/python3.8/site-packages/torch_tensorrt/fx/tools/trt_splitter.py\", line 52, in __init__\n",
      "    self.exclude_support_node_name: set = set(self.op_lowering_disallow_list)\n",
      "AttributeError: 'TRTSplitterSetting' object has no attribute 'op_lowering_disallow_list'\n",
      "FX2TRT conversion failed on the subgraph. Return GraphModule forward instead\n",
      "ERROR torchdynamo.optimizations.backends: FX2TRT conversion error\n",
      "Traceback (most recent call last):\n",
      "  File \"/home/ubuntu/torchdynamo-test/torchdynamo/torchdynamo/optimizations/backends.py\", line 333, in fx2trt\n",
      "    splitter_setting = TRTSplitterSetting()\n",
      "  File \"/home/ubuntu/.conda/envs/dyn/lib/python3.8/site-packages/torch_tensorrt/fx/tools/trt_splitter.py\", line 52, in __init__\n",
      "    self.exclude_support_node_name: set = set(self.op_lowering_disallow_list)\n",
      "AttributeError: 'TRTSplitterSetting' object has no attribute 'op_lowering_disallow_list'\n",
      "FX2TRT conversion failed on the subgraph. Return GraphModule forward instead\n",
      "ERROR torchdynamo.optimizations.backends: FX2TRT conversion error\n",
      "Traceback (most recent call last):\n",
      "  File \"/home/ubuntu/torchdynamo-test/torchdynamo/torchdynamo/optimizations/backends.py\", line 333, in fx2trt\n",
      "    splitter_setting = TRTSplitterSetting()\n",
      "  File \"/home/ubuntu/.conda/envs/dyn/lib/python3.8/site-packages/torch_tensorrt/fx/tools/trt_splitter.py\", line 52, in __init__\n",
      "    self.exclude_support_node_name: set = set(self.op_lowering_disallow_list)\n",
      "AttributeError: 'TRTSplitterSetting' object has no attribute 'op_lowering_disallow_list'\n",
      "FX2TRT conversion failed on the subgraph. Return GraphModule forward instead\n",
      "ERROR torchdynamo.optimizations.backends: FX2TRT conversion error\n",
      "Traceback (most recent call last):\n",
      "  File \"/home/ubuntu/torchdynamo-test/torchdynamo/torchdynamo/optimizations/backends.py\", line 333, in fx2trt\n",
      "    splitter_setting = TRTSplitterSetting()\n",
      "  File \"/home/ubuntu/.conda/envs/dyn/lib/python3.8/site-packages/torch_tensorrt/fx/tools/trt_splitter.py\", line 52, in __init__\n",
      "    self.exclude_support_node_name: set = set(self.op_lowering_disallow_list)\n",
      "AttributeError: 'TRTSplitterSetting' object has no attribute 'op_lowering_disallow_list'\n"
     ]
    },
    {
     "name": "stderr",
     "output_type": "stream",
     "text": [
      "/home/ubuntu/.conda/envs/dyn/lib/python3.8/site-packages/torch_tensorrt/fx/tracer/acc_tracer/acc_tracer.py:546: UserWarning: acc_tracer does not support currently support models for training. Calling eval on model before tracing.\n",
      "  warnings.warn(\n",
      "/home/ubuntu/.conda/envs/dyn/lib/python3.8/site-packages/torch_tensorrt/fx/tracer/acc_tracer/acc_tracer.py:546: UserWarning: acc_tracer does not support currently support models for training. Calling eval on model before tracing.\n",
      "  warnings.warn(\n",
      "/home/ubuntu/.conda/envs/dyn/lib/python3.8/site-packages/torch_tensorrt/fx/tracer/acc_tracer/acc_tracer.py:546: UserWarning: acc_tracer does not support currently support models for training. Calling eval on model before tracing.\n",
      "  warnings.warn(\n",
      "/home/ubuntu/.conda/envs/dyn/lib/python3.8/site-packages/torch/fx/operator_schemas.py:204: UserWarning: Does not support nested parametric types, got typing.List[~t]. Please file a bug.\n",
      "  warnings.warn(\n"
     ]
    },
    {
     "name": "stdout",
     "output_type": "stream",
     "text": [
      "FX2TRT conversion failed on the subgraph. Return GraphModule forward instead\n",
      "ERROR torchdynamo.optimizations.backends: FX2TRT conversion error\n",
      "Traceback (most recent call last):\n",
      "  File \"/home/ubuntu/torchdynamo-test/torchdynamo/torchdynamo/optimizations/backends.py\", line 333, in fx2trt\n",
      "    splitter_setting = TRTSplitterSetting()\n",
      "  File \"/home/ubuntu/.conda/envs/dyn/lib/python3.8/site-packages/torch_tensorrt/fx/tools/trt_splitter.py\", line 52, in __init__\n",
      "    self.exclude_support_node_name: set = set(self.op_lowering_disallow_list)\n",
      "AttributeError: 'TRTSplitterSetting' object has no attribute 'op_lowering_disallow_list'\n",
      "FX2TRT conversion failed on the subgraph. Return GraphModule forward instead\n"
     ]
    },
    {
     "name": "stderr",
     "output_type": "stream",
     "text": [
      "/home/ubuntu/.conda/envs/dyn/lib/python3.8/site-packages/torch_tensorrt/fx/tracer/acc_tracer/acc_tracer.py:546: UserWarning: acc_tracer does not support currently support models for training. Calling eval on model before tracing.\n",
      "  warnings.warn(\n",
      "/home/ubuntu/.conda/envs/dyn/lib/python3.8/site-packages/torch/fx/operator_schemas.py:180: UserWarning: We were not able to successfully create type hint from the type (slice(<class 'NoneType'>, <class 'NoneType'>, <class 'NoneType'>), slice(<class 'int'>, <class 'NoneType'>, <class 'NoneType'>))\n",
      "  warnings.warn(f\"We were not able to successfully create type hint from the type {x}\")\n"
     ]
    },
    {
     "name": "stdout",
     "output_type": "stream",
     "text": [
      "ERROR torchdynamo.optimizations.backends: FX2TRT conversion error\n",
      "Traceback (most recent call last):\n",
      "  File \"/home/ubuntu/torchdynamo-test/torchdynamo/torchdynamo/optimizations/backends.py\", line 333, in fx2trt\n",
      "    splitter_setting = TRTSplitterSetting()\n",
      "  File \"/home/ubuntu/.conda/envs/dyn/lib/python3.8/site-packages/torch_tensorrt/fx/tools/trt_splitter.py\", line 52, in __init__\n",
      "    self.exclude_support_node_name: set = set(self.op_lowering_disallow_list)\n",
      "AttributeError: 'TRTSplitterSetting' object has no attribute 'op_lowering_disallow_list'\n",
      "FX2TRT conversion failed on the subgraph. Return GraphModule forward instead\n",
      "ERROR torchdynamo.optimizations.backends: FX2TRT conversion error\n",
      "Traceback (most recent call last):\n",
      "  File \"/home/ubuntu/torchdynamo-test/torchdynamo/torchdynamo/optimizations/backends.py\", line 333, in fx2trt\n",
      "    splitter_setting = TRTSplitterSetting()\n",
      "  File \"/home/ubuntu/.conda/envs/dyn/lib/python3.8/site-packages/torch_tensorrt/fx/tools/trt_splitter.py\", line 52, in __init__\n",
      "    self.exclude_support_node_name: set = set(self.op_lowering_disallow_list)\n",
      "AttributeError: 'TRTSplitterSetting' object has no attribute 'op_lowering_disallow_list'\n"
     ]
    },
    {
     "name": "stderr",
     "output_type": "stream",
     "text": [
      "/home/ubuntu/.conda/envs/dyn/lib/python3.8/site-packages/torch_tensorrt/fx/tracer/acc_tracer/acc_tracer.py:546: UserWarning: acc_tracer does not support currently support models for training. Calling eval on model before tracing.\n",
      "  warnings.warn(\n",
      "/home/ubuntu/.conda/envs/dyn/lib/python3.8/site-packages/torch/fx/operator_schemas.py:180: UserWarning: We were not able to successfully create type hint from the type (slice(<class 'NoneType'>, <class 'NoneType'>, <class 'NoneType'>), <class 'NoneType'>, <class 'NoneType'>, slice(<class 'NoneType'>, <class 'NoneType'>, <class 'NoneType'>))\n",
      "  warnings.warn(f\"We were not able to successfully create type hint from the type {x}\")\n",
      "/home/ubuntu/.conda/envs/dyn/lib/python3.8/site-packages/torch_tensorrt/fx/tracer/acc_tracer/acc_tracer.py:546: UserWarning: acc_tracer does not support currently support models for training. Calling eval on model before tracing.\n",
      "  warnings.warn(\n"
     ]
    },
    {
     "name": "stdout",
     "output_type": "stream",
     "text": [
      "FX2TRT conversion failed on the subgraph. Return GraphModule forward instead\n"
     ]
    },
    {
     "name": "stderr",
     "output_type": "stream",
     "text": [
      "/home/ubuntu/.conda/envs/dyn/lib/python3.8/site-packages/torch_tensorrt/fx/tracer/acc_tracer/acc_tracer.py:546: UserWarning: acc_tracer does not support currently support models for training. Calling eval on model before tracing.\n",
      "  warnings.warn(\n"
     ]
    },
    {
     "name": "stdout",
     "output_type": "stream",
     "text": [
      "ERROR torchdynamo.optimizations.backends: FX2TRT conversion error\n",
      "Traceback (most recent call last):\n",
      "  File \"/home/ubuntu/torchdynamo-test/torchdynamo/torchdynamo/optimizations/backends.py\", line 333, in fx2trt\n",
      "    splitter_setting = TRTSplitterSetting()\n",
      "  File \"/home/ubuntu/.conda/envs/dyn/lib/python3.8/site-packages/torch_tensorrt/fx/tools/trt_splitter.py\", line 52, in __init__\n",
      "    self.exclude_support_node_name: set = set(self.op_lowering_disallow_list)\n",
      "AttributeError: 'TRTSplitterSetting' object has no attribute 'op_lowering_disallow_list'\n",
      "FX2TRT conversion failed on the subgraph. Return GraphModule forward instead\n",
      "ERROR torchdynamo.optimizations.backends: FX2TRT conversion error\n",
      "Traceback (most recent call last):\n",
      "  File \"/home/ubuntu/torchdynamo-test/torchdynamo/torchdynamo/optimizations/backends.py\", line 333, in fx2trt\n",
      "    splitter_setting = TRTSplitterSetting()\n",
      "  File \"/home/ubuntu/.conda/envs/dyn/lib/python3.8/site-packages/torch_tensorrt/fx/tools/trt_splitter.py\", line 52, in __init__\n",
      "    self.exclude_support_node_name: set = set(self.op_lowering_disallow_list)\n",
      "AttributeError: 'TRTSplitterSetting' object has no attribute 'op_lowering_disallow_list'\n",
      "FX2TRT conversion failed on the subgraph. Return GraphModule forward instead\n",
      "ERROR torchdynamo.optimizations.backends: FX2TRT conversion error\n",
      "Traceback (most recent call last):\n",
      "  File \"/home/ubuntu/torchdynamo-test/torchdynamo/torchdynamo/optimizations/backends.py\", line 333, in fx2trt\n",
      "    splitter_setting = TRTSplitterSetting()\n",
      "  File \"/home/ubuntu/.conda/envs/dyn/lib/python3.8/site-packages/torch_tensorrt/fx/tools/trt_splitter.py\", line 52, in __init__\n",
      "    self.exclude_support_node_name: set = set(self.op_lowering_disallow_list)\n",
      "AttributeError: 'TRTSplitterSetting' object has no attribute 'op_lowering_disallow_list'\n",
      "FX2TRT conversion failed on the subgraph. Return GraphModule forward instead\n",
      "ERROR torchdynamo.optimizations.backends: FX2TRT conversion error\n",
      "Traceback (most recent call last):\n",
      "  File \"/home/ubuntu/torchdynamo-test/torchdynamo/torchdynamo/optimizations/backends.py\", line 333, in fx2trt\n",
      "    splitter_setting = TRTSplitterSetting()\n",
      "  File \"/home/ubuntu/.conda/envs/dyn/lib/python3.8/site-packages/torch_tensorrt/fx/tools/trt_splitter.py\", line 52, in __init__\n",
      "    self.exclude_support_node_name: set = set(self.op_lowering_disallow_list)\n",
      "AttributeError: 'TRTSplitterSetting' object has no attribute 'op_lowering_disallow_list'\n"
     ]
    },
    {
     "name": "stderr",
     "output_type": "stream",
     "text": [
      "/home/ubuntu/.conda/envs/dyn/lib/python3.8/site-packages/torch_tensorrt/fx/tracer/acc_tracer/acc_tracer.py:546: UserWarning: acc_tracer does not support currently support models for training. Calling eval on model before tracing.\n",
      "  warnings.warn(\n",
      "/home/ubuntu/.conda/envs/dyn/lib/python3.8/site-packages/torch_tensorrt/fx/tracer/acc_tracer/acc_tracer.py:546: UserWarning: acc_tracer does not support currently support models for training. Calling eval on model before tracing.\n",
      "  warnings.warn(\n",
      "/home/ubuntu/.conda/envs/dyn/lib/python3.8/site-packages/torch_tensorrt/fx/tracer/acc_tracer/acc_tracer.py:546: UserWarning: acc_tracer does not support currently support models for training. Calling eval on model before tracing.\n",
      "  warnings.warn(\n",
      "/home/ubuntu/.conda/envs/dyn/lib/python3.8/site-packages/torch/fx/operator_schemas.py:204: UserWarning: Does not support nested parametric types, got typing.List[~t]. Please file a bug.\n",
      "  warnings.warn(\n"
     ]
    },
    {
     "name": "stdout",
     "output_type": "stream",
     "text": [
      "FX2TRT conversion failed on the subgraph. Return GraphModule forward instead\n",
      "ERROR torchdynamo.optimizations.backends: FX2TRT conversion error\n",
      "Traceback (most recent call last):\n",
      "  File \"/home/ubuntu/torchdynamo-test/torchdynamo/torchdynamo/optimizations/backends.py\", line 333, in fx2trt\n",
      "    splitter_setting = TRTSplitterSetting()\n",
      "  File \"/home/ubuntu/.conda/envs/dyn/lib/python3.8/site-packages/torch_tensorrt/fx/tools/trt_splitter.py\", line 52, in __init__\n",
      "    self.exclude_support_node_name: set = set(self.op_lowering_disallow_list)\n",
      "AttributeError: 'TRTSplitterSetting' object has no attribute 'op_lowering_disallow_list'\n",
      "FX2TRT conversion failed on the subgraph. Return GraphModule forward instead\n"
     ]
    },
    {
     "name": "stderr",
     "output_type": "stream",
     "text": [
      "/home/ubuntu/.conda/envs/dyn/lib/python3.8/site-packages/torch_tensorrt/fx/tracer/acc_tracer/acc_tracer.py:546: UserWarning: acc_tracer does not support currently support models for training. Calling eval on model before tracing.\n",
      "  warnings.warn(\n",
      "/home/ubuntu/.conda/envs/dyn/lib/python3.8/site-packages/torch/fx/operator_schemas.py:180: UserWarning: We were not able to successfully create type hint from the type (slice(<class 'NoneType'>, <class 'NoneType'>, <class 'NoneType'>), slice(<class 'int'>, <class 'NoneType'>, <class 'NoneType'>))\n",
      "  warnings.warn(f\"We were not able to successfully create type hint from the type {x}\")\n"
     ]
    },
    {
     "name": "stdout",
     "output_type": "stream",
     "text": [
      "ERROR torchdynamo.optimizations.backends: FX2TRT conversion error\n",
      "Traceback (most recent call last):\n",
      "  File \"/home/ubuntu/torchdynamo-test/torchdynamo/torchdynamo/optimizations/backends.py\", line 333, in fx2trt\n",
      "    splitter_setting = TRTSplitterSetting()\n",
      "  File \"/home/ubuntu/.conda/envs/dyn/lib/python3.8/site-packages/torch_tensorrt/fx/tools/trt_splitter.py\", line 52, in __init__\n",
      "    self.exclude_support_node_name: set = set(self.op_lowering_disallow_list)\n",
      "AttributeError: 'TRTSplitterSetting' object has no attribute 'op_lowering_disallow_list'\n",
      "FX2TRT conversion failed on the subgraph. Return GraphModule forward instead\n",
      "ERROR torchdynamo.optimizations.backends: FX2TRT conversion error\n",
      "Traceback (most recent call last):\n",
      "  File \"/home/ubuntu/torchdynamo-test/torchdynamo/torchdynamo/optimizations/backends.py\", line 333, in fx2trt\n",
      "    splitter_setting = TRTSplitterSetting()\n",
      "  File \"/home/ubuntu/.conda/envs/dyn/lib/python3.8/site-packages/torch_tensorrt/fx/tools/trt_splitter.py\", line 52, in __init__\n",
      "    self.exclude_support_node_name: set = set(self.op_lowering_disallow_list)\n",
      "AttributeError: 'TRTSplitterSetting' object has no attribute 'op_lowering_disallow_list'\n"
     ]
    },
    {
     "name": "stderr",
     "output_type": "stream",
     "text": [
      "/home/ubuntu/.conda/envs/dyn/lib/python3.8/site-packages/torch_tensorrt/fx/tracer/acc_tracer/acc_tracer.py:546: UserWarning: acc_tracer does not support currently support models for training. Calling eval on model before tracing.\n",
      "  warnings.warn(\n",
      "/home/ubuntu/.conda/envs/dyn/lib/python3.8/site-packages/torch/fx/operator_schemas.py:180: UserWarning: We were not able to successfully create type hint from the type (slice(<class 'NoneType'>, <class 'NoneType'>, <class 'NoneType'>), <class 'NoneType'>, <class 'NoneType'>, slice(<class 'NoneType'>, <class 'NoneType'>, <class 'NoneType'>))\n",
      "  warnings.warn(f\"We were not able to successfully create type hint from the type {x}\")\n",
      "/home/ubuntu/.conda/envs/dyn/lib/python3.8/site-packages/torch_tensorrt/fx/tracer/acc_tracer/acc_tracer.py:546: UserWarning: acc_tracer does not support currently support models for training. Calling eval on model before tracing.\n",
      "  warnings.warn(\n"
     ]
    },
    {
     "name": "stdout",
     "output_type": "stream",
     "text": [
      "FX2TRT conversion failed on the subgraph. Return GraphModule forward instead\n"
     ]
    },
    {
     "name": "stderr",
     "output_type": "stream",
     "text": [
      "/home/ubuntu/.conda/envs/dyn/lib/python3.8/site-packages/torch_tensorrt/fx/tracer/acc_tracer/acc_tracer.py:546: UserWarning: acc_tracer does not support currently support models for training. Calling eval on model before tracing.\n",
      "  warnings.warn(\n"
     ]
    },
    {
     "name": "stdout",
     "output_type": "stream",
     "text": [
      "ERROR torchdynamo.optimizations.backends: FX2TRT conversion error\n",
      "Traceback (most recent call last):\n",
      "  File \"/home/ubuntu/torchdynamo-test/torchdynamo/torchdynamo/optimizations/backends.py\", line 333, in fx2trt\n",
      "    splitter_setting = TRTSplitterSetting()\n",
      "  File \"/home/ubuntu/.conda/envs/dyn/lib/python3.8/site-packages/torch_tensorrt/fx/tools/trt_splitter.py\", line 52, in __init__\n",
      "    self.exclude_support_node_name: set = set(self.op_lowering_disallow_list)\n",
      "AttributeError: 'TRTSplitterSetting' object has no attribute 'op_lowering_disallow_list'\n",
      "FX2TRT conversion failed on the subgraph. Return GraphModule forward instead\n",
      "ERROR torchdynamo.optimizations.backends: FX2TRT conversion error\n",
      "Traceback (most recent call last):\n",
      "  File \"/home/ubuntu/torchdynamo-test/torchdynamo/torchdynamo/optimizations/backends.py\", line 333, in fx2trt\n",
      "    splitter_setting = TRTSplitterSetting()\n",
      "  File \"/home/ubuntu/.conda/envs/dyn/lib/python3.8/site-packages/torch_tensorrt/fx/tools/trt_splitter.py\", line 52, in __init__\n",
      "    self.exclude_support_node_name: set = set(self.op_lowering_disallow_list)\n",
      "AttributeError: 'TRTSplitterSetting' object has no attribute 'op_lowering_disallow_list'\n",
      "FX2TRT conversion failed on the subgraph. Return GraphModule forward instead\n",
      "ERROR torchdynamo.optimizations.backends: FX2TRT conversion error\n",
      "Traceback (most recent call last):\n",
      "  File \"/home/ubuntu/torchdynamo-test/torchdynamo/torchdynamo/optimizations/backends.py\", line 333, in fx2trt\n",
      "    splitter_setting = TRTSplitterSetting()\n",
      "  File \"/home/ubuntu/.conda/envs/dyn/lib/python3.8/site-packages/torch_tensorrt/fx/tools/trt_splitter.py\", line 52, in __init__\n",
      "    self.exclude_support_node_name: set = set(self.op_lowering_disallow_list)\n",
      "AttributeError: 'TRTSplitterSetting' object has no attribute 'op_lowering_disallow_list'\n",
      "FX2TRT conversion failed on the subgraph. Return GraphModule forward instead\n"
     ]
    },
    {
     "name": "stderr",
     "output_type": "stream",
     "text": [
      "/home/ubuntu/.conda/envs/dyn/lib/python3.8/site-packages/torch_tensorrt/fx/tracer/acc_tracer/acc_tracer.py:546: UserWarning: acc_tracer does not support currently support models for training. Calling eval on model before tracing.\n",
      "  warnings.warn(\n",
      "/home/ubuntu/.conda/envs/dyn/lib/python3.8/site-packages/torch_tensorrt/fx/tracer/acc_tracer/acc_tracer.py:546: UserWarning: acc_tracer does not support currently support models for training. Calling eval on model before tracing.\n",
      "  warnings.warn(\n",
      "/home/ubuntu/.conda/envs/dyn/lib/python3.8/site-packages/torch_tensorrt/fx/tracer/acc_tracer/acc_tracer.py:546: UserWarning: acc_tracer does not support currently support models for training. Calling eval on model before tracing.\n",
      "  warnings.warn(\n"
     ]
    },
    {
     "name": "stdout",
     "output_type": "stream",
     "text": [
      "ERROR torchdynamo.optimizations.backends: FX2TRT conversion error\n",
      "Traceback (most recent call last):\n",
      "  File \"/home/ubuntu/torchdynamo-test/torchdynamo/torchdynamo/optimizations/backends.py\", line 333, in fx2trt\n",
      "    splitter_setting = TRTSplitterSetting()\n",
      "  File \"/home/ubuntu/.conda/envs/dyn/lib/python3.8/site-packages/torch_tensorrt/fx/tools/trt_splitter.py\", line 52, in __init__\n",
      "    self.exclude_support_node_name: set = set(self.op_lowering_disallow_list)\n",
      "AttributeError: 'TRTSplitterSetting' object has no attribute 'op_lowering_disallow_list'\n",
      "FX2TRT conversion failed on the subgraph. Return GraphModule forward instead\n",
      "ERROR torchdynamo.optimizations.backends: FX2TRT conversion error\n",
      "Traceback (most recent call last):\n",
      "  File \"/home/ubuntu/torchdynamo-test/torchdynamo/torchdynamo/optimizations/backends.py\", line 333, in fx2trt\n",
      "    splitter_setting = TRTSplitterSetting()\n",
      "  File \"/home/ubuntu/.conda/envs/dyn/lib/python3.8/site-packages/torch_tensorrt/fx/tools/trt_splitter.py\", line 52, in __init__\n",
      "    self.exclude_support_node_name: set = set(self.op_lowering_disallow_list)\n",
      "AttributeError: 'TRTSplitterSetting' object has no attribute 'op_lowering_disallow_list'\n"
     ]
    },
    {
     "name": "stderr",
     "output_type": "stream",
     "text": [
      "/home/ubuntu/.conda/envs/dyn/lib/python3.8/site-packages/torch/fx/operator_schemas.py:204: UserWarning: Does not support nested parametric types, got typing.List[~t]. Please file a bug.\n",
      "  warnings.warn(\n",
      "/home/ubuntu/.conda/envs/dyn/lib/python3.8/site-packages/torch_tensorrt/fx/tracer/acc_tracer/acc_tracer.py:546: UserWarning: acc_tracer does not support currently support models for training. Calling eval on model before tracing.\n",
      "  warnings.warn(\n",
      "/home/ubuntu/.conda/envs/dyn/lib/python3.8/site-packages/torch/fx/operator_schemas.py:180: UserWarning: We were not able to successfully create type hint from the type (slice(<class 'NoneType'>, <class 'NoneType'>, <class 'NoneType'>), slice(<class 'int'>, <class 'NoneType'>, <class 'NoneType'>))\n",
      "  warnings.warn(f\"We were not able to successfully create type hint from the type {x}\")\n"
     ]
    },
    {
     "name": "stdout",
     "output_type": "stream",
     "text": [
      "FX2TRT conversion failed on the subgraph. Return GraphModule forward instead\n",
      "ERROR torchdynamo.optimizations.backends: FX2TRT conversion error\n",
      "Traceback (most recent call last):\n",
      "  File \"/home/ubuntu/torchdynamo-test/torchdynamo/torchdynamo/optimizations/backends.py\", line 333, in fx2trt\n",
      "    splitter_setting = TRTSplitterSetting()\n",
      "  File \"/home/ubuntu/.conda/envs/dyn/lib/python3.8/site-packages/torch_tensorrt/fx/tools/trt_splitter.py\", line 52, in __init__\n",
      "    self.exclude_support_node_name: set = set(self.op_lowering_disallow_list)\n",
      "AttributeError: 'TRTSplitterSetting' object has no attribute 'op_lowering_disallow_list'\n",
      "FX2TRT conversion failed on the subgraph. Return GraphModule forward instead\n",
      "ERROR torchdynamo.optimizations.backends: FX2TRT conversion error\n",
      "Traceback (most recent call last):\n",
      "  File \"/home/ubuntu/torchdynamo-test/torchdynamo/torchdynamo/optimizations/backends.py\", line 333, in fx2trt\n",
      "    splitter_setting = TRTSplitterSetting()\n",
      "  File \"/home/ubuntu/.conda/envs/dyn/lib/python3.8/site-packages/torch_tensorrt/fx/tools/trt_splitter.py\", line 52, in __init__\n",
      "    self.exclude_support_node_name: set = set(self.op_lowering_disallow_list)\n",
      "AttributeError: 'TRTSplitterSetting' object has no attribute 'op_lowering_disallow_list'\n"
     ]
    },
    {
     "name": "stderr",
     "output_type": "stream",
     "text": [
      "/home/ubuntu/.conda/envs/dyn/lib/python3.8/site-packages/torch_tensorrt/fx/tracer/acc_tracer/acc_tracer.py:546: UserWarning: acc_tracer does not support currently support models for training. Calling eval on model before tracing.\n",
      "  warnings.warn(\n",
      "/home/ubuntu/.conda/envs/dyn/lib/python3.8/site-packages/torch/fx/operator_schemas.py:180: UserWarning: We were not able to successfully create type hint from the type (slice(<class 'NoneType'>, <class 'NoneType'>, <class 'NoneType'>), <class 'NoneType'>, <class 'NoneType'>, slice(<class 'NoneType'>, <class 'NoneType'>, <class 'NoneType'>))\n",
      "  warnings.warn(f\"We were not able to successfully create type hint from the type {x}\")\n",
      "/home/ubuntu/.conda/envs/dyn/lib/python3.8/site-packages/torch_tensorrt/fx/tracer/acc_tracer/acc_tracer.py:546: UserWarning: acc_tracer does not support currently support models for training. Calling eval on model before tracing.\n",
      "  warnings.warn(\n"
     ]
    },
    {
     "name": "stdout",
     "output_type": "stream",
     "text": [
      "FX2TRT conversion failed on the subgraph. Return GraphModule forward instead\n"
     ]
    },
    {
     "name": "stderr",
     "output_type": "stream",
     "text": [
      "/home/ubuntu/.conda/envs/dyn/lib/python3.8/site-packages/torch_tensorrt/fx/tracer/acc_tracer/acc_tracer.py:546: UserWarning: acc_tracer does not support currently support models for training. Calling eval on model before tracing.\n",
      "  warnings.warn(\n"
     ]
    },
    {
     "name": "stdout",
     "output_type": "stream",
     "text": [
      "ERROR torchdynamo.optimizations.backends: FX2TRT conversion error\n",
      "Traceback (most recent call last):\n",
      "  File \"/home/ubuntu/torchdynamo-test/torchdynamo/torchdynamo/optimizations/backends.py\", line 333, in fx2trt\n",
      "    splitter_setting = TRTSplitterSetting()\n",
      "  File \"/home/ubuntu/.conda/envs/dyn/lib/python3.8/site-packages/torch_tensorrt/fx/tools/trt_splitter.py\", line 52, in __init__\n",
      "    self.exclude_support_node_name: set = set(self.op_lowering_disallow_list)\n",
      "AttributeError: 'TRTSplitterSetting' object has no attribute 'op_lowering_disallow_list'\n",
      "FX2TRT conversion failed on the subgraph. Return GraphModule forward instead\n",
      "ERROR torchdynamo.optimizations.backends: FX2TRT conversion error\n",
      "Traceback (most recent call last):\n",
      "  File \"/home/ubuntu/torchdynamo-test/torchdynamo/torchdynamo/optimizations/backends.py\", line 333, in fx2trt\n",
      "    splitter_setting = TRTSplitterSetting()\n",
      "  File \"/home/ubuntu/.conda/envs/dyn/lib/python3.8/site-packages/torch_tensorrt/fx/tools/trt_splitter.py\", line 52, in __init__\n",
      "    self.exclude_support_node_name: set = set(self.op_lowering_disallow_list)\n",
      "AttributeError: 'TRTSplitterSetting' object has no attribute 'op_lowering_disallow_list'\n",
      "FX2TRT conversion failed on the subgraph. Return GraphModule forward instead\n",
      "ERROR torchdynamo.optimizations.backends: FX2TRT conversion error\n",
      "Traceback (most recent call last):\n",
      "  File \"/home/ubuntu/torchdynamo-test/torchdynamo/torchdynamo/optimizations/backends.py\", line 333, in fx2trt\n",
      "    splitter_setting = TRTSplitterSetting()\n",
      "  File \"/home/ubuntu/.conda/envs/dyn/lib/python3.8/site-packages/torch_tensorrt/fx/tools/trt_splitter.py\", line 52, in __init__\n",
      "    self.exclude_support_node_name: set = set(self.op_lowering_disallow_list)\n",
      "AttributeError: 'TRTSplitterSetting' object has no attribute 'op_lowering_disallow_list'\n",
      "FX2TRT conversion failed on the subgraph. Return GraphModule forward instead\n",
      "ERROR torchdynamo.optimizations.backends: FX2TRT conversion error\n",
      "Traceback (most recent call last):\n",
      "  File \"/home/ubuntu/torchdynamo-test/torchdynamo/torchdynamo/optimizations/backends.py\", line 333, in fx2trt\n",
      "    splitter_setting = TRTSplitterSetting()\n",
      "  File \"/home/ubuntu/.conda/envs/dyn/lib/python3.8/site-packages/torch_tensorrt/fx/tools/trt_splitter.py\", line 52, in __init__\n",
      "    self.exclude_support_node_name: set = set(self.op_lowering_disallow_list)\n",
      "AttributeError: 'TRTSplitterSetting' object has no attribute 'op_lowering_disallow_list'\n",
      "FX2TRT conversion failed on the subgraph. Return GraphModule forward instead\n",
      "ERROR torchdynamo.optimizations.backends: FX2TRT conversion error\n",
      "Traceback (most recent call last):\n",
      "  File \"/home/ubuntu/torchdynamo-test/torchdynamo/torchdynamo/optimizations/backends.py\", line 333, in fx2trt\n",
      "    splitter_setting = TRTSplitterSetting()\n",
      "  File \"/home/ubuntu/.conda/envs/dyn/lib/python3.8/site-packages/torch_tensorrt/fx/tools/trt_splitter.py\", line 52, in __init__\n",
      "    self.exclude_support_node_name: set = set(self.op_lowering_disallow_list)\n",
      "AttributeError: 'TRTSplitterSetting' object has no attribute 'op_lowering_disallow_list'\n"
     ]
    },
    {
     "name": "stderr",
     "output_type": "stream",
     "text": [
      "/home/ubuntu/.conda/envs/dyn/lib/python3.8/site-packages/torch_tensorrt/fx/tracer/acc_tracer/acc_tracer.py:546: UserWarning: acc_tracer does not support currently support models for training. Calling eval on model before tracing.\n",
      "  warnings.warn(\n",
      "/home/ubuntu/.conda/envs/dyn/lib/python3.8/site-packages/torch_tensorrt/fx/tracer/acc_tracer/acc_tracer.py:546: UserWarning: acc_tracer does not support currently support models for training. Calling eval on model before tracing.\n",
      "  warnings.warn(\n",
      "/home/ubuntu/.conda/envs/dyn/lib/python3.8/site-packages/torch_tensorrt/fx/tracer/acc_tracer/acc_tracer.py:546: UserWarning: acc_tracer does not support currently support models for training. Calling eval on model before tracing.\n",
      "  warnings.warn(\n",
      "/home/ubuntu/.conda/envs/dyn/lib/python3.8/site-packages/torch/fx/operator_schemas.py:204: UserWarning: Does not support nested parametric types, got typing.List[~t]. Please file a bug.\n",
      "  warnings.warn(\n",
      "/home/ubuntu/.conda/envs/dyn/lib/python3.8/site-packages/torch_tensorrt/fx/tracer/acc_tracer/acc_tracer.py:546: UserWarning: acc_tracer does not support currently support models for training. Calling eval on model before tracing.\n",
      "  warnings.warn(\n",
      "/home/ubuntu/.conda/envs/dyn/lib/python3.8/site-packages/torch/fx/operator_schemas.py:180: UserWarning: We were not able to successfully create type hint from the type (slice(<class 'NoneType'>, <class 'NoneType'>, <class 'NoneType'>), slice(<class 'int'>, <class 'NoneType'>, <class 'NoneType'>))\n",
      "  warnings.warn(f\"We were not able to successfully create type hint from the type {x}\")\n"
     ]
    },
    {
     "name": "stdout",
     "output_type": "stream",
     "text": [
      "FX2TRT conversion failed on the subgraph. Return GraphModule forward instead\n",
      "ERROR torchdynamo.optimizations.backends: FX2TRT conversion error\n",
      "Traceback (most recent call last):\n",
      "  File \"/home/ubuntu/torchdynamo-test/torchdynamo/torchdynamo/optimizations/backends.py\", line 333, in fx2trt\n",
      "    splitter_setting = TRTSplitterSetting()\n",
      "  File \"/home/ubuntu/.conda/envs/dyn/lib/python3.8/site-packages/torch_tensorrt/fx/tools/trt_splitter.py\", line 52, in __init__\n",
      "    self.exclude_support_node_name: set = set(self.op_lowering_disallow_list)\n",
      "AttributeError: 'TRTSplitterSetting' object has no attribute 'op_lowering_disallow_list'\n",
      "FX2TRT conversion failed on the subgraph. Return GraphModule forward instead\n",
      "ERROR torchdynamo.optimizations.backends: FX2TRT conversion error\n",
      "Traceback (most recent call last):\n",
      "  File \"/home/ubuntu/torchdynamo-test/torchdynamo/torchdynamo/optimizations/backends.py\", line 333, in fx2trt\n",
      "    splitter_setting = TRTSplitterSetting()\n",
      "  File \"/home/ubuntu/.conda/envs/dyn/lib/python3.8/site-packages/torch_tensorrt/fx/tools/trt_splitter.py\", line 52, in __init__\n",
      "    self.exclude_support_node_name: set = set(self.op_lowering_disallow_list)\n",
      "AttributeError: 'TRTSplitterSetting' object has no attribute 'op_lowering_disallow_list'\n"
     ]
    },
    {
     "name": "stderr",
     "output_type": "stream",
     "text": [
      "/home/ubuntu/.conda/envs/dyn/lib/python3.8/site-packages/torch_tensorrt/fx/tracer/acc_tracer/acc_tracer.py:546: UserWarning: acc_tracer does not support currently support models for training. Calling eval on model before tracing.\n",
      "  warnings.warn(\n",
      "/home/ubuntu/.conda/envs/dyn/lib/python3.8/site-packages/torch/fx/operator_schemas.py:180: UserWarning: We were not able to successfully create type hint from the type (slice(<class 'NoneType'>, <class 'NoneType'>, <class 'NoneType'>), <class 'NoneType'>, <class 'NoneType'>, slice(<class 'NoneType'>, <class 'NoneType'>, <class 'NoneType'>))\n",
      "  warnings.warn(f\"We were not able to successfully create type hint from the type {x}\")\n",
      "/home/ubuntu/.conda/envs/dyn/lib/python3.8/site-packages/torch_tensorrt/fx/tracer/acc_tracer/acc_tracer.py:546: UserWarning: acc_tracer does not support currently support models for training. Calling eval on model before tracing.\n",
      "  warnings.warn(\n"
     ]
    },
    {
     "name": "stdout",
     "output_type": "stream",
     "text": [
      "FX2TRT conversion failed on the subgraph. Return GraphModule forward instead\n"
     ]
    },
    {
     "name": "stderr",
     "output_type": "stream",
     "text": [
      "/home/ubuntu/.conda/envs/dyn/lib/python3.8/site-packages/torch_tensorrt/fx/tracer/acc_tracer/acc_tracer.py:546: UserWarning: acc_tracer does not support currently support models for training. Calling eval on model before tracing.\n",
      "  warnings.warn(\n"
     ]
    }
   ],
   "source": [
    "with optimizer:\n",
    "    logits = model.generate(input_ids=input_ids)"
   ]
  },
  {
   "cell_type": "code",
   "execution_count": null,
   "metadata": {},
   "outputs": [],
   "source": []
  }
 ],
 "metadata": {
  "accelerator": "GPU",
  "colab": {
   "name": "Pegasus torchdynamo",
   "provenance": []
  },
  "gpuClass": "standard",
  "kernelspec": {
   "display_name": "Python 3.8.13 ('dyn': conda)",
   "language": "python",
   "name": "python3"
  },
  "language_info": {
   "codemirror_mode": {
    "name": "ipython",
    "version": 3
   },
   "file_extension": ".py",
   "mimetype": "text/x-python",
   "name": "python",
   "nbconvert_exporter": "python",
   "pygments_lexer": "ipython3",
   "version": "3.8.13"
  },
  "vscode": {
   "interpreter": {
    "hash": "9cfa6489e5497cc940601c880d674afbafad461f3ea665e322eb527a350a3170"
   }
  }
 },
 "nbformat": 4,
 "nbformat_minor": 1
}
